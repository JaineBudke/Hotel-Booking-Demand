{
  "nbformat": 4,
  "nbformat_minor": 0,
  "metadata": {
    "colab": {
      "provenance": [],
      "authorship_tag": "ABX9TyMtgFD8KyvecVzQVHfL5rl1"
    },
    "kernelspec": {
      "name": "python3",
      "display_name": "Python 3"
    },
    "language_info": {
      "name": "python"
    }
  },
  "cells": [
    {
      "cell_type": "markdown",
      "source": [
        "# Machine Learning Prediction"
      ],
      "metadata": {
        "id": "WvJDADwJi3wE"
      }
    },
    {
      "cell_type": "markdown",
      "source": [
        "Objetivos do projeto:\n",
        "- Construir um modelo para predição de cancelamento de uma reserva."
      ],
      "metadata": {
        "id": "vXhsp3Dxi_s1"
      }
    },
    {
      "cell_type": "markdown",
      "source": [
        "## Data Acquisition"
      ],
      "metadata": {
        "id": "Q_20VgyMjmUO"
      }
    },
    {
      "cell_type": "markdown",
      "source": [
        "Vamos importar as bibliotecas necessárias para essa parte da análise:"
      ],
      "metadata": {
        "id": "auD1Xv3Q7VST"
      }
    },
    {
      "cell_type": "code",
      "execution_count": 1,
      "metadata": {
        "id": "X_COtuzV0pwn"
      },
      "outputs": [],
      "source": [
        "import pandas as pd\n",
        "from sklearn.model_selection import train_test_split\n",
        "from sklearn import preprocessing"
      ]
    },
    {
      "cell_type": "markdown",
      "source": [
        "Vamos carregar o dataset e olhar para as primeiras linhas com o método `head`:"
      ],
      "metadata": {
        "id": "nGvQZDBQ7bQU"
      }
    },
    {
      "cell_type": "code",
      "source": [
        "df = pd.read_csv(\"hotel_bookings.csv\")"
      ],
      "metadata": {
        "id": "R8pV_xyz7Xc5"
      },
      "execution_count": 2,
      "outputs": []
    },
    {
      "cell_type": "markdown",
      "source": [
        "## Preprocessing"
      ],
      "metadata": {
        "id": "k8Nixycv7gps"
      }
    },
    {
      "cell_type": "markdown",
      "source": [
        "Vamos dar uma olhada nos atributos com valores nulos."
      ],
      "metadata": {
        "id": "wROkHu1oSm4L"
      }
    },
    {
      "cell_type": "code",
      "source": [
        "df.isnull().sum()"
      ],
      "metadata": {
        "colab": {
          "base_uri": "https://localhost:8080/"
        },
        "id": "hhkitPmYSp6d",
        "outputId": "06b40557-9457-4902-a374-7e2da478a21a"
      },
      "execution_count": 3,
      "outputs": [
        {
          "output_type": "execute_result",
          "data": {
            "text/plain": [
              "hotel                                  0\n",
              "is_canceled                            0\n",
              "lead_time                              0\n",
              "arrival_date_year                      0\n",
              "arrival_date_month                     0\n",
              "arrival_date_week_number               0\n",
              "arrival_date_day_of_month              0\n",
              "stays_in_weekend_nights                0\n",
              "stays_in_week_nights                   0\n",
              "adults                                 0\n",
              "children                               4\n",
              "babies                                 0\n",
              "meal                                   0\n",
              "country                              488\n",
              "market_segment                         0\n",
              "distribution_channel                   0\n",
              "is_repeated_guest                      0\n",
              "previous_cancellations                 0\n",
              "previous_bookings_not_canceled         0\n",
              "reserved_room_type                     0\n",
              "assigned_room_type                     0\n",
              "booking_changes                        0\n",
              "deposit_type                           0\n",
              "agent                              16340\n",
              "company                           112593\n",
              "days_in_waiting_list                   0\n",
              "customer_type                          0\n",
              "adr                                    0\n",
              "required_car_parking_spaces            0\n",
              "total_of_special_requests              0\n",
              "reservation_status                     0\n",
              "reservation_status_date                0\n",
              "dtype: int64"
            ]
          },
          "metadata": {},
          "execution_count": 3
        }
      ]
    },
    {
      "cell_type": "markdown",
      "source": [
        "Como os atributos mais significativos (como o `is_canceled`) não contém valores nulos, não precisamos excluir nenhum dado da base, apenas preenchemos os valores nulos:"
      ],
      "metadata": {
        "id": "_PRCZ_UXUzPO"
      }
    },
    {
      "cell_type": "code",
      "source": [
        "# preenchimento dos valores NaN com 0\n",
        "df['children'] = df['children'].fillna(0)\n",
        "\n",
        "# preenchimento dos valores NaN com a moda\n",
        "df['country'].fillna(df['country'].mode()[0], inplace=True)\n",
        "df['agent'].fillna(df['agent'].mode()[0], inplace=True)\n",
        "df['company'].fillna(df['company'].mode()[0], inplace=True)"
      ],
      "metadata": {
        "id": "M3IP8ScVS2Qt"
      },
      "execution_count": 4,
      "outputs": []
    },
    {
      "cell_type": "markdown",
      "source": [
        "Vamos dar uma olhada nos atributos do dataset:"
      ],
      "metadata": {
        "id": "QIIgOutqywRH"
      }
    },
    {
      "cell_type": "code",
      "source": [
        "df.info()"
      ],
      "metadata": {
        "id": "oSSCy-Cyyz0S",
        "colab": {
          "base_uri": "https://localhost:8080/"
        },
        "outputId": "73451919-672d-4c16-cf45-0c8d4822c534"
      },
      "execution_count": 5,
      "outputs": [
        {
          "output_type": "stream",
          "name": "stdout",
          "text": [
            "<class 'pandas.core.frame.DataFrame'>\n",
            "RangeIndex: 119390 entries, 0 to 119389\n",
            "Data columns (total 32 columns):\n",
            " #   Column                          Non-Null Count   Dtype  \n",
            "---  ------                          --------------   -----  \n",
            " 0   hotel                           119390 non-null  object \n",
            " 1   is_canceled                     119390 non-null  int64  \n",
            " 2   lead_time                       119390 non-null  int64  \n",
            " 3   arrival_date_year               119390 non-null  int64  \n",
            " 4   arrival_date_month              119390 non-null  object \n",
            " 5   arrival_date_week_number        119390 non-null  int64  \n",
            " 6   arrival_date_day_of_month       119390 non-null  int64  \n",
            " 7   stays_in_weekend_nights         119390 non-null  int64  \n",
            " 8   stays_in_week_nights            119390 non-null  int64  \n",
            " 9   adults                          119390 non-null  int64  \n",
            " 10  children                        119390 non-null  float64\n",
            " 11  babies                          119390 non-null  int64  \n",
            " 12  meal                            119390 non-null  object \n",
            " 13  country                         119390 non-null  object \n",
            " 14  market_segment                  119390 non-null  object \n",
            " 15  distribution_channel            119390 non-null  object \n",
            " 16  is_repeated_guest               119390 non-null  int64  \n",
            " 17  previous_cancellations          119390 non-null  int64  \n",
            " 18  previous_bookings_not_canceled  119390 non-null  int64  \n",
            " 19  reserved_room_type              119390 non-null  object \n",
            " 20  assigned_room_type              119390 non-null  object \n",
            " 21  booking_changes                 119390 non-null  int64  \n",
            " 22  deposit_type                    119390 non-null  object \n",
            " 23  agent                           119390 non-null  float64\n",
            " 24  company                         119390 non-null  float64\n",
            " 25  days_in_waiting_list            119390 non-null  int64  \n",
            " 26  customer_type                   119390 non-null  object \n",
            " 27  adr                             119390 non-null  float64\n",
            " 28  required_car_parking_spaces     119390 non-null  int64  \n",
            " 29  total_of_special_requests       119390 non-null  int64  \n",
            " 30  reservation_status              119390 non-null  object \n",
            " 31  reservation_status_date         119390 non-null  object \n",
            "dtypes: float64(4), int64(16), object(12)\n",
            "memory usage: 29.1+ MB\n"
          ]
        }
      ]
    },
    {
      "cell_type": "markdown",
      "source": [
        "Iremos manter sem alterações os atributos:\n",
        "`is_canceled`, `lead_time`, `arrival_date_year`, `arrival_date_week_number`,`arrival_date_day_of_month`, `adults`,\n",
        "`stays_in_weekend_nights`, `stays_in_week_nights`,`is_repeated_guest`, `booking_changes`,`days_in_waiting_list`, `adr`, `required_car_parking_spaces`, `total_of_special_requests`, `agent`, `company`.\n",
        "\n",
        "1. Iremos substituir os seguintes atributos: \n",
        "*   `children` e `babies` -> `kids` \n",
        "*   `previous_cancellations` e `previous_bookings_not_canceled` -> `total_bookings`\n",
        "*   `reserved_room_type`, `assigned_room_type` -> `same_room`\n",
        "\n",
        "2. Iremos remover os seguintes atributos:\n",
        "`meal`, `reservation_status_date`, `reservation_status`, `children`,`babies`,  `reserved_room_type`, `assigned_room_type`  \n",
        "\n",
        "3. E, por fim, temos alguns atributos com valores categóricos. Iremos converter os seguintes atributos para inteiro:\n",
        "`hotel`, `country`, `market_segment`, `distribution_channel`, `deposit_type`, `customer_type`, `arrival_date_month`\n",
        "\n"
      ],
      "metadata": {
        "id": "J4gtFvt1yKk2"
      }
    },
    {
      "cell_type": "markdown",
      "source": [
        "**1. Substituição dos atributos:**"
      ],
      "metadata": {
        "id": "uGCO-2dh1zVa"
      }
    },
    {
      "cell_type": "code",
      "source": [
        "# Agrupamento das colunas children e babies na coluna children\n",
        "df['has_children'] = df['children']+df['babies']\n",
        "df['has_children'] = df['has_children'].apply(lambda x: '1' if x >= 1 else '0')\n",
        "\n",
        "# Agrupamento das colunas previous_cancellations e previous_bookings_not_canceled na coluna total_bookings\n",
        "df['total_bookings'] = df['previous_cancellations']+df['previous_bookings_not_canceled']\n",
        "\n",
        "# Agrupamento das colunas assigned_room_type e reserved_room_type em uma nova coluna same_room\n",
        "def isSameRoom(row):\n",
        "    if row['assigned_room_type'] == row['reserved_room_type']:\n",
        "        return 1\n",
        "    else:\n",
        "        return 0\n",
        "\n",
        "df['same_room'] = df.apply(isSameRoom, axis=1)"
      ],
      "metadata": {
        "id": "trxHpXem1x-f"
      },
      "execution_count": 6,
      "outputs": []
    },
    {
      "cell_type": "markdown",
      "source": [
        "**2. Remoção dos atributos:**"
      ],
      "metadata": {
        "id": "Ak5ONTQ12_u9"
      }
    },
    {
      "cell_type": "code",
      "source": [
        "df.drop(['meal', 'children', \n",
        "         'babies', 'assigned_room_type', 'reserved_room_type',\n",
        "         'reservation_status', 'reservation_status_date'], axis=1, inplace=True)"
      ],
      "metadata": {
        "id": "7ArFuZLH3B-g"
      },
      "execution_count": 7,
      "outputs": []
    },
    {
      "cell_type": "markdown",
      "source": [
        "**3. Conversão dos atributos:**"
      ],
      "metadata": {
        "id": "TUM8vr2i3gDm"
      }
    },
    {
      "cell_type": "markdown",
      "source": [
        "Vamos converter os meses para valores inteiros:"
      ],
      "metadata": {
        "id": "V5m0B4FpRCGH"
      }
    },
    {
      "cell_type": "code",
      "source": [
        "monthMap = {'January':1, 'February':2, 'March':3, \n",
        "             'April':4, 'May':5, 'June':6, \n",
        "             'July':7, 'August':8, 'September':9, \n",
        "             'October':10, 'November':11, 'December':12}\n",
        "\n",
        "df['arrival_date_month'] = df['arrival_date_month'].replace(monthMap)"
      ],
      "metadata": {
        "id": "PTiKqyFiQr0o"
      },
      "execution_count": 8,
      "outputs": []
    },
    {
      "cell_type": "markdown",
      "source": [
        "Vamos conveter também as outras colunas com valores categóricos:"
      ],
      "metadata": {
        "id": "9z2uaXRVWu6b"
      }
    },
    {
      "cell_type": "code",
      "source": [
        "le = preprocessing.LabelEncoder()\n",
        "atts = ['hotel', 'country', 'market_segment', 'distribution_channel', \n",
        "        'deposit_type', 'customer_type']\n",
        "\n",
        "for att in atts:\n",
        "    df[att] = le.fit_transform(df[att])"
      ],
      "metadata": {
        "id": "FAR2Yp9nW0wB"
      },
      "execution_count": 9,
      "outputs": []
    },
    {
      "cell_type": "markdown",
      "source": [
        "## Prediction"
      ],
      "metadata": {
        "id": "YzikhNHsjskY"
      }
    },
    {
      "cell_type": "markdown",
      "source": [
        "Vamos dividir o conjunto de dados 80% para treino e 20% para teste:"
      ],
      "metadata": {
        "id": "LHHTbm5P8Zj3"
      }
    },
    {
      "cell_type": "code",
      "source": [
        "y = df['is_canceled']\n",
        "df.drop(['is_canceled'], axis='columns', inplace=True)\n",
        "\n",
        "X_train, X_test, y_train, y_test = train_test_split(df, y, test_size=0.2)"
      ],
      "metadata": {
        "id": "DRJiUznb8euK"
      },
      "execution_count": 10,
      "outputs": []
    },
    {
      "cell_type": "markdown",
      "source": [
        "Como temos um conjunto com atributos muito diversos, a falta de padronização pode enviesar o resultado para variáveis com maior ordem de grandeza. Vamos normalizar nossos dados deixando-os na mesma ordem de grandeza:\n",
        "\n"
      ],
      "metadata": {
        "id": "X6-_e67iYdQ2"
      }
    },
    {
      "cell_type": "code",
      "source": [
        "from sklearn.preprocessing import StandardScaler, MinMaxScaler\n",
        "\n",
        "scaler = MinMaxScaler()\n",
        "scaler.fit(X_train)\n",
        "X_train = scaler.transform(X_train)\n",
        "X_test = scaler.transform(X_test)"
      ],
      "metadata": {
        "id": "37xyboZ8Yp13"
      },
      "execution_count": null,
      "outputs": []
    },
    {
      "cell_type": "markdown",
      "source": [
        "Decision Tree:"
      ],
      "metadata": {
        "id": "mifNT-1dkICf"
      }
    },
    {
      "cell_type": "code",
      "source": [
        "from sklearn import tree\n",
        "\n",
        "from sklearn import metrics \n",
        "from sklearn.metrics import confusion_matrix\n",
        "\n",
        "# Create Decision Tree classifer object\n",
        "clf = tree.DecisionTreeClassifier(criterion=\"gini\", max_depth=15)\n",
        "\n",
        "# Train Decision Tree Classifer\n",
        "clf = clf.fit(X_train.values,y_train)\n",
        "\n",
        "# Predict the response for test dataset\n",
        "y_pred = clf.predict(X_test.values)\n",
        "\n",
        "#tree.plot_tree(clf)\n",
        "\n",
        "print(\"Accuracy:\",metrics.accuracy_score(y_test, y_pred))\n",
        "print(\"Precision:\",metrics.precision_score(y_test, y_pred))\n",
        "print(\"Recall:\",metrics.recall_score(y_test, y_pred))\n",
        "print(\"F1 score:\",metrics.f1_score(y_test, y_pred))\n",
        "\n",
        "print(\"Confusion Matrix: \")\n",
        "print(confusion_matrix(y_test, y_pred))"
      ],
      "metadata": {
        "id": "zyFT1VVRjzwO",
        "colab": {
          "base_uri": "https://localhost:8080/"
        },
        "outputId": "b039f2bc-0626-4f35-862b-c746e389646b"
      },
      "execution_count": 16,
      "outputs": [
        {
          "output_type": "stream",
          "name": "stdout",
          "text": [
            "Accuracy: 0.8645196415110143\n",
            "Precision: 0.8300279981334577\n",
            "Recall: 0.800067468795682\n",
            "F1 score: 0.8147724019467507\n",
            "Confusion Matrix: \n",
            "[[13528  1457]\n",
            " [ 1778  7115]]\n"
          ]
        }
      ]
    },
    {
      "cell_type": "markdown",
      "source": [
        "Vamos salvar o modelo em um arquivo:"
      ],
      "metadata": {
        "id": "D5lw6WCct3mM"
      }
    },
    {
      "cell_type": "code",
      "source": [
        "import pickle\n",
        "\n",
        "pickle.dump(clf, open('model.pkl','wb'))"
      ],
      "metadata": {
        "id": "GABjtJSBN8E3"
      },
      "execution_count": 21,
      "outputs": []
    },
    {
      "cell_type": "markdown",
      "source": [
        "Regressão Logística:"
      ],
      "metadata": {
        "id": "_js3Ikn5Y3f3"
      }
    },
    {
      "cell_type": "code",
      "source": [
        "from sklearn.linear_model import LogisticRegression\n",
        "\n",
        "# Logistic Regression\n",
        "logreg = LogisticRegression(max_iter=1000)\n",
        "logreg = logreg.fit(X_train, y_train)\n",
        "\n",
        "y_pred = logreg.predict(X_test)\n",
        "\n",
        "print(\"Accuracy:\",metrics.accuracy_score(y_test, y_pred))\n",
        "print(\"Precision:\",metrics.precision_score(y_test, y_pred))\n",
        "print(\"Recall:\",metrics.recall_score(y_test, y_pred))\n",
        "print(\"F1 score:\",metrics.f1_score(y_test, y_pred))\n",
        "\n",
        "print(\"Confusion Matrix: \")\n",
        "print(confusion_matrix(y_test, y_pred))"
      ],
      "metadata": {
        "id": "qZvauJRCY6rR",
        "colab": {
          "base_uri": "https://localhost:8080/"
        },
        "outputId": "dc393028-ba29-4f19-9ebe-97d5f13463c0"
      },
      "execution_count": null,
      "outputs": [
        {
          "output_type": "stream",
          "name": "stdout",
          "text": [
            "Accuracy: 0.7872099840857694\n",
            "Precision: 0.7980440856876746\n",
            "Recall: 0.5762806860217464\n",
            "F1 score: 0.669270324806353\n",
            "Confusion Matrix: \n",
            "[[13656  1301]\n",
            " [ 3780  5141]]\n"
          ]
        }
      ]
    },
    {
      "cell_type": "markdown",
      "source": [
        "SVM:"
      ],
      "metadata": {
        "id": "NhjmMdC1ZCb0"
      }
    },
    {
      "cell_type": "code",
      "source": [
        "from sklearn import svm\n",
        "from sklearn import metrics\n",
        "from sklearn.metrics import confusion_matrix\n",
        "\n",
        "# Cria um classificador SVM\n",
        "clf = svm.SVC(kernel='rbf') \n",
        "\n",
        "# Treina o modelo com os dados de treino\n",
        "clf.fit(X_train, y_train)\n",
        "\n",
        "# Faz a predição com os dados de teste\n",
        "y_pred = clf.predict(X_test)\n",
        "y_pred = y_pred > 0.5 \n",
        "\n",
        "print(\"Accuracy:\",metrics.accuracy_score(y_test, y_pred))\n",
        "print(\"Precision:\",metrics.precision_score(y_test, y_pred))\n",
        "print(\"Recall:\",metrics.recall_score(y_test, y_pred))\n",
        "print(\"F1 score:\",metrics.f1_score(y_test, y_pred))\n",
        "\n",
        "print(\"Confusion Matrix: \")\n",
        "print(confusion_matrix(y_test, y_pred))"
      ],
      "metadata": {
        "id": "8yyNJTKJZDQB",
        "colab": {
          "base_uri": "https://localhost:8080/"
        },
        "outputId": "44320177-d5a3-406e-f21c-0f07e1024618"
      },
      "execution_count": null,
      "outputs": [
        {
          "output_type": "stream",
          "name": "stdout",
          "text": [
            "Accuracy: 0.8245246670575425\n",
            "Precision: 0.832\n",
            "Recall: 0.6644994955722453\n",
            "F1 score: 0.7388757322697246\n",
            "Confusion Matrix: \n",
            "[[13760  1197]\n",
            " [ 2993  5928]]\n"
          ]
        }
      ]
    },
    {
      "cell_type": "markdown",
      "source": [
        "MLP:"
      ],
      "metadata": {
        "id": "FYiOf4VcZver"
      }
    },
    {
      "cell_type": "code",
      "source": [
        "import tensorflow as tf\n",
        "from tensorflow.keras import layers\n",
        "from tensorflow.keras.optimizers import SGD\n",
        "\n",
        "# create model with one hidden layer and one output layer\n",
        "model = tf.keras.Sequential([\n",
        "  layers.Dense(5, \n",
        "               activation=tf.nn.relu,\n",
        "               kernel_initializer=tf.keras.initializers.RandomNormal(mean=0,stddev=1),\n",
        "               ),\n",
        "  layers.Dense(1, \n",
        "               activation=tf.nn.sigmoid) \n",
        "])\n",
        "\n",
        "# set error function, optimizer and avaliation metric\n",
        "model.compile(loss='MeanSquaredError', \n",
        "              optimizer=SGD(lr=0.01, momentum=0.9), \n",
        "              metrics=['accuracy'])\n",
        "\n",
        "\n",
        "# train the model\n",
        "history = model.fit(x=X_train,\n",
        "                    y=y_train,\n",
        "                    epochs=100,\n",
        "                    validation_data=(X_test, y_test),\n",
        "                    verbose=1)"
      ],
      "metadata": {
        "id": "pMujJ5n1ZwC0",
        "colab": {
          "base_uri": "https://localhost:8080/"
        },
        "outputId": "0b1c7079-5213-4e82-ba39-f6c4dec9045e"
      },
      "execution_count": null,
      "outputs": [
        {
          "output_type": "stream",
          "name": "stdout",
          "text": [
            "Epoch 1/100\n",
            "2985/2985 [==============================] - 5s 2ms/step - loss: 0.1904 - accuracy: 0.7190 - val_loss: 0.1682 - val_accuracy: 0.7467\n",
            "Epoch 2/100\n",
            "2985/2985 [==============================] - 5s 2ms/step - loss: 0.1609 - accuracy: 0.7619 - val_loss: 0.1560 - val_accuracy: 0.7719\n",
            "Epoch 3/100\n",
            "2985/2985 [==============================] - 5s 2ms/step - loss: 0.1515 - accuracy: 0.7775 - val_loss: 0.1492 - val_accuracy: 0.7806\n",
            "Epoch 4/100\n",
            "2985/2985 [==============================] - 5s 2ms/step - loss: 0.1469 - accuracy: 0.7822 - val_loss: 0.1451 - val_accuracy: 0.7860\n",
            "Epoch 5/100\n",
            "2985/2985 [==============================] - 5s 2ms/step - loss: 0.1440 - accuracy: 0.7870 - val_loss: 0.1428 - val_accuracy: 0.7901\n",
            "Epoch 6/100\n",
            "2985/2985 [==============================] - 5s 2ms/step - loss: 0.1419 - accuracy: 0.7907 - val_loss: 0.1408 - val_accuracy: 0.7927\n",
            "Epoch 7/100\n",
            "2985/2985 [==============================] - 5s 2ms/step - loss: 0.1399 - accuracy: 0.7930 - val_loss: 0.1387 - val_accuracy: 0.7954\n",
            "Epoch 8/100\n",
            "2985/2985 [==============================] - 5s 2ms/step - loss: 0.1378 - accuracy: 0.7985 - val_loss: 0.1368 - val_accuracy: 0.7973\n",
            "Epoch 9/100\n",
            "2985/2985 [==============================] - 5s 2ms/step - loss: 0.1365 - accuracy: 0.7997 - val_loss: 0.1357 - val_accuracy: 0.8009\n",
            "Epoch 10/100\n",
            "2985/2985 [==============================] - 5s 2ms/step - loss: 0.1354 - accuracy: 0.8010 - val_loss: 0.1347 - val_accuracy: 0.8016\n",
            "Epoch 11/100\n",
            "2985/2985 [==============================] - 5s 2ms/step - loss: 0.1346 - accuracy: 0.8017 - val_loss: 0.1350 - val_accuracy: 0.7971\n",
            "Epoch 12/100\n",
            "2985/2985 [==============================] - 5s 2ms/step - loss: 0.1340 - accuracy: 0.8029 - val_loss: 0.1339 - val_accuracy: 0.7991\n",
            "Epoch 13/100\n",
            "2985/2985 [==============================] - 5s 2ms/step - loss: 0.1336 - accuracy: 0.8038 - val_loss: 0.1332 - val_accuracy: 0.8056\n",
            "Epoch 14/100\n",
            "2985/2985 [==============================] - 5s 2ms/step - loss: 0.1331 - accuracy: 0.8041 - val_loss: 0.1325 - val_accuracy: 0.8012\n",
            "Epoch 15/100\n",
            "2985/2985 [==============================] - 5s 2ms/step - loss: 0.1327 - accuracy: 0.8044 - val_loss: 0.1327 - val_accuracy: 0.8002\n",
            "Epoch 16/100\n",
            "2985/2985 [==============================] - 5s 2ms/step - loss: 0.1324 - accuracy: 0.8042 - val_loss: 0.1363 - val_accuracy: 0.7918\n",
            "Epoch 17/100\n",
            "2985/2985 [==============================] - 5s 2ms/step - loss: 0.1323 - accuracy: 0.8044 - val_loss: 0.1350 - val_accuracy: 0.7936\n",
            "Epoch 18/100\n",
            "2985/2985 [==============================] - 5s 2ms/step - loss: 0.1318 - accuracy: 0.8058 - val_loss: 0.1318 - val_accuracy: 0.8082\n",
            "Epoch 19/100\n",
            "2985/2985 [==============================] - 5s 2ms/step - loss: 0.1316 - accuracy: 0.8056 - val_loss: 0.1314 - val_accuracy: 0.8040\n",
            "Epoch 20/100\n",
            "2985/2985 [==============================] - 5s 2ms/step - loss: 0.1313 - accuracy: 0.8064 - val_loss: 0.1305 - val_accuracy: 0.8091\n",
            "Epoch 21/100\n",
            "2985/2985 [==============================] - 5s 2ms/step - loss: 0.1310 - accuracy: 0.8071 - val_loss: 0.1319 - val_accuracy: 0.7990\n",
            "Epoch 22/100\n",
            "2985/2985 [==============================] - 5s 2ms/step - loss: 0.1312 - accuracy: 0.8067 - val_loss: 0.1306 - val_accuracy: 0.8045\n",
            "Epoch 23/100\n",
            "2985/2985 [==============================] - 5s 2ms/step - loss: 0.1305 - accuracy: 0.8072 - val_loss: 0.1326 - val_accuracy: 0.7999\n",
            "Epoch 24/100\n",
            "2985/2985 [==============================] - 5s 2ms/step - loss: 0.1305 - accuracy: 0.8079 - val_loss: 0.1317 - val_accuracy: 0.8086\n",
            "Epoch 25/100\n",
            "2985/2985 [==============================] - 5s 2ms/step - loss: 0.1304 - accuracy: 0.8073 - val_loss: 0.1336 - val_accuracy: 0.8041\n",
            "Epoch 26/100\n",
            "2985/2985 [==============================] - 5s 2ms/step - loss: 0.1305 - accuracy: 0.8071 - val_loss: 0.1298 - val_accuracy: 0.8104\n",
            "Epoch 27/100\n",
            "2985/2985 [==============================] - 5s 2ms/step - loss: 0.1300 - accuracy: 0.8078 - val_loss: 0.1292 - val_accuracy: 0.8128\n",
            "Epoch 28/100\n",
            "2985/2985 [==============================] - 5s 2ms/step - loss: 0.1297 - accuracy: 0.8094 - val_loss: 0.1301 - val_accuracy: 0.8108\n",
            "Epoch 29/100\n",
            "2985/2985 [==============================] - 5s 2ms/step - loss: 0.1298 - accuracy: 0.8088 - val_loss: 0.1307 - val_accuracy: 0.8007\n",
            "Epoch 30/100\n",
            "2985/2985 [==============================] - 5s 2ms/step - loss: 0.1297 - accuracy: 0.8088 - val_loss: 0.1300 - val_accuracy: 0.8126\n",
            "Epoch 31/100\n",
            "2985/2985 [==============================] - 5s 2ms/step - loss: 0.1294 - accuracy: 0.8100 - val_loss: 0.1289 - val_accuracy: 0.8119\n",
            "Epoch 32/100\n",
            "2985/2985 [==============================] - 5s 2ms/step - loss: 0.1293 - accuracy: 0.8107 - val_loss: 0.1337 - val_accuracy: 0.7973\n",
            "Epoch 33/100\n",
            "2985/2985 [==============================] - 5s 2ms/step - loss: 0.1293 - accuracy: 0.8095 - val_loss: 0.1295 - val_accuracy: 0.8074\n",
            "Epoch 34/100\n",
            "2985/2985 [==============================] - 5s 2ms/step - loss: 0.1293 - accuracy: 0.8100 - val_loss: 0.1284 - val_accuracy: 0.8136\n",
            "Epoch 35/100\n",
            "2985/2985 [==============================] - 5s 2ms/step - loss: 0.1290 - accuracy: 0.8108 - val_loss: 0.1297 - val_accuracy: 0.8111\n",
            "Epoch 36/100\n",
            "2985/2985 [==============================] - 5s 2ms/step - loss: 0.1290 - accuracy: 0.8107 - val_loss: 0.1287 - val_accuracy: 0.8097\n",
            "Epoch 37/100\n",
            "2985/2985 [==============================] - 5s 2ms/step - loss: 0.1285 - accuracy: 0.8111 - val_loss: 0.1339 - val_accuracy: 0.8016\n",
            "Epoch 38/100\n",
            "2985/2985 [==============================] - 5s 2ms/step - loss: 0.1283 - accuracy: 0.8114 - val_loss: 0.1279 - val_accuracy: 0.8139\n",
            "Epoch 39/100\n",
            "2985/2985 [==============================] - 5s 2ms/step - loss: 0.1284 - accuracy: 0.8105 - val_loss: 0.1315 - val_accuracy: 0.8061\n",
            "Epoch 40/100\n",
            "2985/2985 [==============================] - 5s 2ms/step - loss: 0.1285 - accuracy: 0.8111 - val_loss: 0.1289 - val_accuracy: 0.8163\n",
            "Epoch 41/100\n",
            "2985/2985 [==============================] - 5s 2ms/step - loss: 0.1282 - accuracy: 0.8124 - val_loss: 0.1298 - val_accuracy: 0.8036\n",
            "Epoch 42/100\n",
            "2985/2985 [==============================] - 5s 2ms/step - loss: 0.1282 - accuracy: 0.8117 - val_loss: 0.1286 - val_accuracy: 0.8117\n",
            "Epoch 43/100\n",
            "2985/2985 [==============================] - 5s 2ms/step - loss: 0.1281 - accuracy: 0.8115 - val_loss: 0.1284 - val_accuracy: 0.8115\n",
            "Epoch 44/100\n",
            "2985/2985 [==============================] - 5s 2ms/step - loss: 0.1278 - accuracy: 0.8125 - val_loss: 0.1272 - val_accuracy: 0.8145\n",
            "Epoch 45/100\n",
            "2985/2985 [==============================] - 5s 2ms/step - loss: 0.1280 - accuracy: 0.8117 - val_loss: 0.1270 - val_accuracy: 0.8148\n",
            "Epoch 46/100\n",
            "2985/2985 [==============================] - 5s 2ms/step - loss: 0.1277 - accuracy: 0.8123 - val_loss: 0.1299 - val_accuracy: 0.8022\n",
            "Epoch 47/100\n",
            "2985/2985 [==============================] - 5s 2ms/step - loss: 0.1275 - accuracy: 0.8127 - val_loss: 0.1277 - val_accuracy: 0.8146\n",
            "Epoch 48/100\n",
            "2985/2985 [==============================] - 5s 2ms/step - loss: 0.1274 - accuracy: 0.8135 - val_loss: 0.1298 - val_accuracy: 0.8095\n",
            "Epoch 49/100\n",
            "2985/2985 [==============================] - 5s 2ms/step - loss: 0.1274 - accuracy: 0.8119 - val_loss: 0.1280 - val_accuracy: 0.8138\n",
            "Epoch 50/100\n",
            "2985/2985 [==============================] - 5s 2ms/step - loss: 0.1269 - accuracy: 0.8141 - val_loss: 0.1288 - val_accuracy: 0.8055\n",
            "Epoch 51/100\n",
            "2985/2985 [==============================] - 5s 2ms/step - loss: 0.1269 - accuracy: 0.8139 - val_loss: 0.1266 - val_accuracy: 0.8151\n",
            "Epoch 52/100\n",
            "2985/2985 [==============================] - 5s 2ms/step - loss: 0.1269 - accuracy: 0.8125 - val_loss: 0.1261 - val_accuracy: 0.8171\n",
            "Epoch 53/100\n",
            "2985/2985 [==============================] - 5s 2ms/step - loss: 0.1267 - accuracy: 0.8137 - val_loss: 0.1273 - val_accuracy: 0.8149\n",
            "Epoch 54/100\n",
            "2985/2985 [==============================] - 5s 2ms/step - loss: 0.1266 - accuracy: 0.8142 - val_loss: 0.1269 - val_accuracy: 0.8105\n",
            "Epoch 55/100\n",
            "2985/2985 [==============================] - 5s 2ms/step - loss: 0.1266 - accuracy: 0.8138 - val_loss: 0.1258 - val_accuracy: 0.8185\n",
            "Epoch 56/100\n",
            "2985/2985 [==============================] - 5s 2ms/step - loss: 0.1265 - accuracy: 0.8145 - val_loss: 0.1267 - val_accuracy: 0.8168\n",
            "Epoch 57/100\n",
            "2985/2985 [==============================] - 5s 2ms/step - loss: 0.1265 - accuracy: 0.8141 - val_loss: 0.1260 - val_accuracy: 0.8174\n",
            "Epoch 58/100\n",
            "2985/2985 [==============================] - 5s 2ms/step - loss: 0.1263 - accuracy: 0.8148 - val_loss: 0.1273 - val_accuracy: 0.8083\n",
            "Epoch 59/100\n",
            "2985/2985 [==============================] - 5s 2ms/step - loss: 0.1264 - accuracy: 0.8144 - val_loss: 0.1394 - val_accuracy: 0.7856\n",
            "Epoch 60/100\n",
            "2985/2985 [==============================] - 5s 2ms/step - loss: 0.1264 - accuracy: 0.8143 - val_loss: 0.1255 - val_accuracy: 0.8190\n",
            "Epoch 61/100\n",
            "2985/2985 [==============================] - 5s 2ms/step - loss: 0.1262 - accuracy: 0.8147 - val_loss: 0.1254 - val_accuracy: 0.8188\n",
            "Epoch 62/100\n",
            "2985/2985 [==============================] - 5s 2ms/step - loss: 0.1263 - accuracy: 0.8140 - val_loss: 0.1266 - val_accuracy: 0.8154\n",
            "Epoch 63/100\n",
            "2985/2985 [==============================] - 5s 2ms/step - loss: 0.1260 - accuracy: 0.8146 - val_loss: 0.1252 - val_accuracy: 0.8182\n",
            "Epoch 64/100\n",
            "2985/2985 [==============================] - 5s 2ms/step - loss: 0.1260 - accuracy: 0.8145 - val_loss: 0.1258 - val_accuracy: 0.8188\n",
            "Epoch 65/100\n",
            "2985/2985 [==============================] - 5s 2ms/step - loss: 0.1259 - accuracy: 0.8157 - val_loss: 0.1266 - val_accuracy: 0.8103\n",
            "Epoch 66/100\n",
            "2985/2985 [==============================] - 5s 2ms/step - loss: 0.1258 - accuracy: 0.8149 - val_loss: 0.1265 - val_accuracy: 0.8159\n",
            "Epoch 67/100\n",
            "2985/2985 [==============================] - 5s 2ms/step - loss: 0.1256 - accuracy: 0.8149 - val_loss: 0.1291 - val_accuracy: 0.8048\n",
            "Epoch 68/100\n",
            "2985/2985 [==============================] - 5s 2ms/step - loss: 0.1256 - accuracy: 0.8153 - val_loss: 0.1281 - val_accuracy: 0.8065\n",
            "Epoch 69/100\n",
            "2985/2985 [==============================] - 4s 1ms/step - loss: 0.1259 - accuracy: 0.8145 - val_loss: 0.1283 - val_accuracy: 0.8113\n",
            "Epoch 70/100\n",
            "2985/2985 [==============================] - 5s 2ms/step - loss: 0.1256 - accuracy: 0.8160 - val_loss: 0.1261 - val_accuracy: 0.8137\n",
            "Epoch 71/100\n",
            "2985/2985 [==============================] - 5s 2ms/step - loss: 0.1256 - accuracy: 0.8161 - val_loss: 0.1249 - val_accuracy: 0.8164\n",
            "Epoch 72/100\n",
            "2985/2985 [==============================] - 5s 2ms/step - loss: 0.1256 - accuracy: 0.8150 - val_loss: 0.1302 - val_accuracy: 0.8067\n",
            "Epoch 73/100\n",
            "2985/2985 [==============================] - 5s 2ms/step - loss: 0.1258 - accuracy: 0.8150 - val_loss: 0.1265 - val_accuracy: 0.8105\n",
            "Epoch 74/100\n",
            "2985/2985 [==============================] - 5s 2ms/step - loss: 0.1253 - accuracy: 0.8158 - val_loss: 0.1275 - val_accuracy: 0.8128\n",
            "Epoch 75/100\n",
            "2985/2985 [==============================] - 5s 2ms/step - loss: 0.1254 - accuracy: 0.8165 - val_loss: 0.1258 - val_accuracy: 0.8159\n",
            "Epoch 76/100\n",
            "2985/2985 [==============================] - 5s 2ms/step - loss: 0.1252 - accuracy: 0.8168 - val_loss: 0.1258 - val_accuracy: 0.8112\n",
            "Epoch 77/100\n",
            "2985/2985 [==============================] - 5s 2ms/step - loss: 0.1253 - accuracy: 0.8152 - val_loss: 0.1271 - val_accuracy: 0.8093\n",
            "Epoch 78/100\n",
            "2985/2985 [==============================] - 4s 2ms/step - loss: 0.1252 - accuracy: 0.8167 - val_loss: 0.1359 - val_accuracy: 0.7972\n",
            "Epoch 79/100\n",
            "2985/2985 [==============================] - 5s 2ms/step - loss: 0.1256 - accuracy: 0.8152 - val_loss: 0.1251 - val_accuracy: 0.8147\n",
            "Epoch 80/100\n",
            "2985/2985 [==============================] - 5s 2ms/step - loss: 0.1250 - accuracy: 0.8167 - val_loss: 0.1249 - val_accuracy: 0.8142\n",
            "Epoch 81/100\n",
            "2985/2985 [==============================] - 5s 2ms/step - loss: 0.1251 - accuracy: 0.8160 - val_loss: 0.1246 - val_accuracy: 0.8206\n",
            "Epoch 82/100\n",
            "2985/2985 [==============================] - 5s 2ms/step - loss: 0.1252 - accuracy: 0.8153 - val_loss: 0.1248 - val_accuracy: 0.8175\n",
            "Epoch 83/100\n",
            "2985/2985 [==============================] - 4s 1ms/step - loss: 0.1251 - accuracy: 0.8166 - val_loss: 0.1247 - val_accuracy: 0.8173\n",
            "Epoch 84/100\n",
            "2985/2985 [==============================] - 4s 2ms/step - loss: 0.1249 - accuracy: 0.8168 - val_loss: 0.1247 - val_accuracy: 0.8161\n",
            "Epoch 85/100\n",
            "2985/2985 [==============================] - 5s 2ms/step - loss: 0.1248 - accuracy: 0.8179 - val_loss: 0.1260 - val_accuracy: 0.8160\n",
            "Epoch 86/100\n",
            "2985/2985 [==============================] - 5s 2ms/step - loss: 0.1249 - accuracy: 0.8169 - val_loss: 0.1274 - val_accuracy: 0.8075\n",
            "Epoch 87/100\n",
            "2985/2985 [==============================] - 5s 2ms/step - loss: 0.1248 - accuracy: 0.8168 - val_loss: 0.1242 - val_accuracy: 0.8192\n",
            "Epoch 88/100\n",
            "2985/2985 [==============================] - 5s 2ms/step - loss: 0.1247 - accuracy: 0.8162 - val_loss: 0.1253 - val_accuracy: 0.8173\n",
            "Epoch 89/100\n",
            "2985/2985 [==============================] - 5s 2ms/step - loss: 0.1250 - accuracy: 0.8165 - val_loss: 0.1272 - val_accuracy: 0.8110\n",
            "Epoch 90/100\n",
            "2985/2985 [==============================] - 5s 2ms/step - loss: 0.1245 - accuracy: 0.8165 - val_loss: 0.1262 - val_accuracy: 0.8112\n",
            "Epoch 91/100\n",
            "2985/2985 [==============================] - 4s 2ms/step - loss: 0.1248 - accuracy: 0.8168 - val_loss: 0.1240 - val_accuracy: 0.8185\n",
            "Epoch 92/100\n",
            "2985/2985 [==============================] - 5s 2ms/step - loss: 0.1246 - accuracy: 0.8172 - val_loss: 0.1259 - val_accuracy: 0.8130\n",
            "Epoch 93/100\n",
            "2985/2985 [==============================] - 5s 2ms/step - loss: 0.1245 - accuracy: 0.8176 - val_loss: 0.1322 - val_accuracy: 0.8024\n",
            "Epoch 94/100\n",
            "2985/2985 [==============================] - 5s 2ms/step - loss: 0.1245 - accuracy: 0.8180 - val_loss: 0.1243 - val_accuracy: 0.8157\n",
            "Epoch 95/100\n",
            "2985/2985 [==============================] - 5s 2ms/step - loss: 0.1243 - accuracy: 0.8181 - val_loss: 0.1237 - val_accuracy: 0.8199\n",
            "Epoch 96/100\n",
            "2985/2985 [==============================] - 5s 2ms/step - loss: 0.1241 - accuracy: 0.8187 - val_loss: 0.1238 - val_accuracy: 0.8196\n",
            "Epoch 97/100\n",
            "2985/2985 [==============================] - 5s 2ms/step - loss: 0.1244 - accuracy: 0.8180 - val_loss: 0.1242 - val_accuracy: 0.8186\n",
            "Epoch 98/100\n",
            "2985/2985 [==============================] - 5s 2ms/step - loss: 0.1243 - accuracy: 0.8182 - val_loss: 0.1244 - val_accuracy: 0.8187\n",
            "Epoch 99/100\n",
            "2985/2985 [==============================] - 5s 2ms/step - loss: 0.1245 - accuracy: 0.8171 - val_loss: 0.1312 - val_accuracy: 0.8009\n",
            "Epoch 100/100\n",
            "2985/2985 [==============================] - 5s 2ms/step - loss: 0.1241 - accuracy: 0.8194 - val_loss: 0.1256 - val_accuracy: 0.8158\n"
          ]
        }
      ]
    }
  ]
}