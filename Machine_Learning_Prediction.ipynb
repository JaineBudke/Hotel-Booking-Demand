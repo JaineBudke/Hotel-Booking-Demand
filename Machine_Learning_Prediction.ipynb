{
  "nbformat": 4,
  "nbformat_minor": 0,
  "metadata": {
    "colab": {
      "provenance": [],
      "toc_visible": true,
      "authorship_tag": "ABX9TyPx+Eo0RflK19I5cQM8R2W8"
    },
    "kernelspec": {
      "name": "python3",
      "display_name": "Python 3"
    },
    "language_info": {
      "name": "python"
    }
  },
  "cells": [
    {
      "cell_type": "markdown",
      "source": [
        "# Machine Learning Prediction"
      ],
      "metadata": {
        "id": "WvJDADwJi3wE"
      }
    },
    {
      "cell_type": "markdown",
      "source": [
        "Objetivos do projeto:\n",
        "- Construir um modelo para predição de cancelamento de uma reserva."
      ],
      "metadata": {
        "id": "vXhsp3Dxi_s1"
      }
    },
    {
      "cell_type": "markdown",
      "source": [
        "## Data Acquisition"
      ],
      "metadata": {
        "id": "Q_20VgyMjmUO"
      }
    },
    {
      "cell_type": "markdown",
      "source": [
        "Vamos importar as bibliotecas necessárias para essa parte da análise:"
      ],
      "metadata": {
        "id": "auD1Xv3Q7VST"
      }
    },
    {
      "cell_type": "code",
      "execution_count": 3,
      "metadata": {
        "id": "X_COtuzV0pwn"
      },
      "outputs": [],
      "source": [
        "import pandas as pd\n",
        "from sklearn.model_selection import train_test_split\n",
        "from sklearn import preprocessing\n",
        "import matplotlib.pyplot as plt\n",
        "\n",
        "from sklearn.preprocessing import StandardScaler, MinMaxScaler\n",
        "\n",
        "from sklearn import tree\n",
        "from sklearn.linear_model import LogisticRegression\n",
        "from sklearn import svm\n",
        "import tensorflow as tf\n",
        "from tensorflow.keras import layers\n",
        "from tensorflow.keras.optimizers import SGD\n",
        "\n",
        "from sklearn import metrics \n",
        "from sklearn.metrics import confusion_matrix\n",
        "\n",
        "import pickle\n",
        "import numpy as np"
      ]
    },
    {
      "cell_type": "markdown",
      "source": [
        "Vamos carregar o dataset e olhar para as primeiras linhas com o método `head`:"
      ],
      "metadata": {
        "id": "nGvQZDBQ7bQU"
      }
    },
    {
      "cell_type": "code",
      "source": [
        "df = pd.read_csv(\"hotel_bookings.csv\")"
      ],
      "metadata": {
        "id": "R8pV_xyz7Xc5"
      },
      "execution_count": 4,
      "outputs": []
    },
    {
      "cell_type": "markdown",
      "source": [
        "## Preprocessing"
      ],
      "metadata": {
        "id": "k8Nixycv7gps"
      }
    },
    {
      "cell_type": "markdown",
      "source": [
        "Vamos dar uma olhada nos atributos com valores nulos."
      ],
      "metadata": {
        "id": "wROkHu1oSm4L"
      }
    },
    {
      "cell_type": "code",
      "source": [
        "df.isnull().sum()"
      ],
      "metadata": {
        "colab": {
          "base_uri": "https://localhost:8080/"
        },
        "id": "hhkitPmYSp6d",
        "outputId": "fb97c2a7-e248-4835-a7a0-1e4b8fa87f6a"
      },
      "execution_count": 5,
      "outputs": [
        {
          "output_type": "execute_result",
          "data": {
            "text/plain": [
              "hotel                                  0\n",
              "is_canceled                            0\n",
              "lead_time                              0\n",
              "arrival_date_year                      0\n",
              "arrival_date_month                     0\n",
              "arrival_date_week_number               0\n",
              "arrival_date_day_of_month              0\n",
              "stays_in_weekend_nights                0\n",
              "stays_in_week_nights                   0\n",
              "adults                                 0\n",
              "children                               4\n",
              "babies                                 0\n",
              "meal                                   0\n",
              "country                              488\n",
              "market_segment                         0\n",
              "distribution_channel                   0\n",
              "is_repeated_guest                      0\n",
              "previous_cancellations                 0\n",
              "previous_bookings_not_canceled         0\n",
              "reserved_room_type                     0\n",
              "assigned_room_type                     0\n",
              "booking_changes                        0\n",
              "deposit_type                           0\n",
              "agent                              16340\n",
              "company                           112593\n",
              "days_in_waiting_list                   0\n",
              "customer_type                          0\n",
              "adr                                    0\n",
              "required_car_parking_spaces            0\n",
              "total_of_special_requests              0\n",
              "reservation_status                     0\n",
              "reservation_status_date                0\n",
              "dtype: int64"
            ]
          },
          "metadata": {},
          "execution_count": 5
        }
      ]
    },
    {
      "cell_type": "markdown",
      "source": [
        "Como os atributos mais significativos (como o `is_canceled`) não contém valores nulos, não precisamos excluir nenhum dado da base, apenas preenchemos os valores nulos:"
      ],
      "metadata": {
        "id": "_PRCZ_UXUzPO"
      }
    },
    {
      "cell_type": "code",
      "source": [
        "# preenchimento dos valores NaN com 0\n",
        "df['children'] = df['children'].fillna(0)\n",
        "\n",
        "# preenchimento dos valores NaN com a moda\n",
        "df['country'].fillna(df['country'].mode()[0], inplace=True)\n",
        "df['agent'].fillna(df['agent'].mode()[0], inplace=True)\n",
        "df['company'].fillna(df['company'].mode()[0], inplace=True)"
      ],
      "metadata": {
        "id": "M3IP8ScVS2Qt"
      },
      "execution_count": 6,
      "outputs": []
    },
    {
      "cell_type": "markdown",
      "source": [
        "Vamos dar uma olhada nos atributos do dataset:"
      ],
      "metadata": {
        "id": "QIIgOutqywRH"
      }
    },
    {
      "cell_type": "code",
      "source": [
        "df.info()"
      ],
      "metadata": {
        "id": "oSSCy-Cyyz0S",
        "colab": {
          "base_uri": "https://localhost:8080/"
        },
        "outputId": "87ea6eb3-2bb1-43c0-c144-db053d89ce09"
      },
      "execution_count": 7,
      "outputs": [
        {
          "output_type": "stream",
          "name": "stdout",
          "text": [
            "<class 'pandas.core.frame.DataFrame'>\n",
            "RangeIndex: 119390 entries, 0 to 119389\n",
            "Data columns (total 32 columns):\n",
            " #   Column                          Non-Null Count   Dtype  \n",
            "---  ------                          --------------   -----  \n",
            " 0   hotel                           119390 non-null  object \n",
            " 1   is_canceled                     119390 non-null  int64  \n",
            " 2   lead_time                       119390 non-null  int64  \n",
            " 3   arrival_date_year               119390 non-null  int64  \n",
            " 4   arrival_date_month              119390 non-null  object \n",
            " 5   arrival_date_week_number        119390 non-null  int64  \n",
            " 6   arrival_date_day_of_month       119390 non-null  int64  \n",
            " 7   stays_in_weekend_nights         119390 non-null  int64  \n",
            " 8   stays_in_week_nights            119390 non-null  int64  \n",
            " 9   adults                          119390 non-null  int64  \n",
            " 10  children                        119390 non-null  float64\n",
            " 11  babies                          119390 non-null  int64  \n",
            " 12  meal                            119390 non-null  object \n",
            " 13  country                         119390 non-null  object \n",
            " 14  market_segment                  119390 non-null  object \n",
            " 15  distribution_channel            119390 non-null  object \n",
            " 16  is_repeated_guest               119390 non-null  int64  \n",
            " 17  previous_cancellations          119390 non-null  int64  \n",
            " 18  previous_bookings_not_canceled  119390 non-null  int64  \n",
            " 19  reserved_room_type              119390 non-null  object \n",
            " 20  assigned_room_type              119390 non-null  object \n",
            " 21  booking_changes                 119390 non-null  int64  \n",
            " 22  deposit_type                    119390 non-null  object \n",
            " 23  agent                           119390 non-null  float64\n",
            " 24  company                         119390 non-null  float64\n",
            " 25  days_in_waiting_list            119390 non-null  int64  \n",
            " 26  customer_type                   119390 non-null  object \n",
            " 27  adr                             119390 non-null  float64\n",
            " 28  required_car_parking_spaces     119390 non-null  int64  \n",
            " 29  total_of_special_requests       119390 non-null  int64  \n",
            " 30  reservation_status              119390 non-null  object \n",
            " 31  reservation_status_date         119390 non-null  object \n",
            "dtypes: float64(4), int64(16), object(12)\n",
            "memory usage: 29.1+ MB\n"
          ]
        }
      ]
    },
    {
      "cell_type": "markdown",
      "source": [
        "Iremos manter sem alterações os atributos:\n",
        "`is_canceled`, `lead_time`, `arrival_date_year`, `arrival_date_week_number`,`arrival_date_day_of_month`, `adults`,\n",
        "`stays_in_weekend_nights`, `stays_in_week_nights`,`is_repeated_guest`, `booking_changes`,`days_in_waiting_list`, `adr`, `required_car_parking_spaces`, `total_of_special_requests`, `agent`, `company`.\n",
        "\n",
        "1. Iremos substituir os seguintes atributos: \n",
        "*   `children` e `babies` -> `kids` \n",
        "*   `previous_cancellations` e `previous_bookings_not_canceled` -> `total_bookings`\n",
        "*   `reserved_room_type`, `assigned_room_type` -> `same_room`\n",
        "\n",
        "2. Iremos remover os seguintes atributos:\n",
        "`meal`, `reservation_status_date`, `reservation_status`, `children`,`babies`,  `reserved_room_type`, `assigned_room_type`  \n",
        "\n",
        "3. E, por fim, temos alguns atributos com valores categóricos. Iremos converter os seguintes atributos para inteiro:\n",
        "`hotel`, `country`, `market_segment`, `distribution_channel`, `deposit_type`, `customer_type`, `arrival_date_month`\n",
        "\n"
      ],
      "metadata": {
        "id": "J4gtFvt1yKk2"
      }
    },
    {
      "cell_type": "markdown",
      "source": [
        "**1. Substituição dos atributos:**"
      ],
      "metadata": {
        "id": "uGCO-2dh1zVa"
      }
    },
    {
      "cell_type": "code",
      "source": [
        "# Agrupamento das colunas children e babies na coluna children\n",
        "df['has_children'] = df['children']+df['babies']\n",
        "df['has_children'] = df['has_children'].apply(lambda x: '1' if x >= 1 else '0')\n",
        "\n",
        "# Agrupamento das colunas previous_cancellations e previous_bookings_not_canceled na coluna total_bookings\n",
        "df['total_bookings'] = df['previous_cancellations']+df['previous_bookings_not_canceled']\n",
        "\n",
        "# Agrupamento das colunas assigned_room_type e reserved_room_type em uma nova coluna same_room\n",
        "def isSameRoom(row):\n",
        "    if row['assigned_room_type'] == row['reserved_room_type']:\n",
        "        return 1\n",
        "    else:\n",
        "        return 0\n",
        "\n",
        "df['same_room'] = df.apply(isSameRoom, axis=1)"
      ],
      "metadata": {
        "id": "trxHpXem1x-f"
      },
      "execution_count": 8,
      "outputs": []
    },
    {
      "cell_type": "markdown",
      "source": [
        "**2. Remoção dos atributos:**"
      ],
      "metadata": {
        "id": "Ak5ONTQ12_u9"
      }
    },
    {
      "cell_type": "code",
      "source": [
        "df.drop(['meal', 'children', \n",
        "         'babies', 'assigned_room_type', 'reserved_room_type',\n",
        "         'reservation_status', 'reservation_status_date'], axis=1, inplace=True)"
      ],
      "metadata": {
        "id": "7ArFuZLH3B-g"
      },
      "execution_count": 9,
      "outputs": []
    },
    {
      "cell_type": "markdown",
      "source": [
        "**3. Conversão dos atributos:**"
      ],
      "metadata": {
        "id": "TUM8vr2i3gDm"
      }
    },
    {
      "cell_type": "markdown",
      "source": [
        "Vamos converter os meses para valores inteiros:"
      ],
      "metadata": {
        "id": "V5m0B4FpRCGH"
      }
    },
    {
      "cell_type": "code",
      "source": [
        "monthMap = {'January':1, 'February':2, 'March':3, \n",
        "             'April':4, 'May':5, 'June':6, \n",
        "             'July':7, 'August':8, 'September':9, \n",
        "             'October':10, 'November':11, 'December':12}\n",
        "\n",
        "df['arrival_date_month'] = df['arrival_date_month'].replace(monthMap)"
      ],
      "metadata": {
        "id": "PTiKqyFiQr0o"
      },
      "execution_count": 10,
      "outputs": []
    },
    {
      "cell_type": "markdown",
      "source": [
        "Vamos conveter também as outras colunas com valores categóricos:"
      ],
      "metadata": {
        "id": "9z2uaXRVWu6b"
      }
    },
    {
      "cell_type": "code",
      "source": [
        "le = preprocessing.LabelEncoder()\n",
        "atts = ['hotel', 'country', 'market_segment', 'distribution_channel', \n",
        "        'deposit_type', 'customer_type']\n",
        "\n",
        "for att in atts:\n",
        "    df[att] = le.fit_transform(df[att])"
      ],
      "metadata": {
        "id": "FAR2Yp9nW0wB"
      },
      "execution_count": 11,
      "outputs": []
    },
    {
      "cell_type": "markdown",
      "source": [
        "## Prediction"
      ],
      "metadata": {
        "id": "YzikhNHsjskY"
      }
    },
    {
      "cell_type": "markdown",
      "source": [
        "Vamos dividir o conjunto de dados 80% para treino e 20% para teste:"
      ],
      "metadata": {
        "id": "LHHTbm5P8Zj3"
      }
    },
    {
      "cell_type": "code",
      "source": [
        "y = df['is_canceled']\n",
        "df.drop(['is_canceled'], axis='columns', inplace=True)\n",
        "\n",
        "X_train, X_test, y_train, y_test = train_test_split(df, y, test_size=0.2)"
      ],
      "metadata": {
        "id": "DRJiUznb8euK"
      },
      "execution_count": 12,
      "outputs": []
    },
    {
      "cell_type": "markdown",
      "source": [
        "Como temos um conjunto com atributos muito diversos, a falta de padronização pode enviesar o resultado para variáveis com maior ordem de grandeza em alguns algoritmos. Vamos normalizar nossos dados deixando-os na mesma ordem de grandeza:\n",
        "\n"
      ],
      "metadata": {
        "id": "X6-_e67iYdQ2"
      }
    },
    {
      "cell_type": "code",
      "source": [
        "scaler = MinMaxScaler()\n",
        "scaler.fit(X_train)\n",
        "X_train = scaler.transform(X_train)\n",
        "X_test = scaler.transform(X_test)"
      ],
      "metadata": {
        "id": "37xyboZ8Yp13"
      },
      "execution_count": 13,
      "outputs": []
    },
    {
      "cell_type": "markdown",
      "source": [
        "**Decision Tree:**"
      ],
      "metadata": {
        "id": "mifNT-1dkICf"
      }
    },
    {
      "cell_type": "markdown",
      "source": [
        "Vamos treinar Decision Trees com diferentes valores de `max_depth` e comparar os resultados obtidos:"
      ],
      "metadata": {
        "id": "dNZ2FHbFlt1_"
      }
    },
    {
      "cell_type": "code",
      "source": [
        "maxDepth = [3,6,9,12,15,18,21]\n",
        "\n",
        "accDT   = []\n",
        "precDT  = []\n",
        "recDT   = []\n",
        "f1SDT   = []\n",
        "\n",
        "for depth in maxDepth:\n",
        "\n",
        "    # Create Decision Tree classifer object\n",
        "    clf_dt = tree.DecisionTreeClassifier(criterion=\"gini\", max_depth=depth)\n",
        "\n",
        "    # Train Decision Tree Classifer\n",
        "    clf_dt = clf_dt.fit(X_train,y_train)\n",
        "\n",
        "    # Predict the response for test dataset\n",
        "    y_pred = clf_dt.predict(X_test)\n",
        "\n",
        "    #tree.plot_tree(clf_dt)\n",
        "\n",
        "    accDT.append(metrics.accuracy_score(y_test, y_pred))\n",
        "    precDT.append(metrics.precision_score(y_test, y_pred))\n",
        "    recDT.append(metrics.recall_score(y_test, y_pred))\n",
        "    f1SDT.append(metrics.f1_score(y_test, y_pred))"
      ],
      "metadata": {
        "id": "zyFT1VVRjzwO"
      },
      "execution_count": 15,
      "outputs": []
    },
    {
      "cell_type": "markdown",
      "source": [
        "Comparando os resultados obtidos:"
      ],
      "metadata": {
        "id": "f1spI2hSmFJS"
      }
    },
    {
      "cell_type": "code",
      "source": [
        "plt.plot(maxDepth, accDT, label='Accuracy', marker='o')\n",
        "plt.plot(maxDepth, precDT, label='Precision', marker='o')\n",
        "plt.plot(maxDepth, recDT, label='Recall', marker='o')\n",
        "plt.plot(maxDepth, f1SDT, label='F1 Score', marker='o')\n",
        "\n",
        "plt.legend()\n",
        "plt.show()"
      ],
      "metadata": {
        "colab": {
          "base_uri": "https://localhost:8080/",
          "height": 265
        },
        "id": "OemIX18kkngd",
        "outputId": "0731f63f-5d02-42ec-c48f-68fed7b9d418"
      },
      "execution_count": 21,
      "outputs": [
        {
          "output_type": "display_data",
          "data": {
            "text/plain": [
              "<Figure size 432x288 with 1 Axes>"
            ],
            "image/png": "[encoded data removed]"
          },
          "metadata": {
            "needs_background": "light"
          }
        }
      ]
    },
    {
      "cell_type": "markdown",
      "source": [
        "**Logistic Regression:**"
      ],
      "metadata": {
        "id": "_js3Ikn5Y3f3"
      }
    },
    {
      "cell_type": "code",
      "source": [
        "# Logistic Regression\n",
        "logreg = LogisticRegression(max_iter=500)\n",
        "logreg = logreg.fit(X_train, y_train)\n",
        "\n",
        "y_pred = logreg.predict(X_test)\n",
        "\n",
        "logAcc  = metrics.accuracy_score(y_test, y_pred)\n",
        "logPrec = metrics.precision_score(y_test, y_pred)\n",
        "logRec  = metrics.recall_score(y_test, y_pred)\n",
        "logF1S  = metrics.f1_score(y_test, y_pred)\n",
        "\n",
        "print(\"Accuracy:\", logAcc)\n",
        "print(\"Precision:\", logPrec)\n",
        "print(\"Recall:\", logRec)\n",
        "print(\"F1 score:\", logF1S)\n",
        "\n",
        "print(\"Confusion Matrix: \")\n",
        "print(confusion_matrix(y_test, y_pred))"
      ],
      "metadata": {
        "id": "qZvauJRCY6rR",
        "colab": {
          "base_uri": "https://localhost:8080/"
        },
        "outputId": "015e60d6-3cb2-4b78-a1f9-b426cc0917a8"
      },
      "execution_count": 22,
      "outputs": [
        {
          "output_type": "stream",
          "name": "stdout",
          "text": [
            "Accuracy: 0.7890108049250356\n",
            "Precision: 0.7863972856261567\n",
            "Recall: 0.582609689213894\n",
            "F1 score: 0.6693357836702547\n",
            "Confusion Matrix: \n",
            "[[13741  1385]\n",
            " [ 3653  5099]]\n"
          ]
        }
      ]
    },
    {
      "cell_type": "markdown",
      "source": [
        "**Support Vector Machine (SVM):**"
      ],
      "metadata": {
        "id": "NhjmMdC1ZCb0"
      }
    },
    {
      "cell_type": "code",
      "source": [
        "# Cria um classificador SVM\n",
        "clf = svm.SVC(kernel='rbf') \n",
        "\n",
        "# Treina o modelo com os dados de treino\n",
        "clf.fit(X_train, y_train)\n",
        "\n",
        "# Faz a predição com os dados de teste\n",
        "y_pred = clf.predict(X_test)\n",
        "y_pred = y_pred > 0.5 \n",
        "\n",
        "svmAcc  = metrics.accuracy_score(y_test, y_pred)\n",
        "svmPrec = metrics.precision_score(y_test, y_pred)\n",
        "svmRec  = metrics.recall_score(y_test, y_pred)\n",
        "svmF1S  = metrics.f1_score(y_test, y_pred)\n",
        "\n",
        "print(\"Accuracy:\", svmAcc)\n",
        "print(\"Precision:\", svmPrec)\n",
        "print(\"Recall:\", svmRec)\n",
        "print(\"F1 score:\", svmF1S)\n",
        "\n",
        "print(\"Confusion Matrix: \")\n",
        "print(confusion_matrix(y_test, y_pred))"
      ],
      "metadata": {
        "id": "8yyNJTKJZDQB",
        "colab": {
          "base_uri": "https://localhost:8080/"
        },
        "outputId": "8d32f4ab-9214-4257-afce-55cd27fe58fb"
      },
      "execution_count": 23,
      "outputs": [
        {
          "output_type": "stream",
          "name": "stdout",
          "text": [
            "Accuracy: 0.8236451964151101\n",
            "Precision: 0.8159176290524558\n",
            "Recall: 0.670018281535649\n",
            "F1 score: 0.735805257544388\n",
            "Confusion Matrix: \n",
            "[[13803  1323]\n",
            " [ 2888  5864]]\n"
          ]
        }
      ]
    },
    {
      "cell_type": "markdown",
      "source": [
        "**Multi-Layer Perceptron (MLP):**"
      ],
      "metadata": {
        "id": "FYiOf4VcZver"
      }
    },
    {
      "cell_type": "code",
      "source": [
        "# create model with one hidden layer and one output layer\n",
        "model = tf.keras.Sequential([\n",
        "  layers.Dense(10, \n",
        "               activation=tf.nn.relu,\n",
        "               kernel_initializer=tf.keras.initializers.RandomNormal(mean=0,stddev=1),\n",
        "               ),\n",
        "  layers.Dense(1, \n",
        "               activation=tf.nn.sigmoid) \n",
        "])\n",
        "\n",
        "# set error function, optimizer and avaliation metric\n",
        "model.compile(loss='MeanSquaredError', \n",
        "              optimizer=SGD(lr=0.01, momentum=0.9), \n",
        "              metrics=['accuracy'])\n",
        "\n",
        "\n",
        "# train the model\n",
        "history = model.fit(x=X_train,\n",
        "                    y=y_train,\n",
        "                    epochs=500,\n",
        "                    validation_data=(X_test, y_test),\n",
        "                    verbose=1)"
      ],
      "metadata": {
        "id": "pMujJ5n1ZwC0",
        "colab": {
          "base_uri": "https://localhost:8080/"
        },
        "outputId": "d32946c5-bcfc-4bd6-bdf1-ab622d9c803c"
      },
      "execution_count": 12,
      "outputs": [
        {
          "output_type": "stream",
          "name": "stdout",
          "text": [
            "Epoch 1/500\n"
          ]
        },
        {
          "output_type": "stream",
          "name": "stderr",
          "text": [
            "/usr/local/lib/python3.7/dist-packages/keras/optimizer_v2/gradient_descent.py:102: UserWarning: The `lr` argument is deprecated, use `learning_rate` instead.\n",
            "  super(SGD, self).__init__(name, **kwargs)\n"
          ]
        },
        {
          "output_type": "stream",
          "name": "stdout",
          "text": [
            "2985/2985 [==============================] - 7s 2ms/step - loss: 0.1630 - accuracy: 0.7524 - val_loss: 0.1520 - val_accuracy: 0.7701\n",
            "Epoch 2/500\n",
            "2985/2985 [==============================] - 6s 2ms/step - loss: 0.1505 - accuracy: 0.7743 - val_loss: 0.1492 - val_accuracy: 0.7743\n",
            "Epoch 3/500\n",
            "2985/2985 [==============================] - 6s 2ms/step - loss: 0.1480 - accuracy: 0.7776 - val_loss: 0.1467 - val_accuracy: 0.7774\n",
            "Epoch 4/500\n",
            "2985/2985 [==============================] - 5s 2ms/step - loss: 0.1470 - accuracy: 0.7803 - val_loss: 0.1462 - val_accuracy: 0.7800\n",
            "Epoch 5/500\n",
            "2985/2985 [==============================] - 6s 2ms/step - loss: 0.1462 - accuracy: 0.7809 - val_loss: 0.1464 - val_accuracy: 0.7771\n",
            "Epoch 6/500\n",
            "2985/2985 [==============================] - 5s 2ms/step - loss: 0.1452 - accuracy: 0.7829 - val_loss: 0.1444 - val_accuracy: 0.7819\n",
            "Epoch 7/500\n",
            "2985/2985 [==============================] - 6s 2ms/step - loss: 0.1441 - accuracy: 0.7836 - val_loss: 0.1426 - val_accuracy: 0.7860\n",
            "Epoch 8/500\n",
            "2985/2985 [==============================] - 6s 2ms/step - loss: 0.1429 - accuracy: 0.7873 - val_loss: 0.1424 - val_accuracy: 0.7851\n",
            "Epoch 9/500\n",
            "2985/2985 [==============================] - 6s 2ms/step - loss: 0.1419 - accuracy: 0.7894 - val_loss: 0.1403 - val_accuracy: 0.7919\n",
            "Epoch 10/500\n",
            "2985/2985 [==============================] - 8s 3ms/step - loss: 0.1408 - accuracy: 0.7911 - val_loss: 0.1434 - val_accuracy: 0.7901\n",
            "Epoch 11/500\n",
            "2985/2985 [==============================] - 8s 3ms/step - loss: 0.1397 - accuracy: 0.7932 - val_loss: 0.1391 - val_accuracy: 0.7954\n",
            "Epoch 12/500\n",
            "2985/2985 [==============================] - 6s 2ms/step - loss: 0.1386 - accuracy: 0.7950 - val_loss: 0.1372 - val_accuracy: 0.7982\n",
            "Epoch 13/500\n",
            "2985/2985 [==============================] - 6s 2ms/step - loss: 0.1380 - accuracy: 0.7951 - val_loss: 0.1437 - val_accuracy: 0.7906\n",
            "Epoch 14/500\n",
            "2985/2985 [==============================] - 8s 3ms/step - loss: 0.1373 - accuracy: 0.7966 - val_loss: 0.1364 - val_accuracy: 0.7996\n",
            "Epoch 15/500\n",
            "2985/2985 [==============================] - 12s 4ms/step - loss: 0.1365 - accuracy: 0.7990 - val_loss: 0.1353 - val_accuracy: 0.8001\n",
            "Epoch 16/500\n",
            "2985/2985 [==============================] - 11s 4ms/step - loss: 0.1358 - accuracy: 0.7993 - val_loss: 0.1352 - val_accuracy: 0.8001\n",
            "Epoch 17/500\n",
            "2985/2985 [==============================] - 5s 2ms/step - loss: 0.1350 - accuracy: 0.8015 - val_loss: 0.1351 - val_accuracy: 0.8007\n",
            "Epoch 18/500\n",
            "2985/2985 [==============================] - 5s 2ms/step - loss: 0.1349 - accuracy: 0.8012 - val_loss: 0.1341 - val_accuracy: 0.8034\n",
            "Epoch 19/500\n",
            "2985/2985 [==============================] - 5s 2ms/step - loss: 0.1343 - accuracy: 0.8009 - val_loss: 0.1327 - val_accuracy: 0.8067\n",
            "Epoch 20/500\n",
            "2985/2985 [==============================] - 9s 3ms/step - loss: 0.1334 - accuracy: 0.8028 - val_loss: 0.1329 - val_accuracy: 0.8058\n",
            "Epoch 21/500\n",
            "2985/2985 [==============================] - 6s 2ms/step - loss: 0.1330 - accuracy: 0.8036 - val_loss: 0.1348 - val_accuracy: 0.8011\n",
            "Epoch 22/500\n",
            "2985/2985 [==============================] - 6s 2ms/step - loss: 0.1329 - accuracy: 0.8029 - val_loss: 0.1317 - val_accuracy: 0.8086\n",
            "Epoch 23/500\n",
            "2985/2985 [==============================] - 7s 2ms/step - loss: 0.1326 - accuracy: 0.8045 - val_loss: 0.1320 - val_accuracy: 0.8062\n",
            "Epoch 24/500\n",
            "2985/2985 [==============================] - 6s 2ms/step - loss: 0.1320 - accuracy: 0.8047 - val_loss: 0.1307 - val_accuracy: 0.8107\n",
            "Epoch 25/500\n",
            "2985/2985 [==============================] - 10s 3ms/step - loss: 0.1320 - accuracy: 0.8043 - val_loss: 0.1313 - val_accuracy: 0.8052\n",
            "Epoch 26/500\n",
            "2985/2985 [==============================] - 7s 2ms/step - loss: 0.1316 - accuracy: 0.8050 - val_loss: 0.1305 - val_accuracy: 0.8096\n",
            "Epoch 27/500\n",
            "2985/2985 [==============================] - 6s 2ms/step - loss: 0.1313 - accuracy: 0.8056 - val_loss: 0.1305 - val_accuracy: 0.8098\n",
            "Epoch 28/500\n",
            "2985/2985 [==============================] - 6s 2ms/step - loss: 0.1311 - accuracy: 0.8053 - val_loss: 0.1324 - val_accuracy: 0.8051\n",
            "Epoch 29/500\n",
            "2985/2985 [==============================] - 9s 3ms/step - loss: 0.1309 - accuracy: 0.8059 - val_loss: 0.1316 - val_accuracy: 0.8048\n",
            "Epoch 30/500\n",
            "2985/2985 [==============================] - 6s 2ms/step - loss: 0.1306 - accuracy: 0.8064 - val_loss: 0.1300 - val_accuracy: 0.8092\n",
            "Epoch 31/500\n",
            "2985/2985 [==============================] - 5s 2ms/step - loss: 0.1306 - accuracy: 0.8069 - val_loss: 0.1299 - val_accuracy: 0.8093\n",
            "Epoch 32/500\n",
            "2985/2985 [==============================] - 6s 2ms/step - loss: 0.1299 - accuracy: 0.8066 - val_loss: 0.1347 - val_accuracy: 0.7963\n",
            "Epoch 33/500\n",
            "2985/2985 [==============================] - 6s 2ms/step - loss: 0.1299 - accuracy: 0.8070 - val_loss: 0.1280 - val_accuracy: 0.8131\n",
            "Epoch 34/500\n",
            "2985/2985 [==============================] - 5s 2ms/step - loss: 0.1294 - accuracy: 0.8081 - val_loss: 0.1280 - val_accuracy: 0.8128\n",
            "Epoch 35/500\n",
            "2985/2985 [==============================] - 5s 2ms/step - loss: 0.1291 - accuracy: 0.8085 - val_loss: 0.1291 - val_accuracy: 0.8124\n",
            "Epoch 36/500\n",
            "2985/2985 [==============================] - 5s 2ms/step - loss: 0.1289 - accuracy: 0.8092 - val_loss: 0.1278 - val_accuracy: 0.8139\n",
            "Epoch 37/500\n",
            "2985/2985 [==============================] - 6s 2ms/step - loss: 0.1286 - accuracy: 0.8103 - val_loss: 0.1283 - val_accuracy: 0.8134\n",
            "Epoch 38/500\n",
            "2985/2985 [==============================] - 5s 2ms/step - loss: 0.1282 - accuracy: 0.8101 - val_loss: 0.1272 - val_accuracy: 0.8151\n",
            "Epoch 39/500\n",
            "2985/2985 [==============================] - 6s 2ms/step - loss: 0.1279 - accuracy: 0.8110 - val_loss: 0.1309 - val_accuracy: 0.8051\n",
            "Epoch 40/500\n",
            "2985/2985 [==============================] - 6s 2ms/step - loss: 0.1274 - accuracy: 0.8112 - val_loss: 0.1279 - val_accuracy: 0.8135\n",
            "Epoch 41/500\n",
            "2985/2985 [==============================] - 5s 2ms/step - loss: 0.1270 - accuracy: 0.8127 - val_loss: 0.1278 - val_accuracy: 0.8088\n",
            "Epoch 42/500\n",
            "2985/2985 [==============================] - 6s 2ms/step - loss: 0.1267 - accuracy: 0.8127 - val_loss: 0.1337 - val_accuracy: 0.7985\n",
            "Epoch 43/500\n",
            "2985/2985 [==============================] - 9s 3ms/step - loss: 0.1266 - accuracy: 0.8127 - val_loss: 0.1254 - val_accuracy: 0.8169\n",
            "Epoch 44/500\n",
            "2985/2985 [==============================] - 8s 3ms/step - loss: 0.1263 - accuracy: 0.8129 - val_loss: 0.1253 - val_accuracy: 0.8180\n",
            "Epoch 45/500\n",
            "2985/2985 [==============================] - 9s 3ms/step - loss: 0.1261 - accuracy: 0.8133 - val_loss: 0.1267 - val_accuracy: 0.8146\n",
            "Epoch 46/500\n",
            "2985/2985 [==============================] - 7s 2ms/step - loss: 0.1260 - accuracy: 0.8142 - val_loss: 0.1247 - val_accuracy: 0.8184\n",
            "Epoch 47/500\n",
            "2985/2985 [==============================] - 7s 2ms/step - loss: 0.1258 - accuracy: 0.8146 - val_loss: 0.1255 - val_accuracy: 0.8170\n",
            "Epoch 48/500\n",
            "2985/2985 [==============================] - 7s 2ms/step - loss: 0.1255 - accuracy: 0.8164 - val_loss: 0.1266 - val_accuracy: 0.8145\n",
            "Epoch 49/500\n",
            "2985/2985 [==============================] - 6s 2ms/step - loss: 0.1252 - accuracy: 0.8156 - val_loss: 0.1236 - val_accuracy: 0.8187\n",
            "Epoch 50/500\n",
            "2985/2985 [==============================] - 8s 3ms/step - loss: 0.1248 - accuracy: 0.8169 - val_loss: 0.1267 - val_accuracy: 0.8123\n",
            "Epoch 51/500\n",
            "2985/2985 [==============================] - 8s 3ms/step - loss: 0.1244 - accuracy: 0.8178 - val_loss: 0.1332 - val_accuracy: 0.7998\n",
            "Epoch 52/500\n",
            "2985/2985 [==============================] - 6s 2ms/step - loss: 0.1246 - accuracy: 0.8178 - val_loss: 0.1235 - val_accuracy: 0.8187\n",
            "Epoch 53/500\n",
            "2985/2985 [==============================] - 6s 2ms/step - loss: 0.1245 - accuracy: 0.8173 - val_loss: 0.1234 - val_accuracy: 0.8242\n",
            "Epoch 54/500\n",
            "2985/2985 [==============================] - 7s 3ms/step - loss: 0.1239 - accuracy: 0.8193 - val_loss: 0.1234 - val_accuracy: 0.8213\n",
            "Epoch 55/500\n",
            "2985/2985 [==============================] - 7s 2ms/step - loss: 0.1240 - accuracy: 0.8191 - val_loss: 0.1254 - val_accuracy: 0.8162\n",
            "Epoch 56/500\n",
            "2985/2985 [==============================] - 6s 2ms/step - loss: 0.1235 - accuracy: 0.8190 - val_loss: 0.1259 - val_accuracy: 0.8158\n",
            "Epoch 57/500\n",
            "2985/2985 [==============================] - 6s 2ms/step - loss: 0.1235 - accuracy: 0.8194 - val_loss: 0.1238 - val_accuracy: 0.8197\n",
            "Epoch 58/500\n",
            "2985/2985 [==============================] - 5s 2ms/step - loss: 0.1233 - accuracy: 0.8199 - val_loss: 0.1234 - val_accuracy: 0.8194\n",
            "Epoch 59/500\n",
            "2985/2985 [==============================] - 6s 2ms/step - loss: 0.1232 - accuracy: 0.8202 - val_loss: 0.1266 - val_accuracy: 0.8142\n",
            "Epoch 60/500\n",
            "2985/2985 [==============================] - 5s 2ms/step - loss: 0.1231 - accuracy: 0.8213 - val_loss: 0.1221 - val_accuracy: 0.8258\n",
            "Epoch 61/500\n",
            "2985/2985 [==============================] - 7s 2ms/step - loss: 0.1230 - accuracy: 0.8199 - val_loss: 0.1247 - val_accuracy: 0.8181\n",
            "Epoch 62/500\n",
            "2985/2985 [==============================] - 6s 2ms/step - loss: 0.1229 - accuracy: 0.8211 - val_loss: 0.1222 - val_accuracy: 0.8231\n",
            "Epoch 63/500\n",
            "2985/2985 [==============================] - 6s 2ms/step - loss: 0.1226 - accuracy: 0.8216 - val_loss: 0.1230 - val_accuracy: 0.8208\n",
            "Epoch 64/500\n",
            "2985/2985 [==============================] - 5s 2ms/step - loss: 0.1227 - accuracy: 0.8213 - val_loss: 0.1228 - val_accuracy: 0.8241\n",
            "Epoch 65/500\n",
            "2985/2985 [==============================] - 5s 2ms/step - loss: 0.1228 - accuracy: 0.8209 - val_loss: 0.1252 - val_accuracy: 0.8201\n",
            "Epoch 66/500\n",
            "2985/2985 [==============================] - 6s 2ms/step - loss: 0.1226 - accuracy: 0.8213 - val_loss: 0.1217 - val_accuracy: 0.8229\n",
            "Epoch 67/500\n",
            "2985/2985 [==============================] - 5s 2ms/step - loss: 0.1225 - accuracy: 0.8222 - val_loss: 0.1224 - val_accuracy: 0.8245\n",
            "Epoch 68/500\n",
            "2985/2985 [==============================] - 6s 2ms/step - loss: 0.1226 - accuracy: 0.8212 - val_loss: 0.1228 - val_accuracy: 0.8216\n",
            "Epoch 69/500\n",
            "2985/2985 [==============================] - 6s 2ms/step - loss: 0.1225 - accuracy: 0.8221 - val_loss: 0.1211 - val_accuracy: 0.8258\n",
            "Epoch 70/500\n",
            "2985/2985 [==============================] - 6s 2ms/step - loss: 0.1224 - accuracy: 0.8217 - val_loss: 0.1229 - val_accuracy: 0.8255\n",
            "Epoch 71/500\n",
            "2985/2985 [==============================] - 7s 2ms/step - loss: 0.1222 - accuracy: 0.8216 - val_loss: 0.1220 - val_accuracy: 0.8264\n",
            "Epoch 72/500\n",
            "2985/2985 [==============================] - 5s 2ms/step - loss: 0.1222 - accuracy: 0.8228 - val_loss: 0.1240 - val_accuracy: 0.8215\n",
            "Epoch 73/500\n",
            "2985/2985 [==============================] - 6s 2ms/step - loss: 0.1224 - accuracy: 0.8210 - val_loss: 0.1230 - val_accuracy: 0.8244\n",
            "Epoch 74/500\n",
            "2985/2985 [==============================] - 7s 2ms/step - loss: 0.1220 - accuracy: 0.8217 - val_loss: 0.1216 - val_accuracy: 0.8225\n",
            "Epoch 75/500\n",
            "2985/2985 [==============================] - 5s 2ms/step - loss: 0.1220 - accuracy: 0.8225 - val_loss: 0.1220 - val_accuracy: 0.8253\n",
            "Epoch 76/500\n",
            "2985/2985 [==============================] - 6s 2ms/step - loss: 0.1217 - accuracy: 0.8235 - val_loss: 0.1218 - val_accuracy: 0.8208\n",
            "Epoch 77/500\n",
            "2985/2985 [==============================] - 6s 2ms/step - loss: 0.1218 - accuracy: 0.8226 - val_loss: 0.1218 - val_accuracy: 0.8240\n",
            "Epoch 78/500\n",
            "2985/2985 [==============================] - 6s 2ms/step - loss: 0.1217 - accuracy: 0.8223 - val_loss: 0.1210 - val_accuracy: 0.8264\n",
            "Epoch 79/500\n",
            "2985/2985 [==============================] - 6s 2ms/step - loss: 0.1217 - accuracy: 0.8224 - val_loss: 0.1214 - val_accuracy: 0.8241\n",
            "Epoch 80/500\n",
            "2985/2985 [==============================] - 6s 2ms/step - loss: 0.1217 - accuracy: 0.8223 - val_loss: 0.1293 - val_accuracy: 0.8074\n",
            "Epoch 81/500\n",
            "2985/2985 [==============================] - 5s 2ms/step - loss: 0.1217 - accuracy: 0.8222 - val_loss: 0.1206 - val_accuracy: 0.8242\n",
            "Epoch 82/500\n",
            "2985/2985 [==============================] - 6s 2ms/step - loss: 0.1217 - accuracy: 0.8220 - val_loss: 0.1212 - val_accuracy: 0.8245\n",
            "Epoch 83/500\n",
            "2985/2985 [==============================] - 6s 2ms/step - loss: 0.1214 - accuracy: 0.8233 - val_loss: 0.1203 - val_accuracy: 0.8276\n",
            "Epoch 84/500\n",
            "2985/2985 [==============================] - 6s 2ms/step - loss: 0.1218 - accuracy: 0.8224 - val_loss: 0.1234 - val_accuracy: 0.8182\n",
            "Epoch 85/500\n",
            "2985/2985 [==============================] - 6s 2ms/step - loss: 0.1214 - accuracy: 0.8235 - val_loss: 0.1209 - val_accuracy: 0.8222\n",
            "Epoch 86/500\n",
            "2985/2985 [==============================] - 5s 2ms/step - loss: 0.1213 - accuracy: 0.8228 - val_loss: 0.1207 - val_accuracy: 0.8247\n",
            "Epoch 87/500\n",
            "2985/2985 [==============================] - 5s 2ms/step - loss: 0.1213 - accuracy: 0.8230 - val_loss: 0.1214 - val_accuracy: 0.8244\n",
            "Epoch 88/500\n",
            "2985/2985 [==============================] - 5s 2ms/step - loss: 0.1214 - accuracy: 0.8228 - val_loss: 0.1209 - val_accuracy: 0.8255\n",
            "Epoch 89/500\n",
            "2985/2985 [==============================] - 5s 2ms/step - loss: 0.1214 - accuracy: 0.8229 - val_loss: 0.1207 - val_accuracy: 0.8217\n",
            "Epoch 90/500\n",
            "2985/2985 [==============================] - 5s 2ms/step - loss: 0.1209 - accuracy: 0.8234 - val_loss: 0.1201 - val_accuracy: 0.8246\n",
            "Epoch 91/500\n",
            "2985/2985 [==============================] - 5s 2ms/step - loss: 0.1208 - accuracy: 0.8234 - val_loss: 0.1271 - val_accuracy: 0.8082\n",
            "Epoch 92/500\n",
            "2985/2985 [==============================] - 5s 2ms/step - loss: 0.1213 - accuracy: 0.8224 - val_loss: 0.1201 - val_accuracy: 0.8248\n",
            "Epoch 93/500\n",
            "2985/2985 [==============================] - 5s 2ms/step - loss: 0.1210 - accuracy: 0.8247 - val_loss: 0.1237 - val_accuracy: 0.8181\n",
            "Epoch 94/500\n",
            "2985/2985 [==============================] - 5s 2ms/step - loss: 0.1209 - accuracy: 0.8237 - val_loss: 0.1195 - val_accuracy: 0.8275\n",
            "Epoch 95/500\n",
            "2985/2985 [==============================] - 5s 2ms/step - loss: 0.1211 - accuracy: 0.8231 - val_loss: 0.1251 - val_accuracy: 0.8159\n",
            "Epoch 96/500\n",
            "2985/2985 [==============================] - 5s 2ms/step - loss: 0.1207 - accuracy: 0.8240 - val_loss: 0.1216 - val_accuracy: 0.8236\n",
            "Epoch 97/500\n",
            "2985/2985 [==============================] - 5s 2ms/step - loss: 0.1208 - accuracy: 0.8242 - val_loss: 0.1291 - val_accuracy: 0.8054\n",
            "Epoch 98/500\n",
            "2985/2985 [==============================] - 6s 2ms/step - loss: 0.1206 - accuracy: 0.8238 - val_loss: 0.1198 - val_accuracy: 0.8248\n",
            "Epoch 99/500\n",
            "2985/2985 [==============================] - 5s 2ms/step - loss: 0.1206 - accuracy: 0.8235 - val_loss: 0.1195 - val_accuracy: 0.8268\n",
            "Epoch 100/500\n",
            "2985/2985 [==============================] - 5s 2ms/step - loss: 0.1203 - accuracy: 0.8248 - val_loss: 0.1210 - val_accuracy: 0.8218\n",
            "Epoch 101/500\n",
            "2985/2985 [==============================] - 6s 2ms/step - loss: 0.1204 - accuracy: 0.8234 - val_loss: 0.1210 - val_accuracy: 0.8221\n",
            "Epoch 102/500\n",
            "2985/2985 [==============================] - 6s 2ms/step - loss: 0.1204 - accuracy: 0.8238 - val_loss: 0.1220 - val_accuracy: 0.8210\n",
            "Epoch 103/500\n",
            "2985/2985 [==============================] - 6s 2ms/step - loss: 0.1200 - accuracy: 0.8250 - val_loss: 0.1226 - val_accuracy: 0.8177\n",
            "Epoch 104/500\n",
            "2985/2985 [==============================] - 6s 2ms/step - loss: 0.1199 - accuracy: 0.8241 - val_loss: 0.1188 - val_accuracy: 0.8285\n",
            "Epoch 105/500\n",
            "2985/2985 [==============================] - 5s 2ms/step - loss: 0.1205 - accuracy: 0.8237 - val_loss: 0.1246 - val_accuracy: 0.8136\n",
            "Epoch 106/500\n",
            "2985/2985 [==============================] - 5s 2ms/step - loss: 0.1204 - accuracy: 0.8238 - val_loss: 0.1216 - val_accuracy: 0.8218\n",
            "Epoch 107/500\n",
            "2985/2985 [==============================] - 5s 2ms/step - loss: 0.1202 - accuracy: 0.8245 - val_loss: 0.1203 - val_accuracy: 0.8241\n",
            "Epoch 108/500\n",
            "2985/2985 [==============================] - 6s 2ms/step - loss: 0.1202 - accuracy: 0.8238 - val_loss: 0.1192 - val_accuracy: 0.8254\n",
            "Epoch 109/500\n",
            "2985/2985 [==============================] - 5s 2ms/step - loss: 0.1200 - accuracy: 0.8244 - val_loss: 0.1218 - val_accuracy: 0.8231\n",
            "Epoch 110/500\n",
            "2985/2985 [==============================] - 5s 2ms/step - loss: 0.1201 - accuracy: 0.8247 - val_loss: 0.1190 - val_accuracy: 0.8275\n",
            "Epoch 111/500\n",
            "2985/2985 [==============================] - 6s 2ms/step - loss: 0.1202 - accuracy: 0.8244 - val_loss: 0.1187 - val_accuracy: 0.8269\n",
            "Epoch 112/500\n",
            "2985/2985 [==============================] - 5s 2ms/step - loss: 0.1200 - accuracy: 0.8240 - val_loss: 0.1200 - val_accuracy: 0.8257\n",
            "Epoch 113/500\n",
            "2985/2985 [==============================] - 6s 2ms/step - loss: 0.1196 - accuracy: 0.8253 - val_loss: 0.1187 - val_accuracy: 0.8270\n",
            "Epoch 114/500\n",
            "2985/2985 [==============================] - 6s 2ms/step - loss: 0.1197 - accuracy: 0.8252 - val_loss: 0.1191 - val_accuracy: 0.8263\n",
            "Epoch 115/500\n",
            "2985/2985 [==============================] - 6s 2ms/step - loss: 0.1197 - accuracy: 0.8252 - val_loss: 0.1224 - val_accuracy: 0.8182\n",
            "Epoch 116/500\n",
            "2985/2985 [==============================] - 5s 2ms/step - loss: 0.1199 - accuracy: 0.8253 - val_loss: 0.1215 - val_accuracy: 0.8218\n",
            "Epoch 117/500\n",
            "2985/2985 [==============================] - 6s 2ms/step - loss: 0.1198 - accuracy: 0.8244 - val_loss: 0.1197 - val_accuracy: 0.8243\n",
            "Epoch 118/500\n",
            "2985/2985 [==============================] - 5s 2ms/step - loss: 0.1194 - accuracy: 0.8251 - val_loss: 0.1192 - val_accuracy: 0.8252\n",
            "Epoch 119/500\n",
            "2985/2985 [==============================] - 6s 2ms/step - loss: 0.1195 - accuracy: 0.8243 - val_loss: 0.1212 - val_accuracy: 0.8201\n",
            "Epoch 120/500\n",
            "2985/2985 [==============================] - 5s 2ms/step - loss: 0.1197 - accuracy: 0.8248 - val_loss: 0.1185 - val_accuracy: 0.8288\n",
            "Epoch 121/500\n",
            "2985/2985 [==============================] - 5s 2ms/step - loss: 0.1194 - accuracy: 0.8254 - val_loss: 0.1189 - val_accuracy: 0.8271\n",
            "Epoch 122/500\n",
            "2985/2985 [==============================] - 6s 2ms/step - loss: 0.1194 - accuracy: 0.8261 - val_loss: 0.1191 - val_accuracy: 0.8280\n",
            "Epoch 123/500\n",
            "2985/2985 [==============================] - 6s 2ms/step - loss: 0.1193 - accuracy: 0.8254 - val_loss: 0.1183 - val_accuracy: 0.8283\n",
            "Epoch 124/500\n",
            "2985/2985 [==============================] - 5s 2ms/step - loss: 0.1197 - accuracy: 0.8247 - val_loss: 0.1281 - val_accuracy: 0.8113\n",
            "Epoch 125/500\n",
            "2985/2985 [==============================] - 6s 2ms/step - loss: 0.1196 - accuracy: 0.8239 - val_loss: 0.1177 - val_accuracy: 0.8292\n",
            "Epoch 126/500\n",
            "2985/2985 [==============================] - 6s 2ms/step - loss: 0.1192 - accuracy: 0.8260 - val_loss: 0.1180 - val_accuracy: 0.8268\n",
            "Epoch 127/500\n",
            "2985/2985 [==============================] - 6s 2ms/step - loss: 0.1193 - accuracy: 0.8256 - val_loss: 0.1182 - val_accuracy: 0.8264\n",
            "Epoch 128/500\n",
            "2985/2985 [==============================] - 6s 2ms/step - loss: 0.1193 - accuracy: 0.8256 - val_loss: 0.1205 - val_accuracy: 0.8226\n",
            "Epoch 129/500\n",
            "2985/2985 [==============================] - 5s 2ms/step - loss: 0.1193 - accuracy: 0.8248 - val_loss: 0.1220 - val_accuracy: 0.8181\n",
            "Epoch 130/500\n",
            "2985/2985 [==============================] - 6s 2ms/step - loss: 0.1194 - accuracy: 0.8252 - val_loss: 0.1177 - val_accuracy: 0.8280\n",
            "Epoch 131/500\n",
            "2985/2985 [==============================] - 6s 2ms/step - loss: 0.1190 - accuracy: 0.8258 - val_loss: 0.1201 - val_accuracy: 0.8237\n",
            "Epoch 132/500\n",
            "2985/2985 [==============================] - 5s 2ms/step - loss: 0.1192 - accuracy: 0.8257 - val_loss: 0.1182 - val_accuracy: 0.8275\n",
            "Epoch 133/500\n",
            "2985/2985 [==============================] - 5s 2ms/step - loss: 0.1190 - accuracy: 0.8256 - val_loss: 0.1252 - val_accuracy: 0.8143\n",
            "Epoch 134/500\n",
            "2985/2985 [==============================] - 5s 2ms/step - loss: 0.1192 - accuracy: 0.8248 - val_loss: 0.1185 - val_accuracy: 0.8278\n",
            "Epoch 135/500\n",
            "2985/2985 [==============================] - 6s 2ms/step - loss: 0.1190 - accuracy: 0.8252 - val_loss: 0.1179 - val_accuracy: 0.8272\n",
            "Epoch 136/500\n",
            "2985/2985 [==============================] - 5s 2ms/step - loss: 0.1189 - accuracy: 0.8264 - val_loss: 0.1186 - val_accuracy: 0.8266\n",
            "Epoch 137/500\n",
            "2985/2985 [==============================] - 5s 2ms/step - loss: 0.1189 - accuracy: 0.8255 - val_loss: 0.1181 - val_accuracy: 0.8290\n",
            "Epoch 138/500\n",
            "2985/2985 [==============================] - 6s 2ms/step - loss: 0.1191 - accuracy: 0.8260 - val_loss: 0.1185 - val_accuracy: 0.8267\n",
            "Epoch 139/500\n",
            "2985/2985 [==============================] - 6s 2ms/step - loss: 0.1186 - accuracy: 0.8264 - val_loss: 0.1196 - val_accuracy: 0.8243\n",
            "Epoch 140/500\n",
            "2985/2985 [==============================] - 6s 2ms/step - loss: 0.1189 - accuracy: 0.8263 - val_loss: 0.1316 - val_accuracy: 0.8049\n",
            "Epoch 141/500\n",
            "2985/2985 [==============================] - 5s 2ms/step - loss: 0.1188 - accuracy: 0.8267 - val_loss: 0.1180 - val_accuracy: 0.8267\n",
            "Epoch 142/500\n",
            "2985/2985 [==============================] - 6s 2ms/step - loss: 0.1190 - accuracy: 0.8252 - val_loss: 0.1174 - val_accuracy: 0.8310\n",
            "Epoch 143/500\n",
            "2985/2985 [==============================] - 6s 2ms/step - loss: 0.1185 - accuracy: 0.8264 - val_loss: 0.1175 - val_accuracy: 0.8273\n",
            "Epoch 144/500\n",
            "2985/2985 [==============================] - 5s 2ms/step - loss: 0.1186 - accuracy: 0.8275 - val_loss: 0.1178 - val_accuracy: 0.8281\n",
            "Epoch 145/500\n",
            "2985/2985 [==============================] - 6s 2ms/step - loss: 0.1186 - accuracy: 0.8256 - val_loss: 0.1185 - val_accuracy: 0.8270\n",
            "Epoch 146/500\n",
            "2985/2985 [==============================] - 6s 2ms/step - loss: 0.1185 - accuracy: 0.8266 - val_loss: 0.1183 - val_accuracy: 0.8272\n",
            "Epoch 147/500\n",
            "2985/2985 [==============================] - 5s 2ms/step - loss: 0.1185 - accuracy: 0.8265 - val_loss: 0.1182 - val_accuracy: 0.8286\n",
            "Epoch 148/500\n",
            "2985/2985 [==============================] - 6s 2ms/step - loss: 0.1186 - accuracy: 0.8267 - val_loss: 0.1203 - val_accuracy: 0.8220\n",
            "Epoch 149/500\n",
            "2985/2985 [==============================] - 6s 2ms/step - loss: 0.1185 - accuracy: 0.8260 - val_loss: 0.1174 - val_accuracy: 0.8296\n",
            "Epoch 150/500\n",
            "2985/2985 [==============================] - 6s 2ms/step - loss: 0.1186 - accuracy: 0.8263 - val_loss: 0.1172 - val_accuracy: 0.8290\n",
            "Epoch 151/500\n",
            "2985/2985 [==============================] - 5s 2ms/step - loss: 0.1187 - accuracy: 0.8261 - val_loss: 0.1209 - val_accuracy: 0.8217\n",
            "Epoch 152/500\n",
            "2985/2985 [==============================] - 6s 2ms/step - loss: 0.1185 - accuracy: 0.8266 - val_loss: 0.1171 - val_accuracy: 0.8316\n",
            "Epoch 153/500\n",
            "2985/2985 [==============================] - 5s 2ms/step - loss: 0.1181 - accuracy: 0.8270 - val_loss: 0.1175 - val_accuracy: 0.8300\n",
            "Epoch 154/500\n",
            "2985/2985 [==============================] - 6s 2ms/step - loss: 0.1183 - accuracy: 0.8267 - val_loss: 0.1167 - val_accuracy: 0.8302\n",
            "Epoch 155/500\n",
            "2985/2985 [==============================] - 6s 2ms/step - loss: 0.1181 - accuracy: 0.8268 - val_loss: 0.1174 - val_accuracy: 0.8281\n",
            "Epoch 156/500\n",
            "2985/2985 [==============================] - 6s 2ms/step - loss: 0.1184 - accuracy: 0.8261 - val_loss: 0.1175 - val_accuracy: 0.8290\n",
            "Epoch 157/500\n",
            "2985/2985 [==============================] - 6s 2ms/step - loss: 0.1182 - accuracy: 0.8267 - val_loss: 0.1197 - val_accuracy: 0.8205\n",
            "Epoch 158/500\n",
            "2985/2985 [==============================] - 5s 2ms/step - loss: 0.1182 - accuracy: 0.8267 - val_loss: 0.1178 - val_accuracy: 0.8277\n",
            "Epoch 159/500\n",
            "2985/2985 [==============================] - 5s 2ms/step - loss: 0.1178 - accuracy: 0.8287 - val_loss: 0.1167 - val_accuracy: 0.8303\n",
            "Epoch 160/500\n",
            "2985/2985 [==============================] - 6s 2ms/step - loss: 0.1182 - accuracy: 0.8262 - val_loss: 0.1233 - val_accuracy: 0.8175\n",
            "Epoch 161/500\n",
            "2985/2985 [==============================] - 6s 2ms/step - loss: 0.1182 - accuracy: 0.8269 - val_loss: 0.1179 - val_accuracy: 0.8296\n",
            "Epoch 162/500\n",
            "2985/2985 [==============================] - 6s 2ms/step - loss: 0.1178 - accuracy: 0.8267 - val_loss: 0.1179 - val_accuracy: 0.8260\n",
            "Epoch 163/500\n",
            "2985/2985 [==============================] - 6s 2ms/step - loss: 0.1179 - accuracy: 0.8267 - val_loss: 0.1189 - val_accuracy: 0.8246\n",
            "Epoch 164/500\n",
            "2985/2985 [==============================] - 5s 2ms/step - loss: 0.1179 - accuracy: 0.8274 - val_loss: 0.1163 - val_accuracy: 0.8321\n",
            "Epoch 165/500\n",
            "2985/2985 [==============================] - 6s 2ms/step - loss: 0.1179 - accuracy: 0.8272 - val_loss: 0.1162 - val_accuracy: 0.8304\n",
            "Epoch 166/500\n",
            "2985/2985 [==============================] - 6s 2ms/step - loss: 0.1177 - accuracy: 0.8275 - val_loss: 0.1173 - val_accuracy: 0.8284\n",
            "Epoch 167/500\n",
            "2985/2985 [==============================] - 6s 2ms/step - loss: 0.1178 - accuracy: 0.8280 - val_loss: 0.1162 - val_accuracy: 0.8310\n",
            "Epoch 168/500\n",
            "2985/2985 [==============================] - 6s 2ms/step - loss: 0.1178 - accuracy: 0.8279 - val_loss: 0.1208 - val_accuracy: 0.8198\n",
            "Epoch 169/500\n",
            "2985/2985 [==============================] - 5s 2ms/step - loss: 0.1180 - accuracy: 0.8270 - val_loss: 0.1185 - val_accuracy: 0.8259\n",
            "Epoch 170/500\n",
            "2985/2985 [==============================] - 5s 2ms/step - loss: 0.1178 - accuracy: 0.8270 - val_loss: 0.1212 - val_accuracy: 0.8197\n",
            "Epoch 171/500\n",
            "2985/2985 [==============================] - 6s 2ms/step - loss: 0.1177 - accuracy: 0.8287 - val_loss: 0.1164 - val_accuracy: 0.8304\n",
            "Epoch 172/500\n",
            "2985/2985 [==============================] - 5s 2ms/step - loss: 0.1177 - accuracy: 0.8272 - val_loss: 0.1171 - val_accuracy: 0.8272\n",
            "Epoch 173/500\n",
            "2985/2985 [==============================] - 6s 2ms/step - loss: 0.1174 - accuracy: 0.8279 - val_loss: 0.1199 - val_accuracy: 0.8227\n",
            "Epoch 174/500\n",
            "2985/2985 [==============================] - 6s 2ms/step - loss: 0.1175 - accuracy: 0.8282 - val_loss: 0.1176 - val_accuracy: 0.8270\n",
            "Epoch 175/500\n",
            "2985/2985 [==============================] - 5s 2ms/step - loss: 0.1177 - accuracy: 0.8278 - val_loss: 0.1187 - val_accuracy: 0.8251\n",
            "Epoch 176/500\n",
            "2985/2985 [==============================] - 5s 2ms/step - loss: 0.1172 - accuracy: 0.8282 - val_loss: 0.1162 - val_accuracy: 0.8312\n",
            "Epoch 177/500\n",
            "2985/2985 [==============================] - 6s 2ms/step - loss: 0.1174 - accuracy: 0.8277 - val_loss: 0.1169 - val_accuracy: 0.8290\n",
            "Epoch 178/500\n",
            "2985/2985 [==============================] - 6s 2ms/step - loss: 0.1176 - accuracy: 0.8280 - val_loss: 0.1249 - val_accuracy: 0.8136\n",
            "Epoch 179/500\n",
            "2985/2985 [==============================] - 6s 2ms/step - loss: 0.1177 - accuracy: 0.8280 - val_loss: 0.1165 - val_accuracy: 0.8317\n",
            "Epoch 180/500\n",
            "2985/2985 [==============================] - 6s 2ms/step - loss: 0.1172 - accuracy: 0.8289 - val_loss: 0.1164 - val_accuracy: 0.8308\n",
            "Epoch 181/500\n",
            "2985/2985 [==============================] - 6s 2ms/step - loss: 0.1173 - accuracy: 0.8284 - val_loss: 0.1161 - val_accuracy: 0.8335\n",
            "Epoch 182/500\n",
            "2985/2985 [==============================] - 6s 2ms/step - loss: 0.1175 - accuracy: 0.8286 - val_loss: 0.1227 - val_accuracy: 0.8192\n",
            "Epoch 183/500\n",
            "2985/2985 [==============================] - 5s 2ms/step - loss: 0.1174 - accuracy: 0.8282 - val_loss: 0.1186 - val_accuracy: 0.8287\n",
            "Epoch 184/500\n",
            "2985/2985 [==============================] - 6s 2ms/step - loss: 0.1171 - accuracy: 0.8288 - val_loss: 0.1163 - val_accuracy: 0.8329\n",
            "Epoch 185/500\n",
            "2985/2985 [==============================] - 6s 2ms/step - loss: 0.1174 - accuracy: 0.8281 - val_loss: 0.1166 - val_accuracy: 0.8301\n",
            "Epoch 186/500\n",
            "2985/2985 [==============================] - 6s 2ms/step - loss: 0.1173 - accuracy: 0.8284 - val_loss: 0.1166 - val_accuracy: 0.8329\n",
            "Epoch 187/500\n",
            "2985/2985 [==============================] - 5s 2ms/step - loss: 0.1173 - accuracy: 0.8288 - val_loss: 0.1215 - val_accuracy: 0.8208\n",
            "Epoch 188/500\n",
            "2985/2985 [==============================] - 5s 2ms/step - loss: 0.1173 - accuracy: 0.8294 - val_loss: 0.1183 - val_accuracy: 0.8258\n",
            "Epoch 189/500\n",
            "2985/2985 [==============================] - 6s 2ms/step - loss: 0.1171 - accuracy: 0.8280 - val_loss: 0.1173 - val_accuracy: 0.8303\n",
            "Epoch 190/500\n",
            "2985/2985 [==============================] - 6s 2ms/step - loss: 0.1173 - accuracy: 0.8287 - val_loss: 0.1181 - val_accuracy: 0.8263\n",
            "Epoch 191/500\n",
            "2985/2985 [==============================] - 6s 2ms/step - loss: 0.1173 - accuracy: 0.8289 - val_loss: 0.1163 - val_accuracy: 0.8312\n",
            "Epoch 192/500\n",
            "2985/2985 [==============================] - 5s 2ms/step - loss: 0.1171 - accuracy: 0.8298 - val_loss: 0.1178 - val_accuracy: 0.8240\n",
            "Epoch 193/500\n",
            "2985/2985 [==============================] - 5s 2ms/step - loss: 0.1172 - accuracy: 0.8293 - val_loss: 0.1206 - val_accuracy: 0.8214\n",
            "Epoch 194/500\n",
            "2985/2985 [==============================] - 5s 2ms/step - loss: 0.1171 - accuracy: 0.8296 - val_loss: 0.1161 - val_accuracy: 0.8314\n",
            "Epoch 195/500\n",
            "2985/2985 [==============================] - 5s 2ms/step - loss: 0.1172 - accuracy: 0.8280 - val_loss: 0.1184 - val_accuracy: 0.8272\n",
            "Epoch 196/500\n",
            "2985/2985 [==============================] - 5s 2ms/step - loss: 0.1169 - accuracy: 0.8294 - val_loss: 0.1167 - val_accuracy: 0.8302\n",
            "Epoch 197/500\n",
            "2985/2985 [==============================] - 6s 2ms/step - loss: 0.1170 - accuracy: 0.8287 - val_loss: 0.1160 - val_accuracy: 0.8324\n",
            "Epoch 198/500\n",
            "2985/2985 [==============================] - 5s 2ms/step - loss: 0.1173 - accuracy: 0.8290 - val_loss: 0.1177 - val_accuracy: 0.8278\n",
            "Epoch 199/500\n",
            "2985/2985 [==============================] - 6s 2ms/step - loss: 0.1169 - accuracy: 0.8289 - val_loss: 0.1173 - val_accuracy: 0.8301\n",
            "Epoch 200/500\n",
            "2985/2985 [==============================] - 5s 2ms/step - loss: 0.1170 - accuracy: 0.8285 - val_loss: 0.1160 - val_accuracy: 0.8318\n",
            "Epoch 201/500\n",
            "2985/2985 [==============================] - 5s 2ms/step - loss: 0.1169 - accuracy: 0.8288 - val_loss: 0.1168 - val_accuracy: 0.8294\n",
            "Epoch 202/500\n",
            "2985/2985 [==============================] - 5s 2ms/step - loss: 0.1172 - accuracy: 0.8285 - val_loss: 0.1158 - val_accuracy: 0.8333\n",
            "Epoch 203/500\n",
            "2985/2985 [==============================] - 5s 2ms/step - loss: 0.1169 - accuracy: 0.8295 - val_loss: 0.1156 - val_accuracy: 0.8319\n",
            "Epoch 204/500\n",
            "2985/2985 [==============================] - 6s 2ms/step - loss: 0.1170 - accuracy: 0.8289 - val_loss: 0.1190 - val_accuracy: 0.8227\n",
            "Epoch 205/500\n",
            "2985/2985 [==============================] - 5s 2ms/step - loss: 0.1170 - accuracy: 0.8284 - val_loss: 0.1156 - val_accuracy: 0.8332\n",
            "Epoch 206/500\n",
            "2985/2985 [==============================] - 6s 2ms/step - loss: 0.1168 - accuracy: 0.8294 - val_loss: 0.1169 - val_accuracy: 0.8328\n",
            "Epoch 207/500\n",
            "2985/2985 [==============================] - 5s 2ms/step - loss: 0.1169 - accuracy: 0.8297 - val_loss: 0.1181 - val_accuracy: 0.8243\n",
            "Epoch 208/500\n",
            "2985/2985 [==============================] - 6s 2ms/step - loss: 0.1168 - accuracy: 0.8301 - val_loss: 0.1180 - val_accuracy: 0.8282\n",
            "Epoch 209/500\n",
            "2985/2985 [==============================] - 5s 2ms/step - loss: 0.1170 - accuracy: 0.8292 - val_loss: 0.1159 - val_accuracy: 0.8325\n",
            "Epoch 210/500\n",
            "2985/2985 [==============================] - 5s 2ms/step - loss: 0.1167 - accuracy: 0.8293 - val_loss: 0.1183 - val_accuracy: 0.8270\n",
            "Epoch 211/500\n",
            "2985/2985 [==============================] - 6s 2ms/step - loss: 0.1166 - accuracy: 0.8303 - val_loss: 0.1157 - val_accuracy: 0.8333\n",
            "Epoch 212/500\n",
            "2985/2985 [==============================] - 5s 2ms/step - loss: 0.1170 - accuracy: 0.8291 - val_loss: 0.1179 - val_accuracy: 0.8274\n",
            "Epoch 213/500\n",
            "2985/2985 [==============================] - 5s 2ms/step - loss: 0.1168 - accuracy: 0.8298 - val_loss: 0.1168 - val_accuracy: 0.8310\n",
            "Epoch 214/500\n",
            "2985/2985 [==============================] - 5s 2ms/step - loss: 0.1167 - accuracy: 0.8298 - val_loss: 0.1164 - val_accuracy: 0.8313\n",
            "Epoch 215/500\n",
            "2985/2985 [==============================] - 6s 2ms/step - loss: 0.1165 - accuracy: 0.8305 - val_loss: 0.1200 - val_accuracy: 0.8235\n",
            "Epoch 216/500\n",
            "2985/2985 [==============================] - 5s 2ms/step - loss: 0.1166 - accuracy: 0.8298 - val_loss: 0.1155 - val_accuracy: 0.8336\n",
            "Epoch 217/500\n",
            "2985/2985 [==============================] - 5s 2ms/step - loss: 0.1165 - accuracy: 0.8302 - val_loss: 0.1152 - val_accuracy: 0.8333\n",
            "Epoch 218/500\n",
            "2985/2985 [==============================] - 5s 2ms/step - loss: 0.1168 - accuracy: 0.8294 - val_loss: 0.1153 - val_accuracy: 0.8339\n",
            "Epoch 219/500\n",
            "2985/2985 [==============================] - 5s 2ms/step - loss: 0.1165 - accuracy: 0.8298 - val_loss: 0.1173 - val_accuracy: 0.8270\n",
            "Epoch 220/500\n",
            "2985/2985 [==============================] - 5s 2ms/step - loss: 0.1166 - accuracy: 0.8290 - val_loss: 0.1220 - val_accuracy: 0.8202\n",
            "Epoch 221/500\n",
            "2985/2985 [==============================] - 5s 2ms/step - loss: 0.1168 - accuracy: 0.8296 - val_loss: 0.1158 - val_accuracy: 0.8316\n",
            "Epoch 222/500\n",
            "2985/2985 [==============================] - 5s 2ms/step - loss: 0.1166 - accuracy: 0.8288 - val_loss: 0.1164 - val_accuracy: 0.8301\n",
            "Epoch 223/500\n",
            "2985/2985 [==============================] - 6s 2ms/step - loss: 0.1166 - accuracy: 0.8297 - val_loss: 0.1207 - val_accuracy: 0.8214\n",
            "Epoch 224/500\n",
            "2985/2985 [==============================] - 6s 2ms/step - loss: 0.1165 - accuracy: 0.8299 - val_loss: 0.1190 - val_accuracy: 0.8249\n",
            "Epoch 225/500\n",
            "2985/2985 [==============================] - 5s 2ms/step - loss: 0.1161 - accuracy: 0.8308 - val_loss: 0.1154 - val_accuracy: 0.8337\n",
            "Epoch 226/500\n",
            "2985/2985 [==============================] - 5s 2ms/step - loss: 0.1165 - accuracy: 0.8299 - val_loss: 0.1168 - val_accuracy: 0.8298\n",
            "Epoch 227/500\n",
            "2985/2985 [==============================] - 6s 2ms/step - loss: 0.1165 - accuracy: 0.8302 - val_loss: 0.1206 - val_accuracy: 0.8216\n",
            "Epoch 228/500\n",
            "2985/2985 [==============================] - 6s 2ms/step - loss: 0.1164 - accuracy: 0.8312 - val_loss: 0.1153 - val_accuracy: 0.8338\n",
            "Epoch 229/500\n",
            "2985/2985 [==============================] - 6s 2ms/step - loss: 0.1164 - accuracy: 0.8311 - val_loss: 0.1160 - val_accuracy: 0.8307\n",
            "Epoch 230/500\n",
            "2985/2985 [==============================] - 6s 2ms/step - loss: 0.1164 - accuracy: 0.8300 - val_loss: 0.1211 - val_accuracy: 0.8213\n",
            "Epoch 231/500\n",
            "2985/2985 [==============================] - 6s 2ms/step - loss: 0.1163 - accuracy: 0.8312 - val_loss: 0.1166 - val_accuracy: 0.8299\n",
            "Epoch 232/500\n",
            "2985/2985 [==============================] - 7s 2ms/step - loss: 0.1165 - accuracy: 0.8306 - val_loss: 0.1155 - val_accuracy: 0.8327\n",
            "Epoch 233/500\n",
            "2985/2985 [==============================] - 5s 2ms/step - loss: 0.1164 - accuracy: 0.8309 - val_loss: 0.1154 - val_accuracy: 0.8331\n",
            "Epoch 234/500\n",
            "2985/2985 [==============================] - 6s 2ms/step - loss: 0.1163 - accuracy: 0.8306 - val_loss: 0.1166 - val_accuracy: 0.8303\n",
            "Epoch 235/500\n",
            "2985/2985 [==============================] - 6s 2ms/step - loss: 0.1161 - accuracy: 0.8320 - val_loss: 0.1158 - val_accuracy: 0.8317\n",
            "Epoch 236/500\n",
            "2985/2985 [==============================] - 5s 2ms/step - loss: 0.1161 - accuracy: 0.8306 - val_loss: 0.1154 - val_accuracy: 0.8334\n",
            "Epoch 237/500\n",
            "2985/2985 [==============================] - 5s 2ms/step - loss: 0.1161 - accuracy: 0.8306 - val_loss: 0.1166 - val_accuracy: 0.8307\n",
            "Epoch 238/500\n",
            "2985/2985 [==============================] - 5s 2ms/step - loss: 0.1160 - accuracy: 0.8310 - val_loss: 0.1171 - val_accuracy: 0.8294\n",
            "Epoch 239/500\n",
            "2985/2985 [==============================] - 6s 2ms/step - loss: 0.1161 - accuracy: 0.8305 - val_loss: 0.1154 - val_accuracy: 0.8346\n",
            "Epoch 240/500\n",
            "2985/2985 [==============================] - 6s 2ms/step - loss: 0.1161 - accuracy: 0.8308 - val_loss: 0.1160 - val_accuracy: 0.8316\n",
            "Epoch 241/500\n",
            "2985/2985 [==============================] - 5s 2ms/step - loss: 0.1164 - accuracy: 0.8300 - val_loss: 0.1177 - val_accuracy: 0.8314\n",
            "Epoch 242/500\n",
            "2985/2985 [==============================] - 6s 2ms/step - loss: 0.1161 - accuracy: 0.8316 - val_loss: 0.1171 - val_accuracy: 0.8303\n",
            "Epoch 243/500\n",
            "2985/2985 [==============================] - 6s 2ms/step - loss: 0.1160 - accuracy: 0.8316 - val_loss: 0.1153 - val_accuracy: 0.8335\n",
            "Epoch 244/500\n",
            "2985/2985 [==============================] - 5s 2ms/step - loss: 0.1159 - accuracy: 0.8314 - val_loss: 0.1159 - val_accuracy: 0.8334\n",
            "Epoch 245/500\n",
            "2985/2985 [==============================] - 6s 2ms/step - loss: 0.1160 - accuracy: 0.8315 - val_loss: 0.1154 - val_accuracy: 0.8346\n",
            "Epoch 246/500\n",
            "2985/2985 [==============================] - 6s 2ms/step - loss: 0.1161 - accuracy: 0.8314 - val_loss: 0.1160 - val_accuracy: 0.8324\n",
            "Epoch 247/500\n",
            "2985/2985 [==============================] - 6s 2ms/step - loss: 0.1162 - accuracy: 0.8313 - val_loss: 0.1156 - val_accuracy: 0.8331\n",
            "Epoch 248/500\n",
            "2985/2985 [==============================] - 6s 2ms/step - loss: 0.1160 - accuracy: 0.8318 - val_loss: 0.1167 - val_accuracy: 0.8305\n",
            "Epoch 249/500\n",
            "2985/2985 [==============================] - 6s 2ms/step - loss: 0.1160 - accuracy: 0.8310 - val_loss: 0.1151 - val_accuracy: 0.8346\n",
            "Epoch 250/500\n",
            "2985/2985 [==============================] - 5s 2ms/step - loss: 0.1161 - accuracy: 0.8308 - val_loss: 0.1162 - val_accuracy: 0.8314\n",
            "Epoch 251/500\n",
            "2985/2985 [==============================] - 5s 2ms/step - loss: 0.1158 - accuracy: 0.8315 - val_loss: 0.1158 - val_accuracy: 0.8326\n",
            "Epoch 252/500\n",
            "2985/2985 [==============================] - 6s 2ms/step - loss: 0.1159 - accuracy: 0.8316 - val_loss: 0.1160 - val_accuracy: 0.8307\n",
            "Epoch 253/500\n",
            "2985/2985 [==============================] - 5s 2ms/step - loss: 0.1159 - accuracy: 0.8317 - val_loss: 0.1155 - val_accuracy: 0.8324\n",
            "Epoch 254/500\n",
            "2985/2985 [==============================] - 6s 2ms/step - loss: 0.1159 - accuracy: 0.8315 - val_loss: 0.1156 - val_accuracy: 0.8319\n",
            "Epoch 255/500\n",
            "2985/2985 [==============================] - 5s 2ms/step - loss: 0.1155 - accuracy: 0.8320 - val_loss: 0.1172 - val_accuracy: 0.8285\n",
            "Epoch 256/500\n",
            "2985/2985 [==============================] - 5s 2ms/step - loss: 0.1158 - accuracy: 0.8314 - val_loss: 0.1173 - val_accuracy: 0.8319\n",
            "Epoch 257/500\n",
            "2985/2985 [==============================] - 6s 2ms/step - loss: 0.1159 - accuracy: 0.8318 - val_loss: 0.1173 - val_accuracy: 0.8310\n",
            "Epoch 258/500\n",
            "2985/2985 [==============================] - 6s 2ms/step - loss: 0.1158 - accuracy: 0.8317 - val_loss: 0.1155 - val_accuracy: 0.8333\n",
            "Epoch 259/500\n",
            "2985/2985 [==============================] - 5s 2ms/step - loss: 0.1157 - accuracy: 0.8323 - val_loss: 0.1167 - val_accuracy: 0.8307\n",
            "Epoch 260/500\n",
            "2985/2985 [==============================] - 6s 2ms/step - loss: 0.1156 - accuracy: 0.8328 - val_loss: 0.1168 - val_accuracy: 0.8298\n",
            "Epoch 261/500\n",
            "2985/2985 [==============================] - 5s 2ms/step - loss: 0.1157 - accuracy: 0.8321 - val_loss: 0.1168 - val_accuracy: 0.8266\n",
            "Epoch 262/500\n",
            "2985/2985 [==============================] - 5s 2ms/step - loss: 0.1158 - accuracy: 0.8317 - val_loss: 0.1153 - val_accuracy: 0.8328\n",
            "Epoch 263/500\n",
            "2985/2985 [==============================] - 5s 2ms/step - loss: 0.1158 - accuracy: 0.8317 - val_loss: 0.1149 - val_accuracy: 0.8352\n",
            "Epoch 264/500\n",
            "2985/2985 [==============================] - 6s 2ms/step - loss: 0.1155 - accuracy: 0.8323 - val_loss: 0.1150 - val_accuracy: 0.8353\n",
            "Epoch 265/500\n",
            "2985/2985 [==============================] - 6s 2ms/step - loss: 0.1158 - accuracy: 0.8324 - val_loss: 0.1154 - val_accuracy: 0.8356\n",
            "Epoch 266/500\n",
            "2985/2985 [==============================] - 5s 2ms/step - loss: 0.1158 - accuracy: 0.8318 - val_loss: 0.1151 - val_accuracy: 0.8355\n",
            "Epoch 267/500\n",
            "2985/2985 [==============================] - 5s 2ms/step - loss: 0.1157 - accuracy: 0.8327 - val_loss: 0.1183 - val_accuracy: 0.8287\n",
            "Epoch 268/500\n",
            "2985/2985 [==============================] - 6s 2ms/step - loss: 0.1157 - accuracy: 0.8320 - val_loss: 0.1154 - val_accuracy: 0.8323\n",
            "Epoch 269/500\n",
            "2985/2985 [==============================] - 6s 2ms/step - loss: 0.1155 - accuracy: 0.8328 - val_loss: 0.1188 - val_accuracy: 0.8257\n",
            "Epoch 270/500\n",
            "2985/2985 [==============================] - 6s 2ms/step - loss: 0.1156 - accuracy: 0.8322 - val_loss: 0.1153 - val_accuracy: 0.8320\n",
            "Epoch 271/500\n",
            "2985/2985 [==============================] - 5s 2ms/step - loss: 0.1156 - accuracy: 0.8323 - val_loss: 0.1163 - val_accuracy: 0.8305\n",
            "Epoch 272/500\n",
            "2985/2985 [==============================] - 5s 2ms/step - loss: 0.1154 - accuracy: 0.8325 - val_loss: 0.1151 - val_accuracy: 0.8343\n",
            "Epoch 273/500\n",
            "2985/2985 [==============================] - 5s 2ms/step - loss: 0.1157 - accuracy: 0.8309 - val_loss: 0.1190 - val_accuracy: 0.8247\n",
            "Epoch 274/500\n",
            "2985/2985 [==============================] - 7s 2ms/step - loss: 0.1153 - accuracy: 0.8333 - val_loss: 0.1154 - val_accuracy: 0.8355\n",
            "Epoch 275/500\n",
            "2985/2985 [==============================] - 5s 2ms/step - loss: 0.1157 - accuracy: 0.8325 - val_loss: 0.1150 - val_accuracy: 0.8353\n",
            "Epoch 276/500\n",
            "2985/2985 [==============================] - 5s 2ms/step - loss: 0.1155 - accuracy: 0.8326 - val_loss: 0.1164 - val_accuracy: 0.8332\n",
            "Epoch 277/500\n",
            "2985/2985 [==============================] - 5s 2ms/step - loss: 0.1158 - accuracy: 0.8316 - val_loss: 0.1149 - val_accuracy: 0.8354\n",
            "Epoch 278/500\n",
            "2985/2985 [==============================] - 6s 2ms/step - loss: 0.1154 - accuracy: 0.8337 - val_loss: 0.1150 - val_accuracy: 0.8350\n",
            "Epoch 279/500\n",
            "2985/2985 [==============================] - 6s 2ms/step - loss: 0.1154 - accuracy: 0.8332 - val_loss: 0.1160 - val_accuracy: 0.8320\n",
            "Epoch 280/500\n",
            "2985/2985 [==============================] - 6s 2ms/step - loss: 0.1156 - accuracy: 0.8313 - val_loss: 0.1158 - val_accuracy: 0.8355\n",
            "Epoch 281/500\n",
            "2985/2985 [==============================] - 5s 2ms/step - loss: 0.1153 - accuracy: 0.8327 - val_loss: 0.1175 - val_accuracy: 0.8300\n",
            "Epoch 282/500\n",
            "2985/2985 [==============================] - 5s 2ms/step - loss: 0.1152 - accuracy: 0.8328 - val_loss: 0.1157 - val_accuracy: 0.8316\n",
            "Epoch 283/500\n",
            "2985/2985 [==============================] - 5s 2ms/step - loss: 0.1151 - accuracy: 0.8334 - val_loss: 0.1150 - val_accuracy: 0.8335\n",
            "Epoch 284/500\n",
            "2985/2985 [==============================] - 6s 2ms/step - loss: 0.1153 - accuracy: 0.8327 - val_loss: 0.1168 - val_accuracy: 0.8279\n",
            "Epoch 285/500\n",
            "2985/2985 [==============================] - 5s 2ms/step - loss: 0.1154 - accuracy: 0.8331 - val_loss: 0.1149 - val_accuracy: 0.8352\n",
            "Epoch 286/500\n",
            "2985/2985 [==============================] - 5s 2ms/step - loss: 0.1152 - accuracy: 0.8333 - val_loss: 0.1151 - val_accuracy: 0.8337\n",
            "Epoch 287/500\n",
            "2985/2985 [==============================] - 5s 2ms/step - loss: 0.1153 - accuracy: 0.8339 - val_loss: 0.1159 - val_accuracy: 0.8305\n",
            "Epoch 288/500\n",
            "2985/2985 [==============================] - 6s 2ms/step - loss: 0.1153 - accuracy: 0.8326 - val_loss: 0.1164 - val_accuracy: 0.8262\n",
            "Epoch 289/500\n",
            "2985/2985 [==============================] - 6s 2ms/step - loss: 0.1151 - accuracy: 0.8330 - val_loss: 0.1150 - val_accuracy: 0.8337\n",
            "Epoch 290/500\n",
            "2985/2985 [==============================] - 6s 2ms/step - loss: 0.1152 - accuracy: 0.8332 - val_loss: 0.1184 - val_accuracy: 0.8250\n",
            "Epoch 291/500\n",
            "2985/2985 [==============================] - 5s 2ms/step - loss: 0.1152 - accuracy: 0.8331 - val_loss: 0.1164 - val_accuracy: 0.8314\n",
            "Epoch 292/500\n",
            "2985/2985 [==============================] - 5s 2ms/step - loss: 0.1152 - accuracy: 0.8323 - val_loss: 0.1149 - val_accuracy: 0.8346\n",
            "Epoch 293/500\n",
            "2985/2985 [==============================] - 6s 2ms/step - loss: 0.1152 - accuracy: 0.8339 - val_loss: 0.1183 - val_accuracy: 0.8299\n",
            "Epoch 294/500\n",
            "2985/2985 [==============================] - 6s 2ms/step - loss: 0.1152 - accuracy: 0.8332 - val_loss: 0.1143 - val_accuracy: 0.8356\n",
            "Epoch 295/500\n",
            "2985/2985 [==============================] - 5s 2ms/step - loss: 0.1152 - accuracy: 0.8330 - val_loss: 0.1153 - val_accuracy: 0.8332\n",
            "Epoch 296/500\n",
            "2985/2985 [==============================] - 6s 2ms/step - loss: 0.1151 - accuracy: 0.8337 - val_loss: 0.1153 - val_accuracy: 0.8316\n",
            "Epoch 297/500\n",
            "2985/2985 [==============================] - 6s 2ms/step - loss: 0.1152 - accuracy: 0.8329 - val_loss: 0.1146 - val_accuracy: 0.8345\n",
            "Epoch 298/500\n",
            "2985/2985 [==============================] - 5s 2ms/step - loss: 0.1149 - accuracy: 0.8327 - val_loss: 0.1144 - val_accuracy: 0.8344\n",
            "Epoch 299/500\n",
            "2985/2985 [==============================] - 6s 2ms/step - loss: 0.1148 - accuracy: 0.8348 - val_loss: 0.1178 - val_accuracy: 0.8249\n",
            "Epoch 300/500\n",
            "2985/2985 [==============================] - 5s 2ms/step - loss: 0.1152 - accuracy: 0.8332 - val_loss: 0.1197 - val_accuracy: 0.8245\n",
            "Epoch 301/500\n",
            "2985/2985 [==============================] - 5s 2ms/step - loss: 0.1149 - accuracy: 0.8337 - val_loss: 0.1148 - val_accuracy: 0.8355\n",
            "Epoch 302/500\n",
            "2985/2985 [==============================] - 6s 2ms/step - loss: 0.1151 - accuracy: 0.8333 - val_loss: 0.1144 - val_accuracy: 0.8348\n",
            "Epoch 303/500\n",
            "2985/2985 [==============================] - 6s 2ms/step - loss: 0.1148 - accuracy: 0.8334 - val_loss: 0.1143 - val_accuracy: 0.8361\n",
            "Epoch 304/500\n",
            "2985/2985 [==============================] - 6s 2ms/step - loss: 0.1149 - accuracy: 0.8341 - val_loss: 0.1143 - val_accuracy: 0.8342\n",
            "Epoch 305/500\n",
            "2985/2985 [==============================] - 6s 2ms/step - loss: 0.1150 - accuracy: 0.8343 - val_loss: 0.1143 - val_accuracy: 0.8362\n",
            "Epoch 306/500\n",
            "2985/2985 [==============================] - 6s 2ms/step - loss: 0.1149 - accuracy: 0.8341 - val_loss: 0.1160 - val_accuracy: 0.8292\n",
            "Epoch 307/500\n",
            "2985/2985 [==============================] - 5s 2ms/step - loss: 0.1146 - accuracy: 0.8343 - val_loss: 0.1171 - val_accuracy: 0.8332\n",
            "Epoch 308/500\n",
            "2985/2985 [==============================] - 5s 2ms/step - loss: 0.1149 - accuracy: 0.8337 - val_loss: 0.1146 - val_accuracy: 0.8330\n",
            "Epoch 309/500\n",
            "2985/2985 [==============================] - 5s 2ms/step - loss: 0.1148 - accuracy: 0.8333 - val_loss: 0.1172 - val_accuracy: 0.8324\n",
            "Epoch 310/500\n",
            "2985/2985 [==============================] - 5s 2ms/step - loss: 0.1149 - accuracy: 0.8340 - val_loss: 0.1158 - val_accuracy: 0.8319\n",
            "Epoch 311/500\n",
            "2985/2985 [==============================] - 6s 2ms/step - loss: 0.1148 - accuracy: 0.8340 - val_loss: 0.1157 - val_accuracy: 0.8309\n",
            "Epoch 312/500\n",
            "2985/2985 [==============================] - 5s 2ms/step - loss: 0.1148 - accuracy: 0.8347 - val_loss: 0.1220 - val_accuracy: 0.8236\n",
            "Epoch 313/500\n",
            "2985/2985 [==============================] - 5s 2ms/step - loss: 0.1151 - accuracy: 0.8328 - val_loss: 0.1145 - val_accuracy: 0.8375\n",
            "Epoch 314/500\n",
            "2985/2985 [==============================] - 5s 2ms/step - loss: 0.1149 - accuracy: 0.8336 - val_loss: 0.1150 - val_accuracy: 0.8319\n",
            "Epoch 315/500\n",
            "2985/2985 [==============================] - 7s 2ms/step - loss: 0.1149 - accuracy: 0.8329 - val_loss: 0.1158 - val_accuracy: 0.8331\n",
            "Epoch 316/500\n",
            "2985/2985 [==============================] - 5s 2ms/step - loss: 0.1150 - accuracy: 0.8337 - val_loss: 0.1148 - val_accuracy: 0.8340\n",
            "Epoch 317/500\n",
            "2985/2985 [==============================] - 5s 2ms/step - loss: 0.1149 - accuracy: 0.8339 - val_loss: 0.1145 - val_accuracy: 0.8348\n",
            "Epoch 318/500\n",
            "2985/2985 [==============================] - 6s 2ms/step - loss: 0.1148 - accuracy: 0.8339 - val_loss: 0.1184 - val_accuracy: 0.8278\n",
            "Epoch 319/500\n",
            "2985/2985 [==============================] - 6s 2ms/step - loss: 0.1149 - accuracy: 0.8337 - val_loss: 0.1146 - val_accuracy: 0.8372\n",
            "Epoch 320/500\n",
            "2985/2985 [==============================] - 6s 2ms/step - loss: 0.1145 - accuracy: 0.8353 - val_loss: 0.1157 - val_accuracy: 0.8334\n",
            "Epoch 321/500\n",
            "2985/2985 [==============================] - 5s 2ms/step - loss: 0.1148 - accuracy: 0.8338 - val_loss: 0.1143 - val_accuracy: 0.8391\n",
            "Epoch 322/500\n",
            "2985/2985 [==============================] - 6s 2ms/step - loss: 0.1149 - accuracy: 0.8335 - val_loss: 0.1141 - val_accuracy: 0.8388\n",
            "Epoch 323/500\n",
            "2985/2985 [==============================] - 5s 2ms/step - loss: 0.1149 - accuracy: 0.8345 - val_loss: 0.1154 - val_accuracy: 0.8330\n",
            "Epoch 324/500\n",
            "2985/2985 [==============================] - 6s 2ms/step - loss: 0.1149 - accuracy: 0.8337 - val_loss: 0.1150 - val_accuracy: 0.8329\n",
            "Epoch 325/500\n",
            "2985/2985 [==============================] - 5s 2ms/step - loss: 0.1149 - accuracy: 0.8332 - val_loss: 0.1143 - val_accuracy: 0.8361\n",
            "Epoch 326/500\n",
            "2985/2985 [==============================] - 6s 2ms/step - loss: 0.1146 - accuracy: 0.8341 - val_loss: 0.1143 - val_accuracy: 0.8349\n",
            "Epoch 327/500\n",
            "2985/2985 [==============================] - 6s 2ms/step - loss: 0.1146 - accuracy: 0.8352 - val_loss: 0.1163 - val_accuracy: 0.8290\n",
            "Epoch 328/500\n",
            "2985/2985 [==============================] - 6s 2ms/step - loss: 0.1148 - accuracy: 0.8338 - val_loss: 0.1166 - val_accuracy: 0.8330\n",
            "Epoch 329/500\n",
            "2985/2985 [==============================] - 5s 2ms/step - loss: 0.1146 - accuracy: 0.8337 - val_loss: 0.1160 - val_accuracy: 0.8296\n",
            "Epoch 330/500\n",
            "2985/2985 [==============================] - 5s 2ms/step - loss: 0.1146 - accuracy: 0.8337 - val_loss: 0.1179 - val_accuracy: 0.8296\n",
            "Epoch 331/500\n",
            "2985/2985 [==============================] - 6s 2ms/step - loss: 0.1146 - accuracy: 0.8344 - val_loss: 0.1142 - val_accuracy: 0.8377\n",
            "Epoch 332/500\n",
            "2985/2985 [==============================] - 5s 2ms/step - loss: 0.1145 - accuracy: 0.8347 - val_loss: 0.1171 - val_accuracy: 0.8257\n",
            "Epoch 333/500\n",
            "2985/2985 [==============================] - 6s 2ms/step - loss: 0.1145 - accuracy: 0.8343 - val_loss: 0.1142 - val_accuracy: 0.8360\n",
            "Epoch 334/500\n",
            "2985/2985 [==============================] - 6s 2ms/step - loss: 0.1147 - accuracy: 0.8342 - val_loss: 0.1146 - val_accuracy: 0.8345\n",
            "Epoch 335/500\n",
            "2985/2985 [==============================] - 5s 2ms/step - loss: 0.1146 - accuracy: 0.8348 - val_loss: 0.1142 - val_accuracy: 0.8340\n",
            "Epoch 336/500\n",
            "2985/2985 [==============================] - 6s 2ms/step - loss: 0.1145 - accuracy: 0.8347 - val_loss: 0.1153 - val_accuracy: 0.8313\n",
            "Epoch 337/500\n",
            "2985/2985 [==============================] - 6s 2ms/step - loss: 0.1145 - accuracy: 0.8350 - val_loss: 0.1142 - val_accuracy: 0.8352\n",
            "Epoch 338/500\n",
            "2985/2985 [==============================] - 7s 2ms/step - loss: 0.1145 - accuracy: 0.8347 - val_loss: 0.1137 - val_accuracy: 0.8377\n",
            "Epoch 339/500\n",
            "2985/2985 [==============================] - 6s 2ms/step - loss: 0.1144 - accuracy: 0.8346 - val_loss: 0.1143 - val_accuracy: 0.8363\n",
            "Epoch 340/500\n",
            "2985/2985 [==============================] - 6s 2ms/step - loss: 0.1144 - accuracy: 0.8338 - val_loss: 0.1203 - val_accuracy: 0.8226\n",
            "Epoch 341/500\n",
            "2985/2985 [==============================] - 6s 2ms/step - loss: 0.1145 - accuracy: 0.8343 - val_loss: 0.1159 - val_accuracy: 0.8314\n",
            "Epoch 342/500\n",
            "2985/2985 [==============================] - 6s 2ms/step - loss: 0.1145 - accuracy: 0.8345 - val_loss: 0.1150 - val_accuracy: 0.8340\n",
            "Epoch 343/500\n",
            "2985/2985 [==============================] - 6s 2ms/step - loss: 0.1143 - accuracy: 0.8352 - val_loss: 0.1148 - val_accuracy: 0.8355\n",
            "Epoch 344/500\n",
            "2985/2985 [==============================] - 6s 2ms/step - loss: 0.1144 - accuracy: 0.8350 - val_loss: 0.1150 - val_accuracy: 0.8350\n",
            "Epoch 345/500\n",
            "2985/2985 [==============================] - 6s 2ms/step - loss: 0.1143 - accuracy: 0.8348 - val_loss: 0.1186 - val_accuracy: 0.8239\n",
            "Epoch 346/500\n",
            "2985/2985 [==============================] - 5s 2ms/step - loss: 0.1143 - accuracy: 0.8343 - val_loss: 0.1143 - val_accuracy: 0.8371\n",
            "Epoch 347/500\n",
            "2985/2985 [==============================] - 6s 2ms/step - loss: 0.1145 - accuracy: 0.8354 - val_loss: 0.1140 - val_accuracy: 0.8356\n",
            "Epoch 348/500\n",
            "2985/2985 [==============================] - 5s 2ms/step - loss: 0.1147 - accuracy: 0.8337 - val_loss: 0.1145 - val_accuracy: 0.8365\n",
            "Epoch 349/500\n",
            "2985/2985 [==============================] - 5s 2ms/step - loss: 0.1144 - accuracy: 0.8344 - val_loss: 0.1152 - val_accuracy: 0.8351\n",
            "Epoch 350/500\n",
            "2985/2985 [==============================] - 6s 2ms/step - loss: 0.1143 - accuracy: 0.8350 - val_loss: 0.1143 - val_accuracy: 0.8356\n",
            "Epoch 351/500\n",
            "2985/2985 [==============================] - 5s 2ms/step - loss: 0.1144 - accuracy: 0.8347 - val_loss: 0.1166 - val_accuracy: 0.8331\n",
            "Epoch 352/500\n",
            "2985/2985 [==============================] - 6s 2ms/step - loss: 0.1146 - accuracy: 0.8354 - val_loss: 0.1156 - val_accuracy: 0.8346\n",
            "Epoch 353/500\n",
            "2985/2985 [==============================] - 6s 2ms/step - loss: 0.1144 - accuracy: 0.8346 - val_loss: 0.1143 - val_accuracy: 0.8351\n",
            "Epoch 354/500\n",
            "2985/2985 [==============================] - 6s 2ms/step - loss: 0.1143 - accuracy: 0.8348 - val_loss: 0.1144 - val_accuracy: 0.8373\n",
            "Epoch 355/500\n",
            "2985/2985 [==============================] - 6s 2ms/step - loss: 0.1144 - accuracy: 0.8348 - val_loss: 0.1142 - val_accuracy: 0.8357\n",
            "Epoch 356/500\n",
            "2985/2985 [==============================] - 7s 2ms/step - loss: 0.1142 - accuracy: 0.8357 - val_loss: 0.1134 - val_accuracy: 0.8375\n",
            "Epoch 357/500\n",
            "2985/2985 [==============================] - 6s 2ms/step - loss: 0.1144 - accuracy: 0.8343 - val_loss: 0.1140 - val_accuracy: 0.8364\n",
            "Epoch 358/500\n",
            "2985/2985 [==============================] - 5s 2ms/step - loss: 0.1142 - accuracy: 0.8353 - val_loss: 0.1224 - val_accuracy: 0.8219\n",
            "Epoch 359/500\n",
            "2985/2985 [==============================] - 6s 2ms/step - loss: 0.1142 - accuracy: 0.8351 - val_loss: 0.1153 - val_accuracy: 0.8333\n",
            "Epoch 360/500\n",
            "2985/2985 [==============================] - 6s 2ms/step - loss: 0.1143 - accuracy: 0.8350 - val_loss: 0.1143 - val_accuracy: 0.8340\n",
            "Epoch 361/500\n",
            "2985/2985 [==============================] - 6s 2ms/step - loss: 0.1142 - accuracy: 0.8351 - val_loss: 0.1138 - val_accuracy: 0.8386\n",
            "Epoch 362/500\n",
            "2985/2985 [==============================] - 6s 2ms/step - loss: 0.1143 - accuracy: 0.8351 - val_loss: 0.1140 - val_accuracy: 0.8399\n",
            "Epoch 363/500\n",
            "2985/2985 [==============================] - 6s 2ms/step - loss: 0.1141 - accuracy: 0.8350 - val_loss: 0.1143 - val_accuracy: 0.8355\n",
            "Epoch 364/500\n",
            "2985/2985 [==============================] - 6s 2ms/step - loss: 0.1144 - accuracy: 0.8340 - val_loss: 0.1138 - val_accuracy: 0.8360\n",
            "Epoch 365/500\n",
            "2985/2985 [==============================] - 6s 2ms/step - loss: 0.1142 - accuracy: 0.8350 - val_loss: 0.1199 - val_accuracy: 0.8244\n",
            "Epoch 366/500\n",
            "2985/2985 [==============================] - 6s 2ms/step - loss: 0.1143 - accuracy: 0.8347 - val_loss: 0.1167 - val_accuracy: 0.8339\n",
            "Epoch 367/500\n",
            "2985/2985 [==============================] - 6s 2ms/step - loss: 0.1141 - accuracy: 0.8350 - val_loss: 0.1155 - val_accuracy: 0.8347\n",
            "Epoch 368/500\n",
            "2985/2985 [==============================] - 5s 2ms/step - loss: 0.1143 - accuracy: 0.8353 - val_loss: 0.1139 - val_accuracy: 0.8362\n",
            "Epoch 369/500\n",
            "2985/2985 [==============================] - 6s 2ms/step - loss: 0.1140 - accuracy: 0.8352 - val_loss: 0.1138 - val_accuracy: 0.8366\n",
            "Epoch 370/500\n",
            "2985/2985 [==============================] - 6s 2ms/step - loss: 0.1140 - accuracy: 0.8361 - val_loss: 0.1141 - val_accuracy: 0.8350\n",
            "Epoch 371/500\n",
            "2985/2985 [==============================] - 6s 2ms/step - loss: 0.1142 - accuracy: 0.8350 - val_loss: 0.1143 - val_accuracy: 0.8383\n",
            "Epoch 372/500\n",
            "2985/2985 [==============================] - 6s 2ms/step - loss: 0.1143 - accuracy: 0.8351 - val_loss: 0.1142 - val_accuracy: 0.8360\n",
            "Epoch 373/500\n",
            "2985/2985 [==============================] - 5s 2ms/step - loss: 0.1140 - accuracy: 0.8361 - val_loss: 0.1186 - val_accuracy: 0.8232\n",
            "Epoch 374/500\n",
            "2985/2985 [==============================] - 5s 2ms/step - loss: 0.1141 - accuracy: 0.8345 - val_loss: 0.1141 - val_accuracy: 0.8345\n",
            "Epoch 375/500\n",
            "2985/2985 [==============================] - 5s 2ms/step - loss: 0.1141 - accuracy: 0.8344 - val_loss: 0.1147 - val_accuracy: 0.8345\n",
            "Epoch 376/500\n",
            "2985/2985 [==============================] - 5s 2ms/step - loss: 0.1143 - accuracy: 0.8352 - val_loss: 0.1185 - val_accuracy: 0.8272\n",
            "Epoch 377/500\n",
            "2985/2985 [==============================] - 6s 2ms/step - loss: 0.1143 - accuracy: 0.8347 - val_loss: 0.1190 - val_accuracy: 0.8251\n",
            "Epoch 378/500\n",
            "2985/2985 [==============================] - 6s 2ms/step - loss: 0.1143 - accuracy: 0.8346 - val_loss: 0.1165 - val_accuracy: 0.8284\n",
            "Epoch 379/500\n",
            "2985/2985 [==============================] - 6s 2ms/step - loss: 0.1141 - accuracy: 0.8356 - val_loss: 0.1141 - val_accuracy: 0.8354\n",
            "Epoch 380/500\n",
            "2985/2985 [==============================] - 6s 2ms/step - loss: 0.1140 - accuracy: 0.8347 - val_loss: 0.1145 - val_accuracy: 0.8332\n",
            "Epoch 381/500\n",
            "2985/2985 [==============================] - 5s 2ms/step - loss: 0.1141 - accuracy: 0.8352 - val_loss: 0.1153 - val_accuracy: 0.8327\n",
            "Epoch 382/500\n",
            "2985/2985 [==============================] - 5s 2ms/step - loss: 0.1140 - accuracy: 0.8356 - val_loss: 0.1135 - val_accuracy: 0.8369\n",
            "Epoch 383/500\n",
            "2985/2985 [==============================] - 6s 2ms/step - loss: 0.1141 - accuracy: 0.8347 - val_loss: 0.1134 - val_accuracy: 0.8352\n",
            "Epoch 384/500\n",
            "2985/2985 [==============================] - 6s 2ms/step - loss: 0.1141 - accuracy: 0.8361 - val_loss: 0.1136 - val_accuracy: 0.8393\n",
            "Epoch 385/500\n",
            "2985/2985 [==============================] - 5s 2ms/step - loss: 0.1140 - accuracy: 0.8357 - val_loss: 0.1133 - val_accuracy: 0.8378\n",
            "Epoch 386/500\n",
            "2985/2985 [==============================] - 6s 2ms/step - loss: 0.1138 - accuracy: 0.8361 - val_loss: 0.1221 - val_accuracy: 0.8177\n",
            "Epoch 387/500\n",
            "2985/2985 [==============================] - 6s 2ms/step - loss: 0.1141 - accuracy: 0.8354 - val_loss: 0.1146 - val_accuracy: 0.8356\n",
            "Epoch 388/500\n",
            "2985/2985 [==============================] - 6s 2ms/step - loss: 0.1140 - accuracy: 0.8353 - val_loss: 0.1153 - val_accuracy: 0.8301\n",
            "Epoch 389/500\n",
            "2985/2985 [==============================] - 6s 2ms/step - loss: 0.1138 - accuracy: 0.8362 - val_loss: 0.1138 - val_accuracy: 0.8365\n",
            "Epoch 390/500\n",
            "2985/2985 [==============================] - 5s 2ms/step - loss: 0.1142 - accuracy: 0.8346 - val_loss: 0.1143 - val_accuracy: 0.8365\n",
            "Epoch 391/500\n",
            "2985/2985 [==============================] - 6s 2ms/step - loss: 0.1139 - accuracy: 0.8358 - val_loss: 0.1133 - val_accuracy: 0.8360\n",
            "Epoch 392/500\n",
            "2985/2985 [==============================] - 5s 2ms/step - loss: 0.1139 - accuracy: 0.8358 - val_loss: 0.1141 - val_accuracy: 0.8375\n",
            "Epoch 393/500\n",
            "2985/2985 [==============================] - 6s 2ms/step - loss: 0.1140 - accuracy: 0.8343 - val_loss: 0.1141 - val_accuracy: 0.8373\n",
            "Epoch 394/500\n",
            "2985/2985 [==============================] - 6s 2ms/step - loss: 0.1138 - accuracy: 0.8359 - val_loss: 0.1131 - val_accuracy: 0.8388\n",
            "Epoch 395/500\n",
            "2985/2985 [==============================] - 6s 2ms/step - loss: 0.1138 - accuracy: 0.8359 - val_loss: 0.1188 - val_accuracy: 0.8227\n",
            "Epoch 396/500\n",
            "2985/2985 [==============================] - 6s 2ms/step - loss: 0.1138 - accuracy: 0.8356 - val_loss: 0.1142 - val_accuracy: 0.8368\n",
            "Epoch 397/500\n",
            "2985/2985 [==============================] - 6s 2ms/step - loss: 0.1137 - accuracy: 0.8365 - val_loss: 0.1132 - val_accuracy: 0.8399\n",
            "Epoch 398/500\n",
            "2985/2985 [==============================] - 6s 2ms/step - loss: 0.1136 - accuracy: 0.8361 - val_loss: 0.1140 - val_accuracy: 0.8356\n",
            "Epoch 399/500\n",
            "2985/2985 [==============================] - 6s 2ms/step - loss: 0.1137 - accuracy: 0.8359 - val_loss: 0.1187 - val_accuracy: 0.8258\n",
            "Epoch 400/500\n",
            "2985/2985 [==============================] - 6s 2ms/step - loss: 0.1140 - accuracy: 0.8353 - val_loss: 0.1144 - val_accuracy: 0.8338\n",
            "Epoch 401/500\n",
            "2985/2985 [==============================] - 6s 2ms/step - loss: 0.1137 - accuracy: 0.8363 - val_loss: 0.1133 - val_accuracy: 0.8382\n",
            "Epoch 402/500\n",
            "2985/2985 [==============================] - 6s 2ms/step - loss: 0.1137 - accuracy: 0.8354 - val_loss: 0.1135 - val_accuracy: 0.8398\n",
            "Epoch 403/500\n",
            "2985/2985 [==============================] - 6s 2ms/step - loss: 0.1136 - accuracy: 0.8362 - val_loss: 0.1134 - val_accuracy: 0.8386\n",
            "Epoch 404/500\n",
            "2985/2985 [==============================] - 6s 2ms/step - loss: 0.1137 - accuracy: 0.8349 - val_loss: 0.1160 - val_accuracy: 0.8337\n",
            "Epoch 405/500\n",
            "2985/2985 [==============================] - 6s 2ms/step - loss: 0.1138 - accuracy: 0.8357 - val_loss: 0.1134 - val_accuracy: 0.8386\n",
            "Epoch 406/500\n",
            "2985/2985 [==============================] - 5s 2ms/step - loss: 0.1137 - accuracy: 0.8358 - val_loss: 0.1152 - val_accuracy: 0.8363\n",
            "Epoch 407/500\n",
            "2985/2985 [==============================] - 5s 2ms/step - loss: 0.1137 - accuracy: 0.8355 - val_loss: 0.1137 - val_accuracy: 0.8389\n",
            "Epoch 408/500\n",
            "2985/2985 [==============================] - 5s 2ms/step - loss: 0.1137 - accuracy: 0.8354 - val_loss: 0.1131 - val_accuracy: 0.8379\n",
            "Epoch 409/500\n",
            "2985/2985 [==============================] - 5s 2ms/step - loss: 0.1136 - accuracy: 0.8364 - val_loss: 0.1151 - val_accuracy: 0.8308\n",
            "Epoch 410/500\n",
            "2985/2985 [==============================] - 6s 2ms/step - loss: 0.1138 - accuracy: 0.8352 - val_loss: 0.1144 - val_accuracy: 0.8350\n",
            "Epoch 411/500\n",
            "2985/2985 [==============================] - 5s 2ms/step - loss: 0.1137 - accuracy: 0.8355 - val_loss: 0.1134 - val_accuracy: 0.8393\n",
            "Epoch 412/500\n",
            "2985/2985 [==============================] - 6s 2ms/step - loss: 0.1136 - accuracy: 0.8356 - val_loss: 0.1128 - val_accuracy: 0.8394\n",
            "Epoch 413/500\n",
            "2985/2985 [==============================] - 6s 2ms/step - loss: 0.1138 - accuracy: 0.8354 - val_loss: 0.1186 - val_accuracy: 0.8316\n",
            "Epoch 414/500\n",
            "2985/2985 [==============================] - 6s 2ms/step - loss: 0.1138 - accuracy: 0.8355 - val_loss: 0.1157 - val_accuracy: 0.8348\n",
            "Epoch 415/500\n",
            "2985/2985 [==============================] - 5s 2ms/step - loss: 0.1137 - accuracy: 0.8350 - val_loss: 0.1160 - val_accuracy: 0.8347\n",
            "Epoch 416/500\n",
            "2985/2985 [==============================] - 6s 2ms/step - loss: 0.1134 - accuracy: 0.8366 - val_loss: 0.1132 - val_accuracy: 0.8377\n",
            "Epoch 417/500\n",
            "2985/2985 [==============================] - 6s 2ms/step - loss: 0.1136 - accuracy: 0.8361 - val_loss: 0.1133 - val_accuracy: 0.8378\n",
            "Epoch 418/500\n",
            "2985/2985 [==============================] - 6s 2ms/step - loss: 0.1136 - accuracy: 0.8358 - val_loss: 0.1127 - val_accuracy: 0.8394\n",
            "Epoch 419/500\n",
            "2985/2985 [==============================] - 6s 2ms/step - loss: 0.1136 - accuracy: 0.8355 - val_loss: 0.1131 - val_accuracy: 0.8377\n",
            "Epoch 420/500\n",
            "2985/2985 [==============================] - 5s 2ms/step - loss: 0.1133 - accuracy: 0.8366 - val_loss: 0.1139 - val_accuracy: 0.8330\n",
            "Epoch 421/500\n",
            "2985/2985 [==============================] - 6s 2ms/step - loss: 0.1137 - accuracy: 0.8358 - val_loss: 0.1131 - val_accuracy: 0.8382\n",
            "Epoch 422/500\n",
            "2985/2985 [==============================] - 6s 2ms/step - loss: 0.1135 - accuracy: 0.8369 - val_loss: 0.1138 - val_accuracy: 0.8371\n",
            "Epoch 423/500\n",
            "2985/2985 [==============================] - 6s 2ms/step - loss: 0.1133 - accuracy: 0.8366 - val_loss: 0.1138 - val_accuracy: 0.8363\n",
            "Epoch 424/500\n",
            "2985/2985 [==============================] - 6s 2ms/step - loss: 0.1135 - accuracy: 0.8357 - val_loss: 0.1136 - val_accuracy: 0.8354\n",
            "Epoch 425/500\n",
            "2985/2985 [==============================] - 6s 2ms/step - loss: 0.1131 - accuracy: 0.8370 - val_loss: 0.1152 - val_accuracy: 0.8374\n",
            "Epoch 426/500\n",
            "2985/2985 [==============================] - 6s 2ms/step - loss: 0.1134 - accuracy: 0.8364 - val_loss: 0.1127 - val_accuracy: 0.8394\n",
            "Epoch 427/500\n",
            "2985/2985 [==============================] - 6s 2ms/step - loss: 0.1133 - accuracy: 0.8370 - val_loss: 0.1162 - val_accuracy: 0.8317\n",
            "Epoch 428/500\n",
            "2985/2985 [==============================] - 6s 2ms/step - loss: 0.1135 - accuracy: 0.8359 - val_loss: 0.1159 - val_accuracy: 0.8368\n",
            "Epoch 429/500\n",
            "2985/2985 [==============================] - 6s 2ms/step - loss: 0.1132 - accuracy: 0.8370 - val_loss: 0.1145 - val_accuracy: 0.8355\n",
            "Epoch 430/500\n",
            "2985/2985 [==============================] - 6s 2ms/step - loss: 0.1133 - accuracy: 0.8359 - val_loss: 0.1130 - val_accuracy: 0.8391\n",
            "Epoch 431/500\n",
            "2985/2985 [==============================] - 6s 2ms/step - loss: 0.1133 - accuracy: 0.8372 - val_loss: 0.1128 - val_accuracy: 0.8388\n",
            "Epoch 432/500\n",
            "2985/2985 [==============================] - 6s 2ms/step - loss: 0.1132 - accuracy: 0.8374 - val_loss: 0.1129 - val_accuracy: 0.8376\n",
            "Epoch 433/500\n",
            "2985/2985 [==============================] - 6s 2ms/step - loss: 0.1134 - accuracy: 0.8378 - val_loss: 0.1136 - val_accuracy: 0.8399\n",
            "Epoch 434/500\n",
            "2985/2985 [==============================] - 6s 2ms/step - loss: 0.1133 - accuracy: 0.8373 - val_loss: 0.1131 - val_accuracy: 0.8379\n",
            "Epoch 435/500\n",
            "2985/2985 [==============================] - 7s 2ms/step - loss: 0.1134 - accuracy: 0.8367 - val_loss: 0.1125 - val_accuracy: 0.8407\n",
            "Epoch 436/500\n",
            "2985/2985 [==============================] - 6s 2ms/step - loss: 0.1131 - accuracy: 0.8366 - val_loss: 0.1138 - val_accuracy: 0.8366\n",
            "Epoch 437/500\n",
            "2985/2985 [==============================] - 6s 2ms/step - loss: 0.1133 - accuracy: 0.8373 - val_loss: 0.1150 - val_accuracy: 0.8329\n",
            "Epoch 438/500\n",
            "2985/2985 [==============================] - 6s 2ms/step - loss: 0.1132 - accuracy: 0.8369 - val_loss: 0.1135 - val_accuracy: 0.8397\n",
            "Epoch 439/500\n",
            "2985/2985 [==============================] - 6s 2ms/step - loss: 0.1132 - accuracy: 0.8359 - val_loss: 0.1132 - val_accuracy: 0.8386\n",
            "Epoch 440/500\n",
            "2985/2985 [==============================] - 6s 2ms/step - loss: 0.1131 - accuracy: 0.8366 - val_loss: 0.1132 - val_accuracy: 0.8396\n",
            "Epoch 441/500\n",
            "2985/2985 [==============================] - 6s 2ms/step - loss: 0.1132 - accuracy: 0.8365 - val_loss: 0.1140 - val_accuracy: 0.8352\n",
            "Epoch 442/500\n",
            "2985/2985 [==============================] - 6s 2ms/step - loss: 0.1134 - accuracy: 0.8365 - val_loss: 0.1145 - val_accuracy: 0.8373\n",
            "Epoch 443/500\n",
            "2985/2985 [==============================] - 6s 2ms/step - loss: 0.1131 - accuracy: 0.8371 - val_loss: 0.1132 - val_accuracy: 0.8379\n",
            "Epoch 444/500\n",
            "2985/2985 [==============================] - 6s 2ms/step - loss: 0.1131 - accuracy: 0.8368 - val_loss: 0.1138 - val_accuracy: 0.8386\n",
            "Epoch 445/500\n",
            "2985/2985 [==============================] - 6s 2ms/step - loss: 0.1131 - accuracy: 0.8367 - val_loss: 0.1130 - val_accuracy: 0.8387\n",
            "Epoch 446/500\n",
            "2985/2985 [==============================] - 6s 2ms/step - loss: 0.1132 - accuracy: 0.8371 - val_loss: 0.1134 - val_accuracy: 0.8357\n",
            "Epoch 447/500\n",
            "2985/2985 [==============================] - 6s 2ms/step - loss: 0.1134 - accuracy: 0.8357 - val_loss: 0.1137 - val_accuracy: 0.8355\n",
            "Epoch 448/500\n",
            "2985/2985 [==============================] - 6s 2ms/step - loss: 0.1133 - accuracy: 0.8370 - val_loss: 0.1179 - val_accuracy: 0.8254\n",
            "Epoch 449/500\n",
            "2985/2985 [==============================] - 6s 2ms/step - loss: 0.1133 - accuracy: 0.8368 - val_loss: 0.1128 - val_accuracy: 0.8393\n",
            "Epoch 450/500\n",
            "2985/2985 [==============================] - 6s 2ms/step - loss: 0.1133 - accuracy: 0.8365 - val_loss: 0.1125 - val_accuracy: 0.8407\n",
            "Epoch 451/500\n",
            "2985/2985 [==============================] - 6s 2ms/step - loss: 0.1132 - accuracy: 0.8366 - val_loss: 0.1126 - val_accuracy: 0.8383\n",
            "Epoch 452/500\n",
            "2985/2985 [==============================] - 6s 2ms/step - loss: 0.1132 - accuracy: 0.8359 - val_loss: 0.1134 - val_accuracy: 0.8405\n",
            "Epoch 453/500\n",
            "2985/2985 [==============================] - 6s 2ms/step - loss: 0.1133 - accuracy: 0.8368 - val_loss: 0.1158 - val_accuracy: 0.8304\n",
            "Epoch 454/500\n",
            "2985/2985 [==============================] - 6s 2ms/step - loss: 0.1128 - accuracy: 0.8372 - val_loss: 0.1129 - val_accuracy: 0.8375\n",
            "Epoch 455/500\n",
            "2985/2985 [==============================] - 6s 2ms/step - loss: 0.1130 - accuracy: 0.8370 - val_loss: 0.1165 - val_accuracy: 0.8285\n",
            "Epoch 456/500\n",
            "2985/2985 [==============================] - 6s 2ms/step - loss: 0.1131 - accuracy: 0.8372 - val_loss: 0.1125 - val_accuracy: 0.8392\n",
            "Epoch 457/500\n",
            "2985/2985 [==============================] - 6s 2ms/step - loss: 0.1131 - accuracy: 0.8365 - val_loss: 0.1126 - val_accuracy: 0.8395\n",
            "Epoch 458/500\n",
            "2985/2985 [==============================] - 6s 2ms/step - loss: 0.1131 - accuracy: 0.8371 - val_loss: 0.1146 - val_accuracy: 0.8360\n",
            "Epoch 459/500\n",
            "2985/2985 [==============================] - 6s 2ms/step - loss: 0.1132 - accuracy: 0.8369 - val_loss: 0.1124 - val_accuracy: 0.8378\n",
            "Epoch 460/500\n",
            "2985/2985 [==============================] - 6s 2ms/step - loss: 0.1130 - accuracy: 0.8369 - val_loss: 0.1166 - val_accuracy: 0.8294\n",
            "Epoch 461/500\n",
            "2985/2985 [==============================] - 6s 2ms/step - loss: 0.1130 - accuracy: 0.8366 - val_loss: 0.1129 - val_accuracy: 0.8359\n",
            "Epoch 462/500\n",
            "2985/2985 [==============================] - 6s 2ms/step - loss: 0.1131 - accuracy: 0.8367 - val_loss: 0.1142 - val_accuracy: 0.8360\n",
            "Epoch 463/500\n",
            "2985/2985 [==============================] - 6s 2ms/step - loss: 0.1129 - accuracy: 0.8374 - val_loss: 0.1129 - val_accuracy: 0.8387\n",
            "Epoch 464/500\n",
            "2985/2985 [==============================] - 6s 2ms/step - loss: 0.1132 - accuracy: 0.8372 - val_loss: 0.1143 - val_accuracy: 0.8369\n",
            "Epoch 465/500\n",
            "2985/2985 [==============================] - 6s 2ms/step - loss: 0.1129 - accuracy: 0.8372 - val_loss: 0.1121 - val_accuracy: 0.8417\n",
            "Epoch 466/500\n",
            "2985/2985 [==============================] - 6s 2ms/step - loss: 0.1130 - accuracy: 0.8375 - val_loss: 0.1133 - val_accuracy: 0.8385\n",
            "Epoch 467/500\n",
            "2985/2985 [==============================] - 6s 2ms/step - loss: 0.1130 - accuracy: 0.8372 - val_loss: 0.1135 - val_accuracy: 0.8376\n",
            "Epoch 468/500\n",
            "2985/2985 [==============================] - 6s 2ms/step - loss: 0.1130 - accuracy: 0.8368 - val_loss: 0.1128 - val_accuracy: 0.8384\n",
            "Epoch 469/500\n",
            "2985/2985 [==============================] - 6s 2ms/step - loss: 0.1129 - accuracy: 0.8369 - val_loss: 0.1141 - val_accuracy: 0.8338\n",
            "Epoch 470/500\n",
            "2985/2985 [==============================] - 6s 2ms/step - loss: 0.1132 - accuracy: 0.8368 - val_loss: 0.1136 - val_accuracy: 0.8355\n",
            "Epoch 471/500\n",
            "2985/2985 [==============================] - 6s 2ms/step - loss: 0.1129 - accuracy: 0.8366 - val_loss: 0.1146 - val_accuracy: 0.8368\n",
            "Epoch 472/500\n",
            "2985/2985 [==============================] - 6s 2ms/step - loss: 0.1129 - accuracy: 0.8370 - val_loss: 0.1150 - val_accuracy: 0.8327\n",
            "Epoch 473/500\n",
            "2985/2985 [==============================] - 6s 2ms/step - loss: 0.1130 - accuracy: 0.8374 - val_loss: 0.1123 - val_accuracy: 0.8405\n",
            "Epoch 474/500\n",
            "2985/2985 [==============================] - 7s 2ms/step - loss: 0.1129 - accuracy: 0.8369 - val_loss: 0.1126 - val_accuracy: 0.8393\n",
            "Epoch 475/500\n",
            "2985/2985 [==============================] - 6s 2ms/step - loss: 0.1133 - accuracy: 0.8361 - val_loss: 0.1135 - val_accuracy: 0.8341\n",
            "Epoch 476/500\n",
            "2985/2985 [==============================] - 6s 2ms/step - loss: 0.1129 - accuracy: 0.8372 - val_loss: 0.1126 - val_accuracy: 0.8418\n",
            "Epoch 477/500\n",
            "2985/2985 [==============================] - 6s 2ms/step - loss: 0.1129 - accuracy: 0.8375 - val_loss: 0.1139 - val_accuracy: 0.8350\n",
            "Epoch 478/500\n",
            "2985/2985 [==============================] - 6s 2ms/step - loss: 0.1129 - accuracy: 0.8378 - val_loss: 0.1125 - val_accuracy: 0.8390\n",
            "Epoch 479/500\n",
            "2985/2985 [==============================] - 6s 2ms/step - loss: 0.1128 - accuracy: 0.8371 - val_loss: 0.1120 - val_accuracy: 0.8408\n",
            "Epoch 480/500\n",
            "2985/2985 [==============================] - 6s 2ms/step - loss: 0.1130 - accuracy: 0.8373 - val_loss: 0.1127 - val_accuracy: 0.8384\n",
            "Epoch 481/500\n",
            "2985/2985 [==============================] - 6s 2ms/step - loss: 0.1130 - accuracy: 0.8366 - val_loss: 0.1140 - val_accuracy: 0.8404\n",
            "Epoch 482/500\n",
            "2985/2985 [==============================] - 6s 2ms/step - loss: 0.1130 - accuracy: 0.8368 - val_loss: 0.1135 - val_accuracy: 0.8394\n",
            "Epoch 483/500\n",
            "2985/2985 [==============================] - 6s 2ms/step - loss: 0.1130 - accuracy: 0.8370 - val_loss: 0.1132 - val_accuracy: 0.8378\n",
            "Epoch 484/500\n",
            "2985/2985 [==============================] - 6s 2ms/step - loss: 0.1129 - accuracy: 0.8369 - val_loss: 0.1130 - val_accuracy: 0.8361\n",
            "Epoch 485/500\n",
            "2985/2985 [==============================] - 6s 2ms/step - loss: 0.1128 - accuracy: 0.8374 - val_loss: 0.1140 - val_accuracy: 0.8387\n",
            "Epoch 486/500\n",
            "2985/2985 [==============================] - 6s 2ms/step - loss: 0.1130 - accuracy: 0.8365 - val_loss: 0.1123 - val_accuracy: 0.8389\n",
            "Epoch 487/500\n",
            "2985/2985 [==============================] - 6s 2ms/step - loss: 0.1128 - accuracy: 0.8370 - val_loss: 0.1129 - val_accuracy: 0.8386\n",
            "Epoch 488/500\n",
            "2985/2985 [==============================] - 6s 2ms/step - loss: 0.1130 - accuracy: 0.8370 - val_loss: 0.1231 - val_accuracy: 0.8191\n",
            "Epoch 489/500\n",
            "2985/2985 [==============================] - 6s 2ms/step - loss: 0.1130 - accuracy: 0.8359 - val_loss: 0.1130 - val_accuracy: 0.8382\n",
            "Epoch 490/500\n",
            "2985/2985 [==============================] - 6s 2ms/step - loss: 0.1128 - accuracy: 0.8374 - val_loss: 0.1133 - val_accuracy: 0.8386\n",
            "Epoch 491/500\n",
            "2985/2985 [==============================] - 6s 2ms/step - loss: 0.1127 - accuracy: 0.8375 - val_loss: 0.1122 - val_accuracy: 0.8397\n",
            "Epoch 492/500\n",
            "2985/2985 [==============================] - 6s 2ms/step - loss: 0.1129 - accuracy: 0.8369 - val_loss: 0.1120 - val_accuracy: 0.8394\n",
            "Epoch 493/500\n",
            "2985/2985 [==============================] - 6s 2ms/step - loss: 0.1127 - accuracy: 0.8373 - val_loss: 0.1121 - val_accuracy: 0.8391\n",
            "Epoch 494/500\n",
            "2985/2985 [==============================] - 6s 2ms/step - loss: 0.1128 - accuracy: 0.8370 - val_loss: 0.1131 - val_accuracy: 0.8370\n",
            "Epoch 495/500\n",
            "2985/2985 [==============================] - 6s 2ms/step - loss: 0.1128 - accuracy: 0.8369 - val_loss: 0.1130 - val_accuracy: 0.8369\n",
            "Epoch 496/500\n",
            "2985/2985 [==============================] - 6s 2ms/step - loss: 0.1126 - accuracy: 0.8381 - val_loss: 0.1150 - val_accuracy: 0.8338\n",
            "Epoch 497/500\n",
            "2985/2985 [==============================] - 6s 2ms/step - loss: 0.1127 - accuracy: 0.8373 - val_loss: 0.1144 - val_accuracy: 0.8337\n",
            "Epoch 498/500\n",
            "2985/2985 [==============================] - 6s 2ms/step - loss: 0.1130 - accuracy: 0.8371 - val_loss: 0.1123 - val_accuracy: 0.8385\n",
            "Epoch 499/500\n",
            "2985/2985 [==============================] - 6s 2ms/step - loss: 0.1127 - accuracy: 0.8373 - val_loss: 0.1165 - val_accuracy: 0.8345\n",
            "Epoch 500/500\n",
            "2985/2985 [==============================] - 6s 2ms/step - loss: 0.1127 - accuracy: 0.8370 - val_loss: 0.1119 - val_accuracy: 0.8420\n"
          ]
        }
      ]
    },
    {
      "cell_type": "code",
      "source": [
        "y_pred = model.predict(X_test)\n",
        "y_pred = y_pred > 0.5 \n",
        "\n",
        "mlpAcc  = metrics.accuracy_score(y_test, y_pred)\n",
        "mlpPrec = metrics.precision_score(y_test, y_pred)\n",
        "mlpRec  = metrics.recall_score(y_test, y_pred)\n",
        "mlpF1S  = metrics.f1_score(y_test, y_pred)\n",
        "\n",
        "print(\"Accuracy:\", mlpAcc)\n",
        "print(\"Precision:\", mlpPrec)\n",
        "print(\"Recall:\", mlpRec)\n",
        "print(\"F1 score:\", mlpF1S)\n",
        "\n",
        "print(\"Confusion Matrix: \")\n",
        "print(confusion_matrix(y_test, y_pred))"
      ],
      "metadata": {
        "colab": {
          "base_uri": "https://localhost:8080/"
        },
        "id": "9iHgOMfa3hEF",
        "outputId": "b9181fcd-0f18-4e3f-eed9-39131c0fa634"
      },
      "execution_count": 14,
      "outputs": [
        {
          "output_type": "stream",
          "name": "stdout",
          "text": [
            "Accuracy: 0.8420303207973867\n",
            "Precision: 0.8231920199501247\n",
            "Recall: 0.737159446181331\n",
            "F1 score: 0.777803958529689\n",
            "Confusion Matrix: \n",
            "[[13504  1418]\n",
            " [ 2354  6602]]\n"
          ]
        }
      ]
    },
    {
      "cell_type": "markdown",
      "source": [
        "Algumas análises podem ser feitas para auxiliar no ajuste dos hiperparâmetros da rede:"
      ],
      "metadata": {
        "id": "RFBfXwTD3Kyh"
      }
    },
    {
      "cell_type": "code",
      "source": [
        "# summarize history for loss\n",
        "plt.plot(history.history['loss'])\n",
        "plt.plot(history.history['val_loss'])\n",
        "plt.title('model loss')\n",
        "plt.ylabel('loss')\n",
        "plt.xlabel('epoch')\n",
        "plt.legend(['train', 'test'], loc='best')\n",
        "plt.show()"
      ],
      "metadata": {
        "colab": {
          "base_uri": "https://localhost:8080/",
          "height": 295
        },
        "id": "FfXhxQZJ3OIT",
        "outputId": "e5362106-1e99-49e6-c5a9-b794289fc20c"
      },
      "execution_count": 16,
      "outputs": [
        {
          "output_type": "display_data",
          "data": {
            "text/plain": [
              "<Figure size 432x288 with 1 Axes>"
            ],
            "image/png": "[encoded data removed]"
          },
          "metadata": {
            "needs_background": "light"
          }
        }
      ]
    },
    {
      "cell_type": "code",
      "source": [
        "# summarize history for accuracy\n",
        "plt.plot(history.history['accuracy'])\n",
        "plt.plot(history.history['val_accuracy'])\n",
        "plt.title('model accuracy')\n",
        "plt.ylabel('accuracy')\n",
        "plt.xlabel('epoch')\n",
        "plt.legend(['train', 'test'], loc='best')\n",
        "plt.show()"
      ],
      "metadata": {
        "colab": {
          "base_uri": "https://localhost:8080/",
          "height": 295
        },
        "id": "gS20FXiO3Qbb",
        "outputId": "e51db942-1df9-42a8-9839-95044310a2a3"
      },
      "execution_count": 17,
      "outputs": [
        {
          "output_type": "display_data",
          "data": {
            "text/plain": [
              "<Figure size 432x288 with 1 Axes>"
            ],
            "image/png": "[encoded data removed]"
          },
          "metadata": {
            "needs_background": "light"
          }
        }
      ]
    },
    {
      "cell_type": "markdown",
      "source": [
        "Fazendo uma comparação entre os modelos obtidos, ficamos com:"
      ],
      "metadata": {
        "id": "F4B9t6i-oCum"
      }
    },
    {
      "cell_type": "code",
      "source": [
        "plt.style.use('tableau-colorblind10')\n",
        "\n",
        "X = ['Accuracy','Precision','Recall','F1 Score']\n",
        "\n",
        "dt  = [accDT[4], precDT[4], recDT[4], f1SDT[4]]\n",
        "log = [logAcc, logPrec, logRec, logF1S]\n",
        "svm = [svmAcc, svmPrec, svmRec, svmF1S]\n",
        "mlp = [mlpAcc, mlpPrec, mlpRec, mlpF1S]\n",
        "\n",
        "X_axis = np.arange(len(X))\n",
        "\n",
        "plt.bar(X_axis - 0.3, dt, 0.2, label = 'Decision Tree')\n",
        "plt.bar(X_axis - 0.1, log, 0.2, label = 'Logistic Regression')\n",
        "plt.bar(X_axis + 0.1, svm, 0.2, label = 'SVM')\n",
        "plt.bar(X_axis + 0.3, mlp, 0.2, label = 'MLP')\n",
        " \n",
        "plt.xticks(X_axis, X)\n",
        "plt.xlabel(\"Metrics\")\n",
        "plt.yticks([0.0,0.1,0.2,0.3,0.4,0.5,0.6,0.7,0.8,0.9,1.0])\n",
        "\n",
        "plt.legend(bbox_to_anchor=(1.3, 1.0))\n",
        "\n",
        "plt.show()"
      ],
      "metadata": {
        "colab": {
          "base_uri": "https://localhost:8080/",
          "height": 538
        },
        "id": "ABqSmlnTpnAm",
        "outputId": "f16773d5-c5e5-490d-bb46-c639cddbdd5c"
      },
      "execution_count": 50,
      "outputs": [
        {
          "output_type": "display_data",
          "data": {
            "text/plain": [
              "<Figure size 832x572 with 1 Axes>"
            ],
            "image/png": "[encoded data removed]"
          },
          "metadata": {}
        }
      ]
    },
    {
      "cell_type": "markdown",
      "source": [
        "# Deploy"
      ],
      "metadata": {
        "id": "q0dC-AsBmi8i"
      }
    },
    {
      "cell_type": "markdown",
      "source": [
        "O melhor modelo obtido foi com a Decision Tree, com `max_depth=15`. Vamos salvar esse modelo em um arquivo:"
      ],
      "metadata": {
        "id": "6Fi9TBSHmlxD"
      }
    },
    {
      "cell_type": "code",
      "source": [
        "# Create Decision Tree classifer object\n",
        "clf_dt = tree.DecisionTreeClassifier(criterion=\"gini\", max_depth=15)\n",
        "\n",
        "# Train Decision Tree Classifer\n",
        "clf_dt = clf_dt.fit(X_train,y_train)\n",
        "\n",
        "# Save model\n",
        "pickle.dump(clf_dt, open('model.pkl','wb'))"
      ],
      "metadata": {
        "id": "wbYU5xj3mpVH"
      },
      "execution_count": 25,
      "outputs": []
    }
  ]
}