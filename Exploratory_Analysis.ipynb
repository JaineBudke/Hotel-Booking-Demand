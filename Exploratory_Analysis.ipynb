{
  "nbformat": 4,
  "nbformat_minor": 0,
  "metadata": {
    "colab": {
      "provenance": [],
      "collapsed_sections": [],
      "authorship_tag": "ABX9TyMdt0v25vPW6E8JzGyy750u"
    },
    "kernelspec": {
      "name": "python3",
      "display_name": "Python 3"
    },
    "language_info": {
      "name": "python"
    }
  },
  "cells": [
    {
      "cell_type": "markdown",
      "source": [
        "# Exploratory Data Analysis"
      ],
      "metadata": {
        "id": "FULxV8s8NswI"
      }
    },
    {
      "cell_type": "markdown",
      "source": [
        "Objetivo do projeto:\n",
        "\n",
        "- Explorar o dataset Hotel Booking Demand com o Pandas e Seaborn, extraindo insights sobre cancelamentos."
      ],
      "metadata": {
        "id": "hE6VHorGNx5Z"
      }
    },
    {
      "cell_type": "markdown",
      "source": [
        "## Data Acquisition"
      ],
      "metadata": {
        "id": "MK0yPHRqPqeX"
      }
    },
    {
      "cell_type": "markdown",
      "source": [
        "Vamos importar as bibliotecas necessárias para essa parte da análise:"
      ],
      "metadata": {
        "id": "V2Rl84g3Q1PW"
      }
    },
    {
      "cell_type": "code",
      "execution_count": null,
      "metadata": {
        "id": "8vXGBPnkNne2"
      },
      "outputs": [],
      "source": [
        "import pandas as pd\n",
        "import matplotlib.pyplot as plt\n",
        "import numpy as np\n",
        "\n",
        "import seaborn as sns"
      ]
    },
    {
      "cell_type": "markdown",
      "source": [
        "Vamos carregar o dataset e olhar para as primeiras linhas com o método `head`:"
      ],
      "metadata": {
        "id": "8CPtoYp_QjFV"
      }
    },
    {
      "cell_type": "code",
      "source": [
        "df = pd.read_csv(\"hotel_bookings.csv\")\n",
        "df.head(5)"
      ],
      "metadata": {
        "id": "aHzDLeXsQDDL"
      },
      "execution_count": null,
      "outputs": []
    },
    {
      "cell_type": "markdown",
      "source": [
        "Substituímos os valores booleanos da coluna `is_canceled` por string, a fim de facilitar porteriormente a visualização e vamos dar uma olhada nas colunas do dataset:"
      ],
      "metadata": {
        "id": "x-22z19lQ8R8"
      }
    },
    {
      "cell_type": "code",
      "source": [
        "# replace 1 and 0 (by 'canceled' and 'not canceled')\n",
        "df['is_canceled'].replace({1: 'canceled', 0: 'not canceled'}, inplace = True)\n",
        "\n",
        "# get data summary\n",
        "df.info()"
      ],
      "metadata": {
        "id": "9n7l73k3QabH"
      },
      "execution_count": null,
      "outputs": []
    },
    {
      "cell_type": "markdown",
      "source": [
        "A explicação detalhada de cada coluna está disponível [neste](https://reader.elsevier.com/reader/sd/pii/S2352340918315191?token=83F1F9CEE62DA982747F9B04F0BEF4EE1FF074E1080DDB45264F7FDA03896F8B9F3E2638C293FD26C8E8811AD41CB090&originRegion=us-east-1&originCreation=20221005124056) link."
      ],
      "metadata": {
        "id": "gBc45wyQRwRv"
      }
    },
    {
      "cell_type": "markdown",
      "source": [
        "**Análises sobre o cancelamento:**\n",
        "\n",
        "\n",
        "\n",
        "1.   O tipo de hotel (city hotels and resort hotels) influencia na taxa de cancelamento? \n",
        "2.   A antecedência que a reserva é feita influencia no cancelamento?\n",
        "3.   Existe um cancelamento maior por região?\n",
        "4.   É mais comum ocorrer cancelamento quando crianças são incluídas na reserva? \n",
        "5.   É mais comum ocorrer cancelamento quando a reserva contém mais pessoas?\n",
        "6.   Existe cancelamento maior por período do ano (month)?\n",
        "7.   Quem cancela uma vez, apresenta maior tendência a cancelar novamente?\n",
        "8.   As mudanças na reserva influenciam no cancelamento?\n",
        "9.   A forma de pagamento influencia no cancelamento?\n",
        "10.  Há mais cancelamentos por companias específicas?\n",
        "11.  Há mais cancelamentos por agências específicas? \n",
        "12.  Reserva com vaga para carro influencia no cancelamento? \n",
        "13.  A quantidade reservada de noites de estadia influencia no cancelamento?\n",
        "14.  Mudanças no quarto reservado influenciam no cancelamento? \n",
        "15.  O segmento que fez a reserva influencia no cancelamento?"
      ],
      "metadata": {
        "id": "H3mXL7CtSwhI"
      }
    },
    {
      "cell_type": "markdown",
      "source": [
        "## Exploratory Data Analysis"
      ],
      "metadata": {
        "id": "nrIDdhopTxvk"
      }
    },
    {
      "cell_type": "markdown",
      "source": [
        "Vamos verificar o percentual de cancelamento nesses dados:"
      ],
      "metadata": {
        "id": "i6-9gSGro0Pw"
      }
    },
    {
      "cell_type": "code",
      "source": [
        "isCanceled = len(df[df['is_canceled']=='canceled'])\n",
        "print(\"Percentage cancelation: \", isCanceled/len(df))\n",
        "\n",
        "plt.rcParams['figure.figsize'] = [4, 4]\n",
        "sns.set(style = 'white', font_scale = 1)\n",
        "\n",
        "b_plot = sns.countplot(x=df['is_canceled'], data = df, palette = 'Set2')\n",
        "b_plot = b_plot.set(title=\"Booking status\",xlabel =\"\")"
      ],
      "metadata": {
        "id": "Rp2aGhoqpKpW"
      },
      "execution_count": null,
      "outputs": []
    },
    {
      "cell_type": "markdown",
      "source": [
        "***1. O tipo de hotel (city hotels and resort hotels) influencia na taxa de cancelamento?***"
      ],
      "metadata": {
        "id": "cM9K1eIirJC0"
      }
    },
    {
      "cell_type": "code",
      "source": [
        "plt.rcParams['figure.figsize'] = [6, 5]\n",
        "\n",
        "h_plot = sns.countplot(x=df['hotel'], hue = 'is_canceled', data = df, palette = 'Set2')\n",
        "h_plot = h_plot.set_title(\"Distribution of the hotel based on the booking status\")\n",
        "\n",
        "# cancelations rate\n",
        "resort_canceled = df[(df['hotel']=='Resort Hotel') & (df['is_canceled']=='canceled')]\n",
        "city_canceled = df[(df['hotel']=='City Hotel') & (df['is_canceled']=='canceled')]\n",
        "\n",
        "rate_resort = (len(resort_canceled))/(len(df[df['hotel']=='Resort Hotel']))\n",
        "rate_city   = (len(city_canceled))/(len(df[df['hotel']=='City Hotel']))\n",
        "\n",
        "plt.legend(title='Booking status', loc='upper left')\n",
        "\n",
        "print('Cancelations in resort hotel: ', rate_resort)\n",
        "print('Cancelations in city hotel: ', rate_city)"
      ],
      "metadata": {
        "id": "nzlneC41rUsV"
      },
      "execution_count": null,
      "outputs": []
    },
    {
      "cell_type": "markdown",
      "source": [
        "***Nota:*** City hotels possuem uma taxa de cancelamento maior que resort hotels. "
      ],
      "metadata": {
        "id": "K6GDwcTrsoDO"
      }
    },
    {
      "cell_type": "markdown",
      "source": [
        "***2. A antecedência que a reserva é feita influencia no cancelamento?***"
      ],
      "metadata": {
        "id": "wika1PRXG08A"
      }
    },
    {
      "cell_type": "code",
      "source": [
        "plt.rcParams['figure.figsize'] = [8, 6]\n",
        "\n",
        "h_plot = sns.histplot(data=df, x=\"lead_time\", hue=\"is_canceled\", binwidth=50)\n",
        "\n",
        "h_plot = h_plot.set(title=\"Distribution of the lead time based on the booking status\",\n",
        "                    xlabel=\"Lead Time\")"
      ],
      "metadata": {
        "id": "UP0UqzXOVWPm"
      },
      "execution_count": null,
      "outputs": []
    },
    {
      "cell_type": "markdown",
      "source": [
        "***Nota:*** Quanto maior a antecedência da reserva, maior é a taxa de cancelamento em relação a não cancelamento."
      ],
      "metadata": {
        "id": "a056sscs65Mm"
      }
    },
    {
      "cell_type": "markdown",
      "source": [
        "***3. Existe um cancelamento maior por região?***\n",
        "\n",
        "Primeiro vamos olhar para os países que mais fazem reserva. Definimos um limite de dados necessários para fazer algum tipo de inferência (acima de 1000 linhas no dataset):"
      ],
      "metadata": {
        "id": "jXQE5fjGsUFA"
      }
    },
    {
      "cell_type": "code",
      "source": [
        "plt.rcParams['figure.figsize'] = [7, 5]\n",
        "\n",
        "country = df[\"country\"]\n",
        "\n",
        "# count values of each unique value (country)\n",
        "country_c = country.value_counts()\n",
        "\n",
        "# filter countries with more than 1000 rows\n",
        "country_c = country_c[country_c > 1000]\n",
        "\n",
        "# bar plot\n",
        "c_plot = sns.barplot(x=country_c.index, y=country_c)\n",
        "c_plot = c_plot.set(title=\"Main countries\",xlabel=\"country\",ylabel=\"count\")"
      ],
      "metadata": {
        "id": "NTkKmDavtFSU"
      },
      "execution_count": null,
      "outputs": []
    },
    {
      "cell_type": "markdown",
      "source": [
        "Agora vamos ver esses principais países de origem em relação a taxa de cancelamento:"
      ],
      "metadata": {
        "id": "x80NL6srtVLC"
      }
    },
    {
      "cell_type": "code",
      "source": [
        "# filter countries with more than 1000 rows\n",
        "countries = list(country_c.index)\n",
        "df_filtered = df[df['country'].isin(countries)]\n",
        "\n",
        "plt.rcParams['figure.figsize'] = [9, 5]\n",
        "c_plot = sns.countplot(x=df_filtered['country'], hue = 'is_canceled', data = df_filtered, palette = 'Set2')\n",
        "c_plot = c_plot.set_title(\"Distribution of the main countries based on the booking status\")\n",
        "\n",
        "plt.legend(title='Booking status', loc='upper right')"
      ],
      "metadata": {
        "id": "zePOO6pAtXS_"
      },
      "execution_count": null,
      "outputs": []
    },
    {
      "cell_type": "markdown",
      "source": [
        "***Nota:*** Portugal possui uma taxa de cancelamento maior do que de não cancelamento, mas também é o país com a maior quantidade de reservas."
      ],
      "metadata": {
        "id": "6TRfv2eAuJgJ"
      }
    },
    {
      "cell_type": "markdown",
      "source": [
        "***4. É mais comum ocorrer cancelamento quando crianças são incluídas na reserva?***"
      ],
      "metadata": {
        "id": "hPkOTupnunzN"
      }
    },
    {
      "cell_type": "code",
      "source": [
        "# add column indicating if there are children in the booking\n",
        "df['has_children'] = df['children']+df['babies']\n",
        "df['has_children'] = df['has_children'].apply(lambda x: 'True' if x >= 1 else 'False')\n",
        "\n",
        "child_p = sns.countplot(x=df['has_children'], hue = 'is_canceled', data = df, palette = 'Set2')\n",
        "child_p = child_p.set(title=\"Distribution of the children based on the booking status\", xlabel=\"Has children\")\n",
        "\n",
        "plt.legend(title='Booking status', loc='upper right')\n",
        "\n",
        "# cancelation rate \n",
        "child_canceled    = df[(df['has_children']=='True') & (df['is_canceled']=='canceled')]\n",
        "notChild_canceled = df[(df['has_children']=='False') & (df['is_canceled']=='canceled')]\n",
        "\n",
        "child_canceled    = (len(child_canceled))/(len(df[df['has_children']=='True']))\n",
        "notChild_canceled = (len(notChild_canceled))/(len(df[df['has_children']=='False']))\n",
        "\n",
        "print('Cancelations with children = ', child_canceled)\n",
        "print('Cancelations without children = ', notChild_canceled)"
      ],
      "metadata": {
        "id": "l7An1ghLJJuY"
      },
      "execution_count": null,
      "outputs": []
    },
    {
      "cell_type": "markdown",
      "source": [
        "***Nota:*** Não há diferença significativa no cancelamento de reservas com ou sem crianças."
      ],
      "metadata": {
        "id": "1hI4A955q0AR"
      }
    },
    {
      "cell_type": "markdown",
      "source": [
        "***5. É mais comum ocorrer cancelamento quando a reserva contém mais pessoas?***\n",
        "\n",
        "Vamos adicionar uma coluna com o total de pessoas na reserva: "
      ],
      "metadata": {
        "id": "EsCMhVxvKwFl"
      }
    },
    {
      "cell_type": "code",
      "source": [
        "df['people_count'] = df['children']+df['adults']+df['babies']\n",
        "\n",
        "people_count = df['people_count']\n",
        "people_count.value_counts()"
      ],
      "metadata": {
        "id": "fefkZaqYKxV2"
      },
      "execution_count": null,
      "outputs": []
    },
    {
      "cell_type": "markdown",
      "source": [
        "Podemos observar que as quantidades significativas de dados estão concentradas nas reservas com 1 a 4 pessoas, então vamos analisar a taxa de cancelamento nesses grupos:"
      ],
      "metadata": {
        "id": "1TYa2x2_K8QL"
      }
    },
    {
      "cell_type": "code",
      "source": [
        "# filter by quantity greater than 1 and less than 4\n",
        "df_filtered = df.query(\"people_count <= 4.0 and people_count >= 1.0\")\n",
        "\n",
        "people_p = sns.countplot(x=df_filtered['people_count'], hue = 'is_canceled', data = df_filtered, palette = 'Set2')\n",
        "people_p = people_p.set(title=\"Distribution of the people count based on the booking status\",xlabel=\"People Count\")\n",
        "\n",
        "plt.legend(title='Booking status', loc='upper right')\n",
        "\n",
        "\n",
        "# cancelation rate\n",
        "p1 = df[(df['people_count']==1.0) & (df['is_canceled']=='canceled')]\n",
        "p2 = df[(df['people_count']==2.0) & (df['is_canceled']=='canceled')]\n",
        "p3 = df[(df['people_count']==3.0) & (df['is_canceled']=='canceled')]\n",
        "p4 = df[(df['people_count']==4.0) & (df['is_canceled']=='canceled')]\n",
        "\n",
        "p1_can = (len(p1))/(len(df[df['people_count']==1.0]))\n",
        "p2_can = (len(p2))/(len(df[df['people_count']==2.0]))\n",
        "p3_can = (len(p3))/(len(df[df['people_count']==3.0]))\n",
        "p4_can = (len(p4))/(len(df[df['people_count']==4.0]))\n",
        "\n",
        "print('Cancelations with 1 person = ', p1_can)\n",
        "print('Cancelations with 2 people = ', p2_can)\n",
        "print('Cancelations with 3 people = ', p3_can)\n",
        "print('Cancelations with 4 people = ', p4_can)\n"
      ],
      "metadata": {
        "id": "TpiQb3GLLEY5"
      },
      "execution_count": null,
      "outputs": []
    },
    {
      "cell_type": "markdown",
      "source": [
        "***Nota:*** Não há diferença significativa no cancelamento de acordo com a quantidade de pessoas na reserva."
      ],
      "metadata": {
        "id": "WXIxnHk0sTNj"
      }
    },
    {
      "cell_type": "markdown",
      "source": [
        "***6. Existe cancelamento maior por período do ano (month)?***"
      ],
      "metadata": {
        "id": "VCoprgLjM62v"
      }
    },
    {
      "cell_type": "code",
      "source": [
        "plt.rcParams['figure.figsize'] = [15, 7]\n",
        "\n",
        "m_plot = sns.countplot(x=df['arrival_date_month'], hue = 'is_canceled', data = df, palette = 'Set2',\n",
        "             order = ['January', 'February', 'March', 'April', 'May', 'June',\n",
        "                      'July', 'August', 'September', 'October', 'November', 'December'])\n",
        "\n",
        "m_plot = m_plot.set(title=\"Distribution of the reservations per month based on the booking status\",\n",
        "                    xlabel=\"Month\")\n",
        "\n",
        "plt.legend(title='Booking status', loc='upper right')"
      ],
      "metadata": {
        "id": "a6iUSKSTM_WZ"
      },
      "execution_count": null,
      "outputs": []
    },
    {
      "cell_type": "markdown",
      "source": [
        "***Nota:*** A maior procura por reserva está concentrada nos meses de julho e agosto. Entre os meses de novembro e março há uma taxa de cancelamento maior do que nos outros meses."
      ],
      "metadata": {
        "id": "27kq3BxjszHL"
      }
    },
    {
      "cell_type": "markdown",
      "source": [
        "***7. Quem cancela uma vez, apresenta maior tendência a cancelar novamente?***"
      ],
      "metadata": {
        "id": "jMQmBIkERoUk"
      }
    },
    {
      "cell_type": "code",
      "source": [
        "p_plot = sns.countplot(data=df, x='previous_cancellations', hue='is_canceled')\n",
        "\n",
        "p_plot = p_plot.set(title=\"Distribution of the previous cancellations based on the booking status\",\n",
        "                    xlabel=\"Previous Cancellations\")\n",
        "\n",
        "plt.legend(title='Booking status', loc='upper center')"
      ],
      "metadata": {
        "id": "jKfyqgnfZTR7"
      },
      "execution_count": null,
      "outputs": []
    },
    {
      "cell_type": "markdown",
      "source": [
        "***Nota:*** A maioria dos viajantes não efetuou nenhum cancelamento anteriormente, mas dos que cancelaram uma vez, a taxa de cancelamento é mais alta do que de não cancelamento."
      ],
      "metadata": {
        "id": "HAZfL2UQZgIX"
      }
    },
    {
      "cell_type": "markdown",
      "source": [
        "***8. As mudanças na reserva influenciam no cancelamento?***"
      ],
      "metadata": {
        "id": "DqLTzGmmSfGj"
      }
    },
    {
      "cell_type": "code",
      "source": [
        "booking_p = sns.countplot(x=df['booking_changes'], hue = 'is_canceled', data = df, palette = 'Set2')\n",
        "\n",
        "booking_p = booking_p.set(title=\"Distribution of the booking changes based on the booking status\",\n",
        "                          xlabel=\"Booking Changes\")\n",
        "\n",
        "plt.legend(title='Booking status', loc='upper center')"
      ],
      "metadata": {
        "id": "mkfF1TJWSgi4"
      },
      "execution_count": null,
      "outputs": []
    },
    {
      "cell_type": "markdown",
      "source": [
        "***Nota:*** Não há diferença significativa no cancelamento de acordo com a quantidade de mudanças na reserva."
      ],
      "metadata": {
        "id": "Gw2hJCPfvgHQ"
      }
    },
    {
      "cell_type": "markdown",
      "source": [
        "***9. A forma de pagamento influencia no cancelamento?***"
      ],
      "metadata": {
        "id": "e8s5D3RKSzfc"
      }
    },
    {
      "cell_type": "code",
      "source": [
        "plt.rcParams['figure.figsize'] = [7, 5]\n",
        "\n",
        "dep_p = sns.countplot(x=df['deposit_type'], hue = 'is_canceled', data = df, palette = 'Set2')\n",
        "\n",
        "dep_p = dep_p.set(title = \"Distribution of the deposit type based on the booking status\",\n",
        "                  xlabel=\"Deposit Type\")\n",
        "\n",
        "plt.legend(title='Booking status', loc='upper right')"
      ],
      "metadata": {
        "id": "4hPrdSevS1Gc"
      },
      "execution_count": null,
      "outputs": []
    },
    {
      "cell_type": "markdown",
      "source": [
        "***Nota:*** O depósito ser reembolsável ou não, não influencia na taxa de cancelamento. "
      ],
      "metadata": {
        "id": "SArOnjPYwFCg"
      }
    },
    {
      "cell_type": "markdown",
      "source": [
        "***10. Há mais cancelamentos por companias específicas?***"
      ],
      "metadata": {
        "id": "lY6QomMATalr"
      }
    },
    {
      "cell_type": "code",
      "source": [
        "company = df[\"company\"]\n",
        "\n",
        "# count values of each unique value (company)\n",
        "company_c = company.value_counts()\n",
        "\n",
        "# filter by companies that have more than 200 rows \n",
        "# (reasonable amount to draw some conclusion)\n",
        "company_c = company_c[company_c > 200]\n",
        "\n",
        "companies = list(company_c.index)\n",
        "df_filtered = df[df['company'].isin(companies)]\n",
        "\n",
        "# barplot\n",
        "c_plot = sns.countplot(x=df_filtered['company'], hue = 'is_canceled', data = df_filtered, palette = 'Set2')\n",
        "c_plot.set(title = \"Distribution of the companies based on the booking status\")\n",
        "\n",
        "plt.legend(title='Booking status', loc='upper center')"
      ],
      "metadata": {
        "id": "5wjyFkEhTgaP"
      },
      "execution_count": null,
      "outputs": []
    },
    {
      "cell_type": "markdown",
      "source": [
        "***Nota:*** Das empresas que possuem mais dados no dataset, uma delas possui a quantidade de cancelamentos maior do que de não cancelamentos."
      ],
      "metadata": {
        "id": "d_XSnAvTxKd9"
      }
    },
    {
      "cell_type": "markdown",
      "source": [
        "***11. Há mais cancelamentos por agências específicas?***"
      ],
      "metadata": {
        "id": "pbrUfQ0DTcye"
      }
    },
    {
      "cell_type": "code",
      "source": [
        "agent = df[\"agent\"]\n",
        "\n",
        "# count values of each unique value (company)\n",
        "agent_c = agent.value_counts()\n",
        "\n",
        "# filter by agencies that have more than 1000 rows \n",
        "# (reasonable amount to draw some conclusion)\n",
        "agent_c = agent_c[agent_c > 1000]\n",
        "\n",
        "agents = list(agent_c.index)\n",
        "df_filtered = df[df['agent'].isin(agents)]\n",
        "\n",
        "# batplot\n",
        "a_plot = sns.countplot(x=df_filtered['agent'], hue = 'is_canceled', data = df_filtered, palette = 'Set2')\n",
        "a_plot.set(title = \"Distribution of the agencies based on the booking status\")\n",
        "\n",
        "plt.legend(title='Booking status', loc='upper right')"
      ],
      "metadata": {
        "id": "sD2LIYpfT2vx"
      },
      "execution_count": null,
      "outputs": []
    },
    {
      "cell_type": "markdown",
      "source": [
        "***Nota:*** Das agências que possuem mais dados no dataset, algumas delas possuem a quantidade de cancelamentos maior do que de não cancelamentos."
      ],
      "metadata": {
        "id": "b7_p7Op0yP7-"
      }
    },
    {
      "cell_type": "markdown",
      "source": [
        "***12. Reserva com vaga para carro influencia no cancelamento?***"
      ],
      "metadata": {
        "id": "ZmLms90WURGR"
      }
    },
    {
      "cell_type": "markdown",
      "source": [
        "Vamos primeiro visualizar os valores únicos e respectivas quantidades desse atributo:"
      ],
      "metadata": {
        "id": "n2D99jZwUqK8"
      }
    },
    {
      "cell_type": "code",
      "source": [
        "df['required_car_parking_spaces'].value_counts()"
      ],
      "metadata": {
        "id": "wRstNIuoUngt"
      },
      "execution_count": null,
      "outputs": []
    },
    {
      "cell_type": "markdown",
      "source": [
        "Como são poucos dados com mais de 2 reservas, vamos juntar esses dados em uma nova coluna `has_car`:"
      ],
      "metadata": {
        "id": "yIF6-rvJUx50"
      }
    },
    {
      "cell_type": "code",
      "source": [
        "df['has_car'] = df['required_car_parking_spaces'].apply(lambda x: 'True' if x >= 1 else 'False')\n",
        "\n",
        "dist = sns.countplot(x=df['has_car'], hue = 'is_canceled', data = df, palette = 'Set2')\n",
        "\n",
        "dist.set(title = \"Distribution of the car reservations based on the booking status\",\n",
        "         xlabel = \"Has Car\")\n",
        "\n",
        "plt.legend(title='Booking status', loc='upper right')"
      ],
      "metadata": {
        "id": "D6d_OBbwU6VT"
      },
      "execution_count": null,
      "outputs": []
    },
    {
      "cell_type": "markdown",
      "source": [
        "***Nota:*** A quantidade de reservas com vaga para carro é menor do que sem vaga, mas das reservas com vaga para carro, nenhuma foi cancelada."
      ],
      "metadata": {
        "id": "r0utNnpEzOHs"
      }
    },
    {
      "cell_type": "markdown",
      "source": [
        "***13. A quantidade reservada de noites de estadia influencia no cancelamento?***\n",
        "\n",
        "Vamos criar uma nova coluna com a quantidade total de dias e apresentar o resultado em um histograma: "
      ],
      "metadata": {
        "id": "f-fa4_nCWCzc"
      }
    },
    {
      "cell_type": "code",
      "source": [
        "df['days_total'] = df['stays_in_weekend_nights']+df['stays_in_week_nights']\n",
        "\n",
        "plt.rcParams['figure.figsize'] = [8, 6]\n",
        "\n",
        "d_plot = sns.histplot(data=df, x=\"days_total\", hue=\"is_canceled\", binwidth=3)\n",
        "\n",
        "d_plot.set(title = \"Distribution of the booking days based on the booking status\",\n",
        "           xlabel = \"Booking Days\")\n"
      ],
      "metadata": {
        "id": "z4vXfw4lYIRj"
      },
      "execution_count": null,
      "outputs": []
    },
    {
      "cell_type": "markdown",
      "source": [
        "***Nota:*** Não há diferença significativa no cancelamento de acordo com a quantidade de dias da reserva."
      ],
      "metadata": {
        "id": "S7vLUZBzashy"
      }
    },
    {
      "cell_type": "markdown",
      "source": [
        "***14. Mudanças no quarto reservado influenciam no cancelamento?***\n",
        "\n",
        "Vamos criar uma nova coluna indicando se o quarto reservado foi o mesmo atribuído ao viajante:"
      ],
      "metadata": {
        "id": "OMgnhzCla5_y"
      }
    },
    {
      "cell_type": "code",
      "source": [
        "def isSameRoom(row):\n",
        "    if row['assigned_room_type'] == row['reserved_room_type']:\n",
        "        return 1\n",
        "    else:\n",
        "        return 0\n",
        "\n",
        "df['same_room'] = df.apply(isSameRoom, axis=1)"
      ],
      "metadata": {
        "id": "ZLVgrrlCb31e"
      },
      "execution_count": null,
      "outputs": []
    },
    {
      "cell_type": "code",
      "source": [
        "s_plot = sns.countplot(x=df['same_room'], hue = 'is_canceled', data = df, palette = 'Set2')\n",
        "\n",
        "s_plot.set(xlabel = \"Same Room\")\n",
        "\n",
        "plt.legend(title='Booking status', loc='upper left')"
      ],
      "metadata": {
        "id": "mub_MQKnpGo5"
      },
      "execution_count": null,
      "outputs": []
    },
    {
      "cell_type": "markdown",
      "source": [
        "***Nota:*** Não há diferença significativa no cancelamento de acordo com mudanças do quarto reservado."
      ],
      "metadata": {
        "id": "mC-G3gRl1r5P"
      }
    },
    {
      "cell_type": "markdown",
      "source": [
        "***15. O segmento que fez a reserva influencia no cancelamento?***"
      ],
      "metadata": {
        "id": "sqv_BelMa7-O"
      }
    },
    {
      "cell_type": "code",
      "source": [
        "plt.rcParams['figure.figsize'] = [13, 5]\n",
        "\n",
        "m_plot = sns.countplot(x=df['market_segment'], hue = 'is_canceled', data = df, palette = 'Set2')\n",
        "\n",
        "m_plot.set(title = \"Distribution of the market segment based on the booking status\",\n",
        "           xlabel = \"Market Segment\")\n",
        "\n",
        "plt.legend(title='Booking status', loc='upper left')"
      ],
      "metadata": {
        "id": "x-19PIutrtue"
      },
      "execution_count": null,
      "outputs": []
    },
    {
      "cell_type": "markdown",
      "source": [
        "***Nota:*** A quantidade de reservas realizadas por grupos têm mais cancelamentos do que não cancelamentos."
      ],
      "metadata": {
        "id": "n2xp5gxX2Ucr"
      }
    }
  ]
}